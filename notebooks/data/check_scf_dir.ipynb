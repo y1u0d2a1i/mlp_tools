{
 "cells": [
  {
   "cell_type": "code",
   "execution_count": 1,
   "metadata": {},
   "outputs": [],
   "source": [
    "# SCF計算が完了しているかどうかを確認するためのnotebook\n",
    "# コード自体はmulan上で使われる"
   ]
  },
  {
   "cell_type": "code",
   "execution_count": 2,
   "metadata": {},
   "outputs": [],
   "source": [
    "from glob import glob\n",
    "import os\n",
    "from ase.io.espresso import read_espresso_out\n",
    "import shutil\n",
    "\n",
    "path2result = \"/home/y1u0d2/result/qe/Si/amorphous/result/01\"\n",
    "path2save = \"/home/y1u0d2/result/qe/Si/amorphous/result/save\"\n",
    "\n",
    "scf_dirs = glob(f\"{path2result}/scf*\")\n",
    "\n",
    "count = 0\n",
    "for dir in scf_dirs:\n",
    "    # get ASE atoms object from scf.out\n",
    "    try:\n",
    "        with open(os.path.join(dir, \"scf.out\")) as f:\n",
    "                    atom_gen = read_espresso_out(f, index=slice(None))\n",
    "                    ase_atoms = next(atom_gen)\n",
    "        # copy directory to path2save using shutil\n",
    "        shutil.copytree(dir, os.path.join(path2save, os.path.basename(dir)))\n",
    "        count += 1\n",
    "    except Exception as e:\n",
    "        print(\"Failed: \" ,dir)\n",
    "        continue\n",
    "\n",
    "print(f\"Finished: {count} directories are copied out of {len(scf_dirs)}.\")"
   ]
  },
  {
   "cell_type": "code",
   "execution_count": null,
   "metadata": {},
   "outputs": [],
   "source": []
  }
 ],
 "metadata": {
  "kernelspec": {
   "display_name": "mlp",
   "language": "python",
   "name": "python3"
  },
  "language_info": {
   "codemirror_mode": {
    "name": "ipython",
    "version": 3
   },
   "file_extension": ".py",
   "mimetype": "text/x-python",
   "name": "python",
   "nbconvert_exporter": "python",
   "pygments_lexer": "ipython3",
   "version": "3.11.0"
  },
  "orig_nbformat": 4
 },
 "nbformat": 4,
 "nbformat_minor": 2
}
