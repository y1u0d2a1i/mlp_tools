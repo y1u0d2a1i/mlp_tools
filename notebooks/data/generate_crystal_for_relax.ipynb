{
 "cells": [
  {
   "cell_type": "code",
   "execution_count": 18,
   "metadata": {},
   "outputs": [],
   "source": [
    "# load ASE atom from POSCAR file\n",
    "from ase.io.vasp import read_vasp\n",
    "import matplotlib.pyplot as plt\n",
    "import os\n",
    "import numpy as np\n",
    "from glob import glob\n",
    "import pickle\n",
    "\n",
    "from ase import Atoms\n",
    "from ase.neighborlist import NeighborList\n",
    "from ase.build import make_supercell\n",
    "\n",
    "from ovito.modifiers import CoordinationAnalysisModifier\n",
    "from ovito.pipeline import StaticSource, Pipeline\n",
    "from ovito.io.ase import ase_to_ovito\n",
    "\n",
    "from mlptools.data.structures import generate_crystal\n",
    "from mlptools.io.write import QuantumEspressoWriter"
   ]
  },
  {
   "cell_type": "code",
   "execution_count": 19,
   "metadata": {},
   "outputs": [
    {
     "name": "stdout",
     "output_type": "stream",
     "text": [
      "Number of atoms in original: 6\n",
      "Number of atoms in supercell: 48\n"
     ]
    }
   ],
   "source": [
    "# randomly displace atoms while compressing or expanding the cell\n",
    "path2root = '/Users/y1u0d2/Google Drive/マイドライブ/HamaLab_kotani/QE/SiO2/stishovite__mp-6947'\n",
    "path2POSCAR = os.path.join(path2root, \"original\", \"POSCAR\")\n",
    "path2save = os.path.join(path2root, \"relax\")\n",
    "path2input = os.path.join(path2root, \"input\")\n",
    "\n",
    "original_atoms = read_vasp(path2POSCAR)\n",
    "\n",
    "supercell_atoms = make_supercell(original_atoms, [[2,0,0],[0,2,0],[0,0,2]])\n",
    "\n",
    "print(f\"Number of atoms in original: {len(original_atoms)}\")\n",
    "print(f\"Number of atoms in supercell: {len(supercell_atoms)}\")"
   ]
  },
  {
   "cell_type": "code",
   "execution_count": 17,
   "metadata": {},
   "outputs": [],
   "source": [
    "with open(os.path.join(path2input, \"relax.in\")) as f:\n",
    "    original_scf_input_lines = [s.strip() for s in f.readlines()]\n",
    "\n",
    "for i, atoms in enumerate([supercell_atoms]):\n",
    "    writer = QuantumEspressoWriter(atoms, path2input, scf_filename=\"relax.in\")\n",
    "    scf_input_lines = writer.output()\n",
    "\n",
    "    # create dir\n",
    "    path2result = f'{path2save}/relax_{i}'\n",
    "    if not os.path.exists(path2result):\n",
    "        os.makedirs(path2result)\n",
    "    else:\n",
    "        print(f'{path2result} already exists')\n",
    "\n",
    "    # write scf.in\n",
    "    with open(f'{path2result}/relax.in', 'w') as f:\n",
    "        f.writelines('\\n'.join(scf_input_lines))"
   ]
  },
  {
   "cell_type": "code",
   "execution_count": null,
   "metadata": {},
   "outputs": [],
   "source": []
  }
 ],
 "metadata": {
  "kernelspec": {
   "display_name": ".venv",
   "language": "python",
   "name": "python3"
  },
  "language_info": {
   "codemirror_mode": {
    "name": "ipython",
    "version": 3
   },
   "file_extension": ".py",
   "mimetype": "text/x-python",
   "name": "python",
   "nbconvert_exporter": "python",
   "pygments_lexer": "ipython3",
   "version": "3.10.6"
  },
  "orig_nbformat": 4
 },
 "nbformat": 4,
 "nbformat_minor": 2
}
