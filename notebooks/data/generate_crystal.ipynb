{
 "cells": [
  {
   "attachments": {},
   "cell_type": "markdown",
   "metadata": {},
   "source": [
    "# Create crystal structure for ML from stable structure \n",
    "\n",
    "1. obtain stable structure from materials project\n",
    "2. create supercell\n",
    "3. randomly displace atoms while compressing or expanding the cell"
   ]
  },
  {
   "cell_type": "code",
   "execution_count": 1,
   "metadata": {},
   "outputs": [],
   "source": [
    "# load ASE atom from POSCAR file\n",
    "from ase.io.vasp import read_vasp\n",
    "import matplotlib.pyplot as plt"
   ]
  },
  {
   "cell_type": "code",
   "execution_count": 2,
   "metadata": {},
   "outputs": [],
   "source": [
    "import os\n",
    "import numpy as np\n",
    "from glob import glob\n",
    "import pickle\n",
    "\n",
    "from ase import Atoms\n",
    "from ase.neighborlist import NeighborList\n",
    "from ase.build import make_supercell\n",
    "\n",
    "from ovito.modifiers import CoordinationAnalysisModifier\n",
    "from ovito.pipeline import StaticSource, Pipeline\n",
    "from ovito.io.ase import ase_to_ovito\n",
    "\n",
    "from mlptools.data.structures import generate_crystal\n",
    "from mlptools.io.write import QuantumEspressoWriter\n",
    "\n",
    "def get_rdf(ase_atoms, rcut=6, bins=100) -> np.ndarray:\n",
    "    \"\"\"get radial distribution function val\n",
    "\n",
    "    Args:\n",
    "        rcut (int, optional): cutoff radius. Defaults to 6.\n",
    "        bins (int, optional): _description_. Defaults to 100.\n",
    "\n",
    "    Returns:\n",
    "        np.ndarray: 1st: distance, 2nd: rdf value\n",
    "    \"\"\"\n",
    "    pipeline = Pipeline(source = StaticSource(data=ase_to_ovito(ase_atoms)))\n",
    "    # modifier = CoordinationAnalysisModifier(cutoff=rcut, number_of_bins=bins, partial=True)\n",
    "    modifier = CoordinationAnalysisModifier(cutoff=rcut, number_of_bins=bins)\n",
    "    pipeline.modifiers.append(modifier)\n",
    "    rdf_table = pipeline.compute().tables['coordination-rdf']\n",
    "    return rdf_table"
   ]
  },
  {
   "cell_type": "code",
   "execution_count": 3,
   "metadata": {},
   "outputs": [],
   "source": [
    "# randomly displace atoms while compressing or expanding the cell\n",
    "path2POSCAR = '/Users/y1u0d2/desktop/Lab/result/qe/Si/mp-149/data/POSCAR_amorphous_generation'\n",
    "original_atoms = read_vasp(path2POSCAR)"
   ]
  },
  {
   "cell_type": "code",
   "execution_count": 5,
   "metadata": {},
   "outputs": [
    {
     "name": "stdout",
     "output_type": "stream",
     "text": [
      "8\n",
      "64\n"
     ]
    },
    {
     "data": {
      "text/plain": [
       "(None, None)"
      ]
     },
     "execution_count": 5,
     "metadata": {},
     "output_type": "execute_result"
    }
   ],
   "source": [
    "print(len(original_atoms.positions)), print(len(make_supercell(original_atoms, [[2,0,0],[0,2,0],[0,0,2]]).positions))"
   ]
  },
  {
   "cell_type": "code",
   "execution_count": 13,
   "metadata": {},
   "outputs": [
    {
     "name": "stdout",
     "output_type": "stream",
     "text": [
      "10.887404745878905 0.0 0.0\n",
      "0.0 10.887404745878905 0.0\n",
      "0.0 0.0 10.887404745878905\n",
      "Si 0.375 0.375 0.125\n",
      "Si 0.0 0.25 0.25\n",
      "Si 0.375 0.125 0.375\n",
      "Si 0.0 0.0 0.0\n",
      "Si 0.125 0.375 0.375\n",
      "Si 0.25 0.25 0.0\n",
      "Si 0.125 0.125 0.125\n",
      "Si 0.25 0.0 0.25\n",
      "Si 0.375 0.375 0.625\n",
      "Si 0.0 0.25 0.75\n",
      "Si 0.375 0.125 0.875\n",
      "Si 0.0 0.0 0.5\n",
      "Si 0.125 0.375 0.875\n",
      "Si 0.25 0.25 0.5\n",
      "Si 0.125 0.125 0.625\n",
      "Si 0.25 0.0 0.75\n",
      "Si 0.375 0.875 0.125\n",
      "Si 0.0 0.75 0.25\n",
      "Si 0.375 0.625 0.375\n",
      "Si 0.0 0.5 0.0\n",
      "Si 0.125 0.875 0.375\n",
      "Si 0.25 0.75 0.0\n",
      "Si 0.125 0.625 0.125\n",
      "Si 0.25 0.5 0.25\n",
      "Si 0.375 0.875 0.625\n",
      "Si 0.0 0.75 0.75\n",
      "Si 0.375 0.625 0.875\n",
      "Si 0.0 0.5 0.5\n",
      "Si 0.125 0.875 0.875\n",
      "Si 0.25 0.75 0.5\n",
      "Si 0.125 0.625 0.625\n",
      "Si 0.25 0.5 0.75\n",
      "Si 0.875 0.375 0.125\n",
      "Si 0.5 0.25 0.25\n",
      "Si 0.875 0.125 0.375\n",
      "Si 0.5 0.0 0.0\n",
      "Si 0.625 0.375 0.375\n",
      "Si 0.75 0.25 0.0\n",
      "Si 0.625 0.125 0.125\n",
      "Si 0.75 0.0 0.25\n",
      "Si 0.875 0.375 0.625\n",
      "Si 0.5 0.25 0.75\n",
      "Si 0.875 0.125 0.875\n",
      "Si 0.5 0.0 0.5\n",
      "Si 0.625 0.375 0.875\n",
      "Si 0.75 0.25 0.5\n",
      "Si 0.625 0.125 0.625\n",
      "Si 0.75 0.0 0.75\n",
      "Si 0.875 0.875 0.125\n",
      "Si 0.5 0.75 0.25\n",
      "Si 0.875 0.625 0.375\n",
      "Si 0.5 0.5 0.0\n",
      "Si 0.625 0.875 0.375\n",
      "Si 0.75 0.75 0.0\n",
      "Si 0.625 0.625 0.125\n",
      "Si 0.75 0.5 0.25\n",
      "Si 0.875 0.875 0.625\n",
      "Si 0.5 0.75 0.75\n",
      "Si 0.875 0.625 0.875\n",
      "Si 0.5 0.5 0.5\n",
      "Si 0.625 0.875 0.875\n",
      "Si 0.75 0.75 0.5\n",
      "Si 0.625 0.625 0.625\n",
      "Si 0.75 0.5 0.75\n"
     ]
    }
   ],
   "source": [
    "atoms = make_supercell(original_atoms, [[2,0,0],[0,2,0],[0,0,2]])\n",
    "\n",
    "for cell_vec in atoms.cell[:]:\n",
    "    cell_vec_str = [str(i) for i in cell_vec]\n",
    "    print(\" \".join(cell_vec_str))\n",
    "\n",
    "\n",
    "for position_vec in atoms.get_scaled_positions():\n",
    "    position_vec_str = [str(np.round(i, 5)) for i in position_vec]\n",
    "    print(f\"Si {' '.join(position_vec_str)}\")"
   ]
  },
  {
   "cell_type": "code",
   "execution_count": null,
   "metadata": {},
   "outputs": [
    {
     "name": "stdout",
     "output_type": "stream",
     "text": [
      "0/ 10000\n",
      "100/ 10000\n",
      "200/ 10000\n",
      "300/ 10000\n",
      "400/ 10000\n",
      "500/ 10000\n",
      "600/ 10000\n",
      "700/ 10000\n",
      "800/ 10000\n",
      "900/ 10000\n",
      "1000/ 10000\n",
      "1100/ 10000\n",
      "1200/ 10000\n",
      "1300/ 10000\n",
      "1400/ 10000\n",
      "1500/ 10000\n",
      "1600/ 10000\n",
      "1700/ 10000\n",
      "1800/ 10000\n",
      "1900/ 10000\n",
      "2000/ 10000\n",
      "2100/ 10000\n",
      "2200/ 10000\n",
      "2300/ 10000\n",
      "2400/ 10000\n",
      "2500/ 10000\n",
      "2600/ 10000\n",
      "2700/ 10000\n",
      "2800/ 10000\n",
      "2900/ 10000\n",
      "3000/ 10000\n",
      "3100/ 10000\n",
      "3200/ 10000\n",
      "3300/ 10000\n",
      "3400/ 10000\n",
      "3500/ 10000\n",
      "3600/ 10000\n",
      "3700/ 10000\n",
      "3800/ 10000\n",
      "3900/ 10000\n",
      "4000/ 10000\n",
      "4100/ 10000\n",
      "4200/ 10000\n",
      "4300/ 10000\n",
      "4400/ 10000\n",
      "4500/ 10000\n",
      "4600/ 10000\n",
      "4700/ 10000\n",
      "4800/ 10000\n",
      "4900/ 10000\n",
      "5000/ 10000\n",
      "5100/ 10000\n",
      "5200/ 10000\n",
      "5300/ 10000\n",
      "5400/ 10000\n",
      "5500/ 10000\n",
      "5600/ 10000\n",
      "5700/ 10000\n",
      "5800/ 10000\n",
      "5900/ 10000\n",
      "6000/ 10000\n",
      "6100/ 10000\n",
      "6200/ 10000\n",
      "6300/ 10000\n",
      "6400/ 10000\n",
      "6500/ 10000\n",
      "6600/ 10000\n",
      "6700/ 10000\n",
      "6800/ 10000\n",
      "6900/ 10000\n",
      "7000/ 10000\n",
      "7100/ 10000\n",
      "7200/ 10000\n",
      "7300/ 10000\n",
      "7400/ 10000\n",
      "7500/ 10000\n",
      "7600/ 10000\n",
      "7700/ 10000\n",
      "7800/ 10000\n",
      "7900/ 10000\n",
      "8000/ 10000\n",
      "8100/ 10000\n",
      "8200/ 10000\n",
      "8300/ 10000\n",
      "8400/ 10000\n",
      "8500/ 10000\n",
      "8600/ 10000\n",
      "8700/ 10000\n",
      "8800/ 10000\n",
      "8900/ 10000\n",
      "9000/ 10000\n",
      "9100/ 10000\n",
      "9200/ 10000\n",
      "9300/ 10000\n",
      "9400/ 10000\n",
      "9500/ 10000\n",
      "9600/ 10000\n",
      "9700/ 10000\n",
      "9800/ 10000\n",
      "9900/ 10000\n"
     ]
    }
   ],
   "source": [
    "displacement_list = np.linspace(0.05, 0.20, 20)\n",
    "scale_list = np.linspace(0.6, 1.5, 100)\n",
    "num_samples = 10000\n",
    "\n",
    "all_atoms = []\n",
    "for i in range(num_samples):\n",
    "    # show progress\n",
    "    if i % 100 == 0:\n",
    "        print(f\"{i}/ {num_samples}\")\n",
    "    displacement = np.random.choice(displacement_list)\n",
    "    scale = np.random.choice(scale_list)\n",
    "    atoms = generate_crystal(original_atoms, displacement, scale, supercell_mtx=[[2,0,0],[0,2,0],[0,0,2]])\n",
    "    all_atoms.append(atoms)"
   ]
  },
  {
   "cell_type": "code",
   "execution_count": null,
   "metadata": {},
   "outputs": [],
   "source": [
    "rdf_list = []\n",
    "distance = get_rdf(all_atoms[0], bins=150).xy()[:, 0]\n",
    "for atoms in all_atoms[:100]:\n",
    "    rdf_list.append(get_rdf(atoms, bins=150).xy()[:, 1])\n",
    "\n",
    "rdf_list = np.array(rdf_list)"
   ]
  },
  {
   "cell_type": "code",
   "execution_count": null,
   "metadata": {},
   "outputs": [
    {
     "data": {
      "image/png": "[encoded data removed]",
      "text/plain": [
       "<Figure size 640x480 with 1 Axes>"
      ]
     },
     "metadata": {},
     "output_type": "display_data"
    }
   ],
   "source": [
    "# plot rdf\n",
    "fig, ax = plt.subplots()\n",
    "ax.plot(distance, rdf_list.mean(axis=0), label='displaced')\n",
    "ax.fill_between(distance, rdf_list.mean(axis=0) - rdf_list.std(axis=0), rdf_list.mean(axis=0) + rdf_list.std(axis=0), alpha=0.3)\n",
    "\n",
    "# plot original atoms rdf\n",
    "original_atoms_rdf = get_rdf(original_atoms, bins=150).xy()\n",
    "ax.plot(original_atoms_rdf[:, 0], original_atoms_rdf[:, 1], label='original atoms')\n",
    "ax.legend()\n",
    "ax.set_xlabel('distance')\n",
    "ax.set_ylabel('rdf')\n",
    "plt.show()"
   ]
  },
  {
   "cell_type": "code",
   "execution_count": null,
   "metadata": {},
   "outputs": [],
   "source": [
    "import pickle\n",
    "\n",
    "path2save = \"/Users/y1u0d2/Google Drive/マイドライブ/HamaLab_kotani/QE/SiO2/alpha-quartz__mp-6930/atoms\"\n",
    "for i, atoms in enumerate(all_atoms):\n",
    "    path2target = os.path.join(path2save, f\"ase_atoms_{i}\")\n",
    "    if not os.path.exists(path2target):\n",
    "        os.makedirs(path2target)\n",
    "    # save atoms as pkl\n",
    "    with open(os.path.join(path2target, \"atoms.pkl\"), 'wb') as f:\n",
    "        pickle.dump(atoms, f)"
   ]
  },
  {
   "cell_type": "code",
   "execution_count": null,
   "metadata": {},
   "outputs": [],
   "source": [
    "path_scf_input_template = \"/Users/y1u0d2/Google Drive/マイドライブ/HamaLab_kotani/QE/SiO2/amorphous/input\"\n",
    "path_root_result = \"/Users/y1u0d2/Google Drive/マイドライブ/HamaLab_kotani/QE/SiO2/amorphous/result_sq\"\n",
    "path2atoms = \"/Users/y1u0d2/Google Drive/マイドライブ/HamaLab_kotani/QE/SiO2/amorphous/atoms\"\n",
    "\n",
    "with open(f'{path_scf_input_template}/scf.in') as f:\n",
    "    original_scf_input_lines = [s.strip() for s in f.readlines()]\n",
    "\n",
    "for i, atoms in enumerate(all_atoms):\n",
    "    writer = QuantumEspressoWriter(atoms, path_scf_input_template)\n",
    "    scf_input_lines = writer.output()\n",
    "\n",
    "    # create dir\n",
    "    path2result = f'{path_root_result}/scf_{i}'\n",
    "    if not os.path.exists(path2result):\n",
    "        os.makedirs(path2result)\n",
    "    else:\n",
    "        print(f'{path2result} already exists')\n",
    "\n",
    "    # write scf.in\n",
    "    with open(f'{path2result}/scf.in', 'w') as f:\n",
    "        f.writelines('\\n'.join(scf_input_lines))"
   ]
  },
  {
   "cell_type": "code",
   "execution_count": null,
   "metadata": {},
   "outputs": [],
   "source": []
  }
 ],
 "metadata": {
  "kernelspec": {
   "display_name": "mlp",
   "language": "python",
   "name": "python3"
  },
  "language_info": {
   "codemirror_mode": {
    "name": "ipython",
    "version": 3
   },
   "file_extension": ".py",
   "mimetype": "text/x-python",
   "name": "python",
   "nbconvert_exporter": "python",
   "pygments_lexer": "ipython3",
   "version": "3.10.6"
  },
  "orig_nbformat": 4
 },
 "nbformat": 4,
 "nbformat_minor": 2
}
