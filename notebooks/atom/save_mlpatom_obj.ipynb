{
 "cells": [
  {
   "cell_type": "code",
   "execution_count": 5,
   "metadata": {},
   "outputs": [],
   "source": [
    "from constants.constants import get_silicon_all_scf_data_sd\n",
    "from mlptools.io.read import read_from_format\n",
    "\n",
    "import os\n",
    "import pickle"
   ]
  },
  {
   "cell_type": "code",
   "execution_count": 6,
   "metadata": {},
   "outputs": [],
   "source": [
    "all_scf_data = get_silicon_all_scf_data_sd()"
   ]
  },
  {
   "cell_type": "code",
   "execution_count": 7,
   "metadata": {},
   "outputs": [
    {
     "name": "stdout",
     "output_type": "stream",
     "text": [
      "82577\n"
     ]
    }
   ],
   "source": [
    "print(len(all_scf_data))"
   ]
  },
  {
   "cell_type": "code",
   "execution_count": 9,
   "metadata": {},
   "outputs": [],
   "source": [
    "all_scf_data= list(filter(lambda x: 'dimer' in x, all_scf_data))"
   ]
  },
  {
   "cell_type": "code",
   "execution_count": 10,
   "metadata": {},
   "outputs": [
    {
     "data": {
      "text/plain": [
       "['/Users/y1u0d2/desktop/Lab/result/qe/Si/mp-149_dimer/coord/04/result/scf_33',\n",
       " '/Users/y1u0d2/desktop/Lab/result/qe/Si/mp-149_dimer/coord/04/result/scf_34',\n",
       " '/Users/y1u0d2/desktop/Lab/result/qe/Si/mp-149_dimer/coord/04/result/scf_60',\n",
       " '/Users/y1u0d2/desktop/Lab/result/qe/Si/mp-149_dimer/coord/04/result/scf_94',\n",
       " '/Users/y1u0d2/desktop/Lab/result/qe/Si/mp-149_dimer/coord/04/result/scf_58',\n",
       " '/Users/y1u0d2/desktop/Lab/result/qe/Si/mp-149_dimer/coord/04/result/scf_93',\n",
       " '/Users/y1u0d2/desktop/Lab/result/qe/Si/mp-149_dimer/coord/04/result/scf_67',\n",
       " '/Users/y1u0d2/desktop/Lab/result/qe/Si/mp-149_dimer/coord/04/result/scf_51',\n",
       " '/Users/y1u0d2/desktop/Lab/result/qe/Si/mp-149_dimer/coord/04/result/scf_69',\n",
       " '/Users/y1u0d2/desktop/Lab/result/qe/Si/mp-149_dimer/coord/04/result/scf_56',\n",
       " '/Users/y1u0d2/desktop/Lab/result/qe/Si/mp-149_dimer/coord/04/result/scf_35',\n",
       " '/Users/y1u0d2/desktop/Lab/result/qe/Si/mp-149_dimer/coord/04/result/scf_32',\n",
       " '/Users/y1u0d2/desktop/Lab/result/qe/Si/mp-149_dimer/coord/04/result/scf_68',\n",
       " '/Users/y1u0d2/desktop/Lab/result/qe/Si/mp-149_dimer/coord/04/result/scf_57',\n",
       " '/Users/y1u0d2/desktop/Lab/result/qe/Si/mp-149_dimer/coord/04/result/scf_50',\n",
       " '/Users/y1u0d2/desktop/Lab/result/qe/Si/mp-149_dimer/coord/04/result/scf_59',\n",
       " '/Users/y1u0d2/desktop/Lab/result/qe/Si/mp-149_dimer/coord/04/result/scf_66',\n",
       " '/Users/y1u0d2/desktop/Lab/result/qe/Si/mp-149_dimer/coord/04/result/scf_92',\n",
       " '/Users/y1u0d2/desktop/Lab/result/qe/Si/mp-149_dimer/coord/04/result/scf_95',\n",
       " '/Users/y1u0d2/desktop/Lab/result/qe/Si/mp-149_dimer/coord/04/result/scf_61',\n",
       " '/Users/y1u0d2/desktop/Lab/result/qe/Si/mp-149_dimer/coord/04/result/scf_7',\n",
       " '/Users/y1u0d2/desktop/Lab/result/qe/Si/mp-149_dimer/coord/04/result/scf_0',\n",
       " '/Users/y1u0d2/desktop/Lab/result/qe/Si/mp-149_dimer/coord/04/result/scf_9',\n",
       " '/Users/y1u0d2/desktop/Lab/result/qe/Si/mp-149_dimer/coord/04/result/scf_8',\n",
       " '/Users/y1u0d2/desktop/Lab/result/qe/Si/mp-149_dimer/coord/04/result/scf_1',\n",
       " '/Users/y1u0d2/desktop/Lab/result/qe/Si/mp-149_dimer/coord/04/result/scf_6',\n",
       " '/Users/y1u0d2/desktop/Lab/result/qe/Si/mp-149_dimer/coord/04/result/scf_43',\n",
       " '/Users/y1u0d2/desktop/Lab/result/qe/Si/mp-149_dimer/coord/04/result/scf_88',\n",
       " '/Users/y1u0d2/desktop/Lab/result/qe/Si/mp-149_dimer/coord/04/result/scf_44',\n",
       " '/Users/y1u0d2/desktop/Lab/result/qe/Si/mp-149_dimer/coord/04/result/scf_72',\n",
       " '/Users/y1u0d2/desktop/Lab/result/qe/Si/mp-149_dimer/coord/04/result/scf_86',\n",
       " '/Users/y1u0d2/desktop/Lab/result/qe/Si/mp-149_dimer/coord/04/result/scf_81',\n",
       " '/Users/y1u0d2/desktop/Lab/result/qe/Si/mp-149_dimer/coord/04/result/scf_75',\n",
       " '/Users/y1u0d2/desktop/Lab/result/qe/Si/mp-149_dimer/coord/04/result/scf_21',\n",
       " '/Users/y1u0d2/desktop/Lab/result/qe/Si/mp-149_dimer/coord/04/result/scf_19',\n",
       " '/Users/y1u0d2/desktop/Lab/result/qe/Si/mp-149_dimer/coord/04/result/scf_26',\n",
       " '/Users/y1u0d2/desktop/Lab/result/qe/Si/mp-149_dimer/coord/04/result/scf_10',\n",
       " '/Users/y1u0d2/desktop/Lab/result/qe/Si/mp-149_dimer/coord/04/result/scf_28',\n",
       " '/Users/y1u0d2/desktop/Lab/result/qe/Si/mp-149_dimer/coord/04/result/scf_17',\n",
       " '/Users/y1u0d2/desktop/Lab/result/qe/Si/mp-149_dimer/coord/04/result/scf_74',\n",
       " '/Users/y1u0d2/desktop/Lab/result/qe/Si/mp-149_dimer/coord/04/result/scf_80',\n",
       " '/Users/y1u0d2/desktop/Lab/result/qe/Si/mp-149_dimer/coord/04/result/scf_87',\n",
       " '/Users/y1u0d2/desktop/Lab/result/qe/Si/mp-149_dimer/coord/04/result/scf_73',\n",
       " '/Users/y1u0d2/desktop/Lab/result/qe/Si/mp-149_dimer/coord/04/result/scf_45',\n",
       " '/Users/y1u0d2/desktop/Lab/result/qe/Si/mp-149_dimer/coord/04/result/scf_42',\n",
       " '/Users/y1u0d2/desktop/Lab/result/qe/Si/mp-149_dimer/coord/04/result/scf_89',\n",
       " '/Users/y1u0d2/desktop/Lab/result/qe/Si/mp-149_dimer/coord/04/result/scf_29',\n",
       " '/Users/y1u0d2/desktop/Lab/result/qe/Si/mp-149_dimer/coord/04/result/scf_16',\n",
       " '/Users/y1u0d2/desktop/Lab/result/qe/Si/mp-149_dimer/coord/04/result/scf_11',\n",
       " '/Users/y1u0d2/desktop/Lab/result/qe/Si/mp-149_dimer/coord/04/result/scf_18',\n",
       " '/Users/y1u0d2/desktop/Lab/result/qe/Si/mp-149_dimer/coord/04/result/scf_27',\n",
       " '/Users/y1u0d2/desktop/Lab/result/qe/Si/mp-149_dimer/coord/04/result/scf_20',\n",
       " '/Users/y1u0d2/desktop/Lab/result/qe/Si/mp-149_dimer/coord/04/result/scf_90',\n",
       " '/Users/y1u0d2/desktop/Lab/result/qe/Si/mp-149_dimer/coord/04/result/scf_64',\n",
       " '/Users/y1u0d2/desktop/Lab/result/qe/Si/mp-149_dimer/coord/04/result/scf_63',\n",
       " '/Users/y1u0d2/desktop/Lab/result/qe/Si/mp-149_dimer/coord/04/result/scf_97',\n",
       " '/Users/y1u0d2/desktop/Lab/result/qe/Si/mp-149_dimer/coord/04/result/scf_55',\n",
       " '/Users/y1u0d2/desktop/Lab/result/qe/Si/mp-149_dimer/coord/04/result/scf_52',\n",
       " '/Users/y1u0d2/desktop/Lab/result/qe/Si/mp-149_dimer/coord/04/result/scf_39',\n",
       " '/Users/y1u0d2/desktop/Lab/result/qe/Si/mp-149_dimer/coord/04/result/scf_37',\n",
       " '/Users/y1u0d2/desktop/Lab/result/qe/Si/mp-149_dimer/coord/04/result/scf_30',\n",
       " '/Users/y1u0d2/desktop/Lab/result/qe/Si/mp-149_dimer/coord/04/result/scf_98',\n",
       " '/Users/y1u0d2/desktop/Lab/result/qe/Si/mp-149_dimer/coord/04/result/scf_53',\n",
       " '/Users/y1u0d2/desktop/Lab/result/qe/Si/mp-149_dimer/coord/04/result/scf_54',\n",
       " '/Users/y1u0d2/desktop/Lab/result/qe/Si/mp-149_dimer/coord/04/result/scf_96',\n",
       " '/Users/y1u0d2/desktop/Lab/result/qe/Si/mp-149_dimer/coord/04/result/scf_62',\n",
       " '/Users/y1u0d2/desktop/Lab/result/qe/Si/mp-149_dimer/coord/04/result/scf_65',\n",
       " '/Users/y1u0d2/desktop/Lab/result/qe/Si/mp-149_dimer/coord/04/result/scf_91',\n",
       " '/Users/y1u0d2/desktop/Lab/result/qe/Si/mp-149_dimer/coord/04/result/scf_31',\n",
       " '/Users/y1u0d2/desktop/Lab/result/qe/Si/mp-149_dimer/coord/04/result/scf_36',\n",
       " '/Users/y1u0d2/desktop/Lab/result/qe/Si/mp-149_dimer/coord/04/result/scf_38',\n",
       " '/Users/y1u0d2/desktop/Lab/result/qe/Si/mp-149_dimer/coord/04/result/scf_3',\n",
       " '/Users/y1u0d2/desktop/Lab/result/qe/Si/mp-149_dimer/coord/04/result/scf_4',\n",
       " '/Users/y1u0d2/desktop/Lab/result/qe/Si/mp-149_dimer/coord/04/result/scf_5',\n",
       " '/Users/y1u0d2/desktop/Lab/result/qe/Si/mp-149_dimer/coord/04/result/scf_2',\n",
       " '/Users/y1u0d2/desktop/Lab/result/qe/Si/mp-149_dimer/coord/04/result/scf_25',\n",
       " '/Users/y1u0d2/desktop/Lab/result/qe/Si/mp-149_dimer/coord/04/result/scf_22',\n",
       " '/Users/y1u0d2/desktop/Lab/result/qe/Si/mp-149_dimer/coord/04/result/scf_14',\n",
       " '/Users/y1u0d2/desktop/Lab/result/qe/Si/mp-149_dimer/coord/04/result/scf_13',\n",
       " '/Users/y1u0d2/desktop/Lab/result/qe/Si/mp-149_dimer/coord/04/result/scf_47',\n",
       " '/Users/y1u0d2/desktop/Lab/result/qe/Si/mp-149_dimer/coord/04/result/scf_78',\n",
       " '/Users/y1u0d2/desktop/Lab/result/qe/Si/mp-149_dimer/coord/04/result/scf_40',\n",
       " '/Users/y1u0d2/desktop/Lab/result/qe/Si/mp-149_dimer/coord/04/result/scf_82',\n",
       " '/Users/y1u0d2/desktop/Lab/result/qe/Si/mp-149_dimer/coord/04/result/scf_76',\n",
       " '/Users/y1u0d2/desktop/Lab/result/qe/Si/mp-149_dimer/coord/04/result/scf_49',\n",
       " '/Users/y1u0d2/desktop/Lab/result/qe/Si/mp-149_dimer/coord/04/result/scf_71',\n",
       " '/Users/y1u0d2/desktop/Lab/result/qe/Si/mp-149_dimer/coord/04/result/scf_85',\n",
       " '/Users/y1u0d2/desktop/Lab/result/qe/Si/mp-149_dimer/coord/04/result/scf_12',\n",
       " '/Users/y1u0d2/desktop/Lab/result/qe/Si/mp-149_dimer/coord/04/result/scf_15',\n",
       " '/Users/y1u0d2/desktop/Lab/result/qe/Si/mp-149_dimer/coord/04/result/scf_23',\n",
       " '/Users/y1u0d2/desktop/Lab/result/qe/Si/mp-149_dimer/coord/04/result/scf_24',\n",
       " '/Users/y1u0d2/desktop/Lab/result/qe/Si/mp-149_dimer/coord/04/result/scf_84',\n",
       " '/Users/y1u0d2/desktop/Lab/result/qe/Si/mp-149_dimer/coord/04/result/scf_70',\n",
       " '/Users/y1u0d2/desktop/Lab/result/qe/Si/mp-149_dimer/coord/04/result/scf_77',\n",
       " '/Users/y1u0d2/desktop/Lab/result/qe/Si/mp-149_dimer/coord/04/result/scf_83',\n",
       " '/Users/y1u0d2/desktop/Lab/result/qe/Si/mp-149_dimer/coord/04/result/scf_48',\n",
       " '/Users/y1u0d2/desktop/Lab/result/qe/Si/mp-149_dimer/coord/04/result/scf_41',\n",
       " '/Users/y1u0d2/desktop/Lab/result/qe/Si/mp-149_dimer/coord/04/result/scf_46',\n",
       " '/Users/y1u0d2/desktop/Lab/result/qe/Si/mp-149_dimer/coord/04/result/scf_79']"
      ]
     },
     "execution_count": 10,
     "metadata": {},
     "output_type": "execute_result"
    }
   ],
   "source": [
    "all_scf_data"
   ]
  },
  {
   "cell_type": "code",
   "execution_count": 11,
   "metadata": {},
   "outputs": [
    {
     "name": "stdout",
     "output_type": "stream",
     "text": [
      "/Users/y1u0d2/desktop/Lab/result/qe/Si/mp-149_dimer/coord/04/result/scf_33\n",
      "/Users/y1u0d2/desktop/Lab/result/qe/Si/mp-149_dimer/coord/04/result/scf_34\n",
      "/Users/y1u0d2/desktop/Lab/result/qe/Si/mp-149_dimer/coord/04/result/scf_94\n",
      "/Users/y1u0d2/desktop/Lab/result/qe/Si/mp-149_dimer/coord/04/result/scf_93\n",
      "/Users/y1u0d2/desktop/Lab/result/qe/Si/mp-149_dimer/coord/04/result/scf_35\n",
      "/Users/y1u0d2/desktop/Lab/result/qe/Si/mp-149_dimer/coord/04/result/scf_68\n",
      "/Users/y1u0d2/desktop/Lab/result/qe/Si/mp-149_dimer/coord/04/result/scf_66\n",
      "/Users/y1u0d2/desktop/Lab/result/qe/Si/mp-149_dimer/coord/04/result/scf_92\n",
      "/Users/y1u0d2/desktop/Lab/result/qe/Si/mp-149_dimer/coord/04/result/scf_95\n",
      "/Users/y1u0d2/desktop/Lab/result/qe/Si/mp-149_dimer/coord/04/result/scf_0\n",
      "/Users/y1u0d2/desktop/Lab/result/qe/Si/mp-149_dimer/coord/04/result/scf_1\n",
      "/Users/y1u0d2/desktop/Lab/result/qe/Si/mp-149_dimer/coord/04/result/scf_88\n",
      "/Users/y1u0d2/desktop/Lab/result/qe/Si/mp-149_dimer/coord/04/result/scf_72\n",
      "/Users/y1u0d2/desktop/Lab/result/qe/Si/mp-149_dimer/coord/04/result/scf_86\n",
      "/Users/y1u0d2/desktop/Lab/result/qe/Si/mp-149_dimer/coord/04/result/scf_81\n",
      "/Users/y1u0d2/desktop/Lab/result/qe/Si/mp-149_dimer/coord/04/result/scf_75\n",
      "/Users/y1u0d2/desktop/Lab/result/qe/Si/mp-149_dimer/coord/04/result/scf_74\n",
      "/Users/y1u0d2/desktop/Lab/result/qe/Si/mp-149_dimer/coord/04/result/scf_80\n",
      "/Users/y1u0d2/desktop/Lab/result/qe/Si/mp-149_dimer/coord/04/result/scf_87\n",
      "/Users/y1u0d2/desktop/Lab/result/qe/Si/mp-149_dimer/coord/04/result/scf_73\n",
      "/Users/y1u0d2/desktop/Lab/result/qe/Si/mp-149_dimer/coord/04/result/scf_89\n",
      "/Users/y1u0d2/desktop/Lab/result/qe/Si/mp-149_dimer/coord/04/result/scf_90\n",
      "/Users/y1u0d2/desktop/Lab/result/qe/Si/mp-149_dimer/coord/04/result/scf_64\n",
      "/Users/y1u0d2/desktop/Lab/result/qe/Si/mp-149_dimer/coord/04/result/scf_97\n",
      "/Users/y1u0d2/desktop/Lab/result/qe/Si/mp-149_dimer/coord/04/result/scf_98\n",
      "/Users/y1u0d2/desktop/Lab/result/qe/Si/mp-149_dimer/coord/04/result/scf_96\n",
      "/Users/y1u0d2/desktop/Lab/result/qe/Si/mp-149_dimer/coord/04/result/scf_65\n",
      "/Users/y1u0d2/desktop/Lab/result/qe/Si/mp-149_dimer/coord/04/result/scf_91\n",
      "/Users/y1u0d2/desktop/Lab/result/qe/Si/mp-149_dimer/coord/04/result/scf_3\n",
      "/Users/y1u0d2/desktop/Lab/result/qe/Si/mp-149_dimer/coord/04/result/scf_2\n",
      "/Users/y1u0d2/desktop/Lab/result/qe/Si/mp-149_dimer/coord/04/result/scf_78\n",
      "/Users/y1u0d2/desktop/Lab/result/qe/Si/mp-149_dimer/coord/04/result/scf_82\n",
      "/Users/y1u0d2/desktop/Lab/result/qe/Si/mp-149_dimer/coord/04/result/scf_76\n",
      "/Users/y1u0d2/desktop/Lab/result/qe/Si/mp-149_dimer/coord/04/result/scf_71\n",
      "/Users/y1u0d2/desktop/Lab/result/qe/Si/mp-149_dimer/coord/04/result/scf_85\n",
      "/Users/y1u0d2/desktop/Lab/result/qe/Si/mp-149_dimer/coord/04/result/scf_84\n",
      "/Users/y1u0d2/desktop/Lab/result/qe/Si/mp-149_dimer/coord/04/result/scf_77\n",
      "/Users/y1u0d2/desktop/Lab/result/qe/Si/mp-149_dimer/coord/04/result/scf_83\n",
      "/Users/y1u0d2/desktop/Lab/result/qe/Si/mp-149_dimer/coord/04/result/scf_79\n"
     ]
    }
   ],
   "source": [
    "pickle_dump_filename = 'mlpatoms.pkl'\n",
    "for path in all_scf_data:\n",
    "    # if os.path.exists(os.path.join(path, pickle_dump_filename)):\n",
    "    #     continue\n",
    "    try:\n",
    "        mlpatoms = read_from_format(path, format='espresso-in')\n",
    "        mlpatoms.set_distance_btw_nearest_neighbor()\n",
    "        with open(os.path.join(path, pickle_dump_filename), \"wb\") as f:\n",
    "            pickle.dump(mlpatoms, f)\n",
    "    except:\n",
    "        print(f'{path}')\n",
    "        continue"
   ]
  },
  {
   "cell_type": "code",
   "execution_count": 4,
   "metadata": {},
   "outputs": [],
   "source": [
    "rcut = 8\n",
    "aseatoms = mlpatoms.get_ase_atoms() "
   ]
  },
  {
   "cell_type": "code",
   "execution_count": 5,
   "metadata": {},
   "outputs": [
    {
     "name": "stdout",
     "output_type": "stream",
     "text": [
      "[2.398705468508431, 2.43810749366886, 2.4043930938985416, 2.378242602564654, 2.431540457386736, 2.4381605958608934, 2.365633660458441, 2.4050930079324386, 2.5105519924619166, 2.463517514240309, 2.503761296106869, 2.4373639415034534, 2.5032958600936985, 2.4638853720577694, 2.412912808851627, 2.41119516554265, 2.3651957828683017, 2.430794896441389, 2.476725974980428, 2.371837339495428, 2.424581872707384, 2.405415976489826, 2.39902929698644, 2.4521921478956847, 4.007106427865998, 2.4919954110754796, 3.9748115215825344, 2.4867164425371264, 3.991080851676335, 2.484632979859299, 3.9346747704312555, 2.450449202267362, 2.4120541400906093, 2.424261457498809, 2.4312209592633702, 2.404446940672947, 2.490072354252934, 2.358755091074367, 2.4251158039784912, 2.4503963663799873, 2.391326523722346, 2.5296378617711768, 2.463570068720038, 2.543012019068186, 2.477091871290658, 2.529842578858268, 2.404554630604283, 2.450502037015528, 2.4530367666615294, 2.417871010131951, 2.4918915, 2.4260232174533596, 2.4121614904017616, 2.470733264657985, 2.529433128115518, 2.417656811778402, 5.5755114426637125, 3.966611033387759, 3.9185842562221693, 3.951043836827364, 4.047628497698035, 3.9108948977396474, 3.9668068686716405, 3.967002694287906] 2.358755091074367\n"
     ]
    }
   ],
   "source": [
    "from ase.neighborlist import NeighborList\n",
    "\n",
    "nl = NeighborList([rcut/2]*mlpatoms.n_atoms, self_interaction=False, bothways=False)\n",
    "nl.update(aseatoms)\n",
    "\n",
    "min_distance_list = []\n",
    "for i in range(mlpatoms.n_atoms): \n",
    "    nearest_neighbors = nl.get_neighbors(i)[0]\n",
    "    distances = aseatoms.get_distances(i, nearest_neighbors, mic=True)\n",
    "    # print(min(distances))\n",
    "    min_distance_list.append(min(distances))\n",
    "\n",
    "print(min_distance_list, min(min_distance_list))"
   ]
  },
  {
   "cell_type": "code",
   "execution_count": 6,
   "metadata": {},
   "outputs": [
    {
     "data": {
      "text/plain": [
       "2.358755091074367"
      ]
     },
     "execution_count": 6,
     "metadata": {},
     "output_type": "execute_result"
    }
   ],
   "source": [
    "mlpatoms.set_distance_btw_nearest_neighbor()\n",
    "mlpatoms.distance_btw_nearest_neighbor"
   ]
  },
  {
   "cell_type": "code",
   "execution_count": 7,
   "metadata": {},
   "outputs": [],
   "source": [
    "rdf = mlpatoms.get_rdf(rcut=6, bins=100)"
   ]
  },
  {
   "cell_type": "code",
   "execution_count": 13,
   "metadata": {},
   "outputs": [],
   "source": [
    "import pickle\n",
    "\n",
    "pickled_data = pickle.dumps(mlpatoms)"
   ]
  },
  {
   "cell_type": "code",
   "execution_count": 22,
   "metadata": {},
   "outputs": [],
   "source": [
    "import os\n",
    "with open(os.path.join(path, 'mlpatoms.pkl'), \"wb\") as f:\n",
    "    pickle.dump(mlpatoms, f)"
   ]
  },
  {
   "cell_type": "code",
   "execution_count": 25,
   "metadata": {},
   "outputs": [],
   "source": [
    "with open(os.path.join(path, 'mlpatoms.pkl'), \"rb\") as f:\n",
    "    a = pickle.load(f)"
   ]
  },
  {
   "cell_type": "code",
   "execution_count": 27,
   "metadata": {},
   "outputs": [
    {
     "data": {
      "text/plain": [
       "2.358755091074367"
      ]
     },
     "execution_count": 27,
     "metadata": {},
     "output_type": "execute_result"
    }
   ],
   "source": []
  },
  {
   "cell_type": "code",
   "execution_count": null,
   "metadata": {},
   "outputs": [],
   "source": []
  }
 ],
 "metadata": {
  "kernelspec": {
   "display_name": "ml",
   "language": "python",
   "name": "python3"
  },
  "language_info": {
   "codemirror_mode": {
    "name": "ipython",
    "version": 3
   },
   "file_extension": ".py",
   "mimetype": "text/x-python",
   "name": "python",
   "nbconvert_exporter": "python",
   "pygments_lexer": "ipython3",
   "version": "3.10.6"
  },
  "orig_nbformat": 4,
  "vscode": {
   "interpreter": {
    "hash": "523738ac47dcf7681d48eb184ac702eac622ded297e68c9c931bbc5de5caff01"
   }
  }
 },
 "nbformat": 4,
 "nbformat_minor": 2
}
