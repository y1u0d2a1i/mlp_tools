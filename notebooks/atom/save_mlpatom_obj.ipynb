{
 "cells": [
  {
   "cell_type": "code",
   "execution_count": 2,
   "metadata": {},
   "outputs": [],
   "source": [
    "from constants.constants import get_silicon_all_scf_data_sd\n",
    "from mlptools.io.read import read_from_format"
   ]
  },
  {
   "cell_type": "code",
   "execution_count": 3,
   "metadata": {},
   "outputs": [],
   "source": [
    "all_scf_data = get_silicon_all_scf_data_sd()"
   ]
  },
  {
   "cell_type": "code",
   "execution_count": 4,
   "metadata": {},
   "outputs": [
    {
     "name": "stdout",
     "output_type": "stream",
     "text": [
      "/Users/y1u0d2/desktop/Lab/result/qe/Si/mp-149/coord/sd/03/result/scf_33\n"
     ]
    }
   ],
   "source": [
    "for path in all_scf_data:\n",
    "    print(path)\n",
    "    mlpatoms = read_from_format(path, format='espresso-in')\n",
    "    break"
   ]
  },
  {
   "cell_type": "code",
   "execution_count": 5,
   "metadata": {},
   "outputs": [],
   "source": [
    "rcut = 8\n",
    "aseatoms = mlpatoms.get_ase_atoms() "
   ]
  },
  {
   "cell_type": "code",
   "execution_count": 6,
   "metadata": {},
   "outputs": [
    {
     "name": "stdout",
     "output_type": "stream",
     "text": [
      "[2.398705468508431, 2.43810749366886, 2.4043930938985416, 2.378242602564654, 2.431540457386736, 2.4381605958608934, 2.365633660458441, 2.4050930079324386, 2.5105519924619166, 2.463517514240309, 2.503761296106869, 2.4373639415034534, 2.5032958600936985, 2.4638853720577694, 2.412912808851627, 2.41119516554265, 2.3651957828683017, 2.430794896441389, 2.476725974980428, 2.371837339495428, 2.424581872707384, 2.405415976489826, 2.39902929698644, 2.4521921478956847, 4.007106427865998, 2.4919954110754796, 3.9748115215825344, 2.4867164425371264, 3.991080851676335, 2.484632979859299, 3.9346747704312555, 2.450449202267362, 2.4120541400906093, 2.424261457498809, 2.4312209592633702, 2.404446940672947, 2.490072354252934, 2.358755091074367, 2.4251158039784912, 2.4503963663799873, 2.391326523722346, 2.5296378617711768, 2.463570068720038, 2.543012019068186, 2.477091871290658, 2.529842578858268, 2.404554630604283, 2.450502037015528, 2.4530367666615294, 2.417871010131951, 2.4918915, 2.4260232174533596, 2.4121614904017616, 2.470733264657985, 2.529433128115518, 2.417656811778402, 5.5755114426637125, 3.966611033387759, 3.9185842562221693, 3.951043836827364, 4.047628497698035, 3.9108948977396474, 3.9668068686716405, 3.967002694287906] 2.358755091074367\n"
     ]
    }
   ],
   "source": [
    "from ase.neighborlist import NeighborList\n",
    "\n",
    "nl = NeighborList([rcut/2]*mlpatoms.n_atoms, self_interaction=False, bothways=False)\n",
    "nl.update(aseatoms)\n",
    "\n",
    "min_distance_list = []\n",
    "for i in range(mlpatoms.n_atoms): \n",
    "    nearest_neighbors = nl.get_neighbors(i)[0]\n",
    "    distances = aseatoms.get_distances(i, nearest_neighbors, mic=True)\n",
    "    # print(min(distances))\n",
    "    min_distance_list.append(min(distances))\n",
    "\n",
    "print(min_distance_list, min(min_distance_list))"
   ]
  },
  {
   "cell_type": "code",
   "execution_count": 7,
   "metadata": {},
   "outputs": [
    {
     "data": {
      "text/plain": [
       "2.358755091074367"
      ]
     },
     "execution_count": 7,
     "metadata": {},
     "output_type": "execute_result"
    }
   ],
   "source": [
    "mlpatoms.set_distance_btw_nearest_neighbor()\n",
    "mlpatoms.distance_btw_nearest_neighbor"
   ]
  },
  {
   "cell_type": "code",
   "execution_count": 9,
   "metadata": {},
   "outputs": [],
   "source": [
    "rdf = mlpatoms.get_rdf(rcut=6, bins=100)"
   ]
  },
  {
   "cell_type": "code",
   "execution_count": 10,
   "metadata": {},
   "outputs": [
    {
     "data": {
      "text/plain": [
       "array([[0.03      , 0.        ],\n",
       "       [0.09      , 0.        ],\n",
       "       [0.15      , 0.        ],\n",
       "       [0.21      , 0.        ],\n",
       "       [0.27      , 0.        ],\n",
       "       [0.33      , 0.        ],\n",
       "       [0.39      , 0.        ],\n",
       "       [0.45      , 0.        ],\n",
       "       [0.51      , 0.        ],\n",
       "       [0.57      , 0.        ],\n",
       "       [0.63      , 0.        ],\n",
       "       [0.69      , 0.        ],\n",
       "       [0.75      , 0.        ],\n",
       "       [0.81      , 0.        ],\n",
       "       [0.87      , 0.        ],\n",
       "       [0.93      , 0.        ],\n",
       "       [0.99      , 0.        ],\n",
       "       [1.05      , 0.        ],\n",
       "       [1.11      , 0.        ],\n",
       "       [1.17      , 0.        ],\n",
       "       [1.23      , 0.        ],\n",
       "       [1.29      , 0.        ],\n",
       "       [1.35      , 0.        ],\n",
       "       [1.41      , 0.        ],\n",
       "       [1.47      , 0.        ],\n",
       "       [1.53      , 0.        ],\n",
       "       [1.59      , 0.        ],\n",
       "       [1.65      , 0.        ],\n",
       "       [1.71      , 0.        ],\n",
       "       [1.77      , 0.        ],\n",
       "       [1.83      , 0.        ],\n",
       "       [1.89      , 0.        ],\n",
       "       [1.95      , 0.        ],\n",
       "       [2.01      , 0.        ],\n",
       "       [2.07      , 0.        ],\n",
       "       [2.13      , 0.        ],\n",
       "       [2.19      , 0.        ],\n",
       "       [2.25      , 0.        ],\n",
       "       [2.31      , 0.        ],\n",
       "       [2.37      , 1.35873285],\n",
       "       [2.43      , 7.43168332],\n",
       "       [2.49      , 9.69359379],\n",
       "       [2.55      , 1.61382435],\n",
       "       [2.61      , 0.        ],\n",
       "       [2.67      , 0.        ],\n",
       "       [2.73      , 0.        ],\n",
       "       [2.79      , 0.        ],\n",
       "       [2.85      , 0.        ],\n",
       "       [2.91      , 0.        ],\n",
       "       [2.97      , 0.        ],\n",
       "       [3.03      , 0.        ],\n",
       "       [3.09      , 0.        ],\n",
       "       [3.15      , 0.        ],\n",
       "       [3.21      , 0.        ],\n",
       "       [3.27      , 0.        ],\n",
       "       [3.33      , 0.        ],\n",
       "       [3.39      , 0.        ],\n",
       "       [3.45      , 0.        ],\n",
       "       [3.51      , 0.        ],\n",
       "       [3.57      , 0.        ],\n",
       "       [3.63      , 0.        ],\n",
       "       [3.69      , 0.        ],\n",
       "       [3.75      , 0.        ],\n",
       "       [3.81      , 0.        ],\n",
       "       [3.87      , 0.        ],\n",
       "       [3.93      , 2.34722129],\n",
       "       [3.99      , 8.80901469],\n",
       "       [4.05      , 8.54994498],\n",
       "       [4.11      , 2.82385649],\n",
       "       [4.17      , 0.10972722],\n",
       "       [4.23      , 0.        ],\n",
       "       [4.29      , 0.        ],\n",
       "       [4.35      , 0.        ],\n",
       "       [4.41      , 0.        ],\n",
       "       [4.47      , 0.        ],\n",
       "       [4.53      , 0.        ],\n",
       "       [4.59      , 0.09056542],\n",
       "       [4.65      , 3.44149106],\n",
       "       [4.71      , 7.82686198],\n",
       "       [4.77      , 4.27682679],\n",
       "       [4.83      , 0.81788854],\n",
       "       [4.89      , 0.        ],\n",
       "       [4.95      , 0.        ],\n",
       "       [5.01      , 0.        ],\n",
       "       [5.07      , 0.        ],\n",
       "       [5.13      , 0.        ],\n",
       "       [5.19      , 0.        ],\n",
       "       [5.25      , 0.        ],\n",
       "       [5.31      , 0.        ],\n",
       "       [5.37      , 0.        ],\n",
       "       [5.43      , 0.        ],\n",
       "       [5.49      , 0.        ],\n",
       "       [5.55      , 0.03097232],\n",
       "       [5.61      , 1.24284786],\n",
       "       [5.67      , 1.89921346],\n",
       "       [5.73      , 2.03398995],\n",
       "       [5.79      , 0.45532652],\n",
       "       [5.85      , 0.        ],\n",
       "       [5.91      , 0.        ],\n",
       "       [5.97      , 0.        ]])"
      ]
     },
     "execution_count": 10,
     "metadata": {},
     "output_type": "execute_result"
    }
   ],
   "source": [
    "rdf"
   ]
  },
  {
   "cell_type": "code",
   "execution_count": null,
   "metadata": {},
   "outputs": [],
   "source": []
  }
 ],
 "metadata": {
  "kernelspec": {
   "display_name": "ml",
   "language": "python",
   "name": "python3"
  },
  "language_info": {
   "codemirror_mode": {
    "name": "ipython",
    "version": 3
   },
   "file_extension": ".py",
   "mimetype": "text/x-python",
   "name": "python",
   "nbconvert_exporter": "python",
   "pygments_lexer": "ipython3",
   "version": "3.10.6"
  },
  "orig_nbformat": 4,
  "vscode": {
   "interpreter": {
    "hash": "523738ac47dcf7681d48eb184ac702eac622ded297e68c9c931bbc5de5caff01"
   }
  }
 },
 "nbformat": 4,
 "nbformat_minor": 2
}
