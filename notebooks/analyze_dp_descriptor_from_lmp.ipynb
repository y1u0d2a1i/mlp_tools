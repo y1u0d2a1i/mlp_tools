{
 "cells": [
  {
   "cell_type": "code",
   "execution_count": 5,
   "metadata": {},
   "outputs": [
    {
     "name": "stdout",
     "output_type": "stream",
     "text": [
      "WARNING:tensorflow:From /home/y1u0d2/anaconda3/envs/deepmd/lib/python3.10/site-packages/tensorflow/python/compat/v2_compat.py:107: disable_resource_variables (from tensorflow.python.ops.variable_scope) is deprecated and will be removed in a future version.\n",
      "Instructions for updating:\n",
      "non-resource variables are not supported in the long term\n"
     ]
    },
    {
     "name": "stderr",
     "output_type": "stream",
     "text": [
      "WARNING:root:To get the best performance, it is recommended to adjust the number of threads by setting the environment variables OMP_NUM_THREADS, TF_INTRA_OP_PARALLELISM_THREADS, and TF_INTER_OP_PARALLELISM_THREADS.\n",
      "WARNING:root:Environment variable KMP_BLOCKTIME is empty. Use the default value 0\n",
      "WARNING:root:Environment variable KMP_AFFINITY is empty. Use the default value granularity=fine,verbose,compact,1,0\n",
      "/home/y1u0d2/anaconda3/envs/deepmd/lib/python3.10/importlib/__init__.py:169: UserWarning: The NumPy module was reloaded (imported a second time). This can in some cases result in small but subtle issues and is discouraged.\n",
      "  _bootstrap._exec(spec, module)\n"
     ]
    }
   ],
   "source": [
    "from mlptools.io.read import read_from_format\n",
    "from deepmd.infer import DeepPot\n",
    "import numpy as np"
   ]
  },
  {
   "cell_type": "code",
   "execution_count": 9,
   "metadata": {},
   "outputs": [
    {
     "name": "stderr",
     "output_type": "stream",
     "text": [
      "2023-02-18 17:33:31.693515: I tensorflow/stream_executor/cuda/cuda_gpu_executor.cc:975] successful NUMA node read from SysFS had negative value (-1), but there must be at least one NUMA node, so returning NUMA node zero\n",
      "2023-02-18 17:33:31.693912: I tensorflow/stream_executor/cuda/cuda_gpu_executor.cc:975] successful NUMA node read from SysFS had negative value (-1), but there must be at least one NUMA node, so returning NUMA node zero\n",
      "2023-02-18 17:33:31.694208: I tensorflow/stream_executor/cuda/cuda_gpu_executor.cc:975] successful NUMA node read from SysFS had negative value (-1), but there must be at least one NUMA node, so returning NUMA node zero\n",
      "2023-02-18 17:33:31.694485: I tensorflow/stream_executor/cuda/cuda_gpu_executor.cc:975] successful NUMA node read from SysFS had negative value (-1), but there must be at least one NUMA node, so returning NUMA node zero\n",
      "2023-02-18 17:33:31.694768: I tensorflow/stream_executor/cuda/cuda_gpu_executor.cc:975] successful NUMA node read from SysFS had negative value (-1), but there must be at least one NUMA node, so returning NUMA node zero\n",
      "2023-02-18 17:33:31.695043: I tensorflow/stream_executor/cuda/cuda_gpu_executor.cc:975] successful NUMA node read from SysFS had negative value (-1), but there must be at least one NUMA node, so returning NUMA node zero\n",
      "2023-02-18 17:33:31.695413: I tensorflow/stream_executor/cuda/cuda_gpu_executor.cc:975] successful NUMA node read from SysFS had negative value (-1), but there must be at least one NUMA node, so returning NUMA node zero\n",
      "2023-02-18 17:33:31.695694: I tensorflow/stream_executor/cuda/cuda_gpu_executor.cc:975] successful NUMA node read from SysFS had negative value (-1), but there must be at least one NUMA node, so returning NUMA node zero\n",
      "2023-02-18 17:33:31.695977: I tensorflow/stream_executor/cuda/cuda_gpu_executor.cc:975] successful NUMA node read from SysFS had negative value (-1), but there must be at least one NUMA node, so returning NUMA node zero\n",
      "2023-02-18 17:33:31.696223: I tensorflow/core/common_runtime/gpu/gpu_device.cc:1532] Created device /job:localhost/replica:0/task:0/device:GPU:0 with 14463 MB memory:  -> device: 0, name: Quadro RTX 5000, pci bus id: 0000:01:00.0, compute capability: 7.5\n",
      "2023-02-18 17:33:31.696279: I tensorflow/stream_executor/cuda/cuda_gpu_executor.cc:975] successful NUMA node read from SysFS had negative value (-1), but there must be at least one NUMA node, so returning NUMA node zero\n",
      "2023-02-18 17:33:31.696519: I tensorflow/core/common_runtime/gpu/gpu_device.cc:1532] Created device /job:localhost/replica:0/task:0/device:GPU:1 with 14466 MB memory:  -> device: 1, name: Quadro RTX 5000, pci bus id: 0000:81:00.0, compute capability: 7.5\n",
      "OMP: Info #254: KMP_AFFINITY: pid 315246 tid 317174 thread 33 bound to OS proc set 1\n",
      "OMP: Info #254: KMP_AFFINITY: pid 315246 tid 317313 thread 36 bound to OS proc set 4\n",
      "OMP: Info #254: KMP_AFFINITY: pid 315246 tid 317316 thread 39 bound to OS proc set 7\n",
      "OMP: Info #254: KMP_AFFINITY: pid 315246 tid 317312 thread 35 bound to OS proc set 3\n",
      "OMP: Info #254: KMP_AFFINITY: pid 315246 tid 317317 thread 40 bound to OS proc set 8\n",
      "OMP: Info #254: KMP_AFFINITY: pid 315246 tid 317315 thread 38 bound to OS proc set 6\n",
      "OMP: Info #254: KMP_AFFINITY: pid 315246 tid 317314 thread 37 bound to OS proc set 5\n",
      "OMP: Info #254: KMP_AFFINITY: pid 315246 tid 317311 thread 34 bound to OS proc set 2\n",
      "OMP: Info #254: KMP_AFFINITY: pid 315246 tid 317318 thread 41 bound to OS proc set 9\n",
      "OMP: Info #254: KMP_AFFINITY: pid 315246 tid 317319 thread 42 bound to OS proc set 10\n",
      "OMP: Info #254: KMP_AFFINITY: pid 315246 tid 317321 thread 44 bound to OS proc set 12\n",
      "OMP: Info #254: KMP_AFFINITY: pid 315246 tid 317320 thread 43 bound to OS proc set 11\n",
      "OMP: Info #254: KMP_AFFINITY: pid 315246 tid 317322 thread 45 bound to OS proc set 13\n",
      "OMP: Info #254: KMP_AFFINITY: pid 315246 tid 317325 thread 48 bound to OS proc set 16\n",
      "OMP: Info #254: KMP_AFFINITY: pid 315246 tid 317323 thread 46 bound to OS proc set 14\n",
      "OMP: Info #254: KMP_AFFINITY: pid 315246 tid 317326 thread 49 bound to OS proc set 17\n",
      "OMP: Info #254: KMP_AFFINITY: pid 315246 tid 317324 thread 47 bound to OS proc set 15\n",
      "OMP: Info #254: KMP_AFFINITY: pid 315246 tid 317327 thread 50 bound to OS proc set 18\n",
      "OMP: Info #254: KMP_AFFINITY: pid 315246 tid 317328 thread 51 bound to OS proc set 19\n",
      "OMP: Info #254: KMP_AFFINITY: pid 315246 tid 317329 thread 52 bound to OS proc set 20\n",
      "OMP: Info #254: KMP_AFFINITY: pid 315246 tid 317330 thread 53 bound to OS proc set 21\n",
      "OMP: Info #254: KMP_AFFINITY: pid 315246 tid 317331 thread 54 bound to OS proc set 22\n",
      "OMP: Info #254: KMP_AFFINITY: pid 315246 tid 317332 thread 55 bound to OS proc set 23\n",
      "OMP: Info #254: KMP_AFFINITY: pid 315246 tid 317333 thread 56 bound to OS proc set 24\n",
      "OMP: Info #254: KMP_AFFINITY: pid 315246 tid 317334 thread 57 bound to OS proc set 25\n",
      "OMP: Info #254: KMP_AFFINITY: pid 315246 tid 317335 thread 58 bound to OS proc set 26\n",
      "OMP: Info #254: KMP_AFFINITY: pid 315246 tid 317336 thread 59 bound to OS proc set 27\n",
      "OMP: Info #254: KMP_AFFINITY: pid 315246 tid 317337 thread 60 bound to OS proc set 28\n",
      "OMP: Info #254: KMP_AFFINITY: pid 315246 tid 317338 thread 61 bound to OS proc set 29\n",
      "OMP: Info #254: KMP_AFFINITY: pid 315246 tid 317339 thread 62 bound to OS proc set 30\n",
      "OMP: Info #254: KMP_AFFINITY: pid 315246 tid 317340 thread 63 bound to OS proc set 31\n",
      "OMP: Info #254: KMP_AFFINITY: pid 315246 tid 317341 thread 64 bound to OS proc set 0\n"
     ]
    }
   ],
   "source": [
    "path2model = '/home/y1u0d2/result/deepmd/Si/27/graph.pb'\n",
    "\n",
    "dp = DeepPot(path2model)\n",
    "coord = np.array([[1,0,0], [0,0,1.5], [1,0,3]]).reshape([1, -1])\n",
    "cell = np.diag(10 * np.ones(3)).reshape([1, -1])\n",
    "e, f, v = dp.eval(coord, cell, atom_types=[0,0,0])"
   ]
  },
  {
   "cell_type": "code",
   "execution_count": 11,
   "metadata": {},
   "outputs": [
    {
     "data": {
      "text/plain": [
       "array([[[  6.46609595,   0.        , -10.75107182],\n",
       "        [-12.9321919 ,   0.        ,   0.        ],\n",
       "        [  6.46609595,   0.        ,  10.75107182]]])"
      ]
     },
     "execution_count": 11,
     "metadata": {},
     "output_type": "execute_result"
    }
   ],
   "source": []
  },
  {
   "cell_type": "code",
   "execution_count": null,
   "metadata": {},
   "outputs": [],
   "source": []
  }
 ],
 "metadata": {
  "kernelspec": {
   "display_name": "deepmd",
   "language": "python",
   "name": "python3"
  },
  "language_info": {
   "codemirror_mode": {
    "name": "ipython",
    "version": 3
   },
   "file_extension": ".py",
   "mimetype": "text/x-python",
   "name": "python",
   "nbconvert_exporter": "python",
   "pygments_lexer": "ipython3",
   "version": "3.10.9"
  },
  "orig_nbformat": 4,
  "vscode": {
   "interpreter": {
    "hash": "8cccd25dc34e6e9c0dc92d6d4a19f8dbefc2788a501f4e9b50b70f2bcd8b9e6f"
   }
  }
 },
 "nbformat": 4,
 "nbformat_minor": 2
}
