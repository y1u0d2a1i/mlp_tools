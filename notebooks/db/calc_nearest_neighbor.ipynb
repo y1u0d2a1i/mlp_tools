{
 "cells": [
  {
   "cell_type": "code",
   "execution_count": 11,
   "metadata": {},
   "outputs": [],
   "source": [
    "from mlptools.db.db import get_session\n",
    "from mlptools.db.model import Structure\n",
    "from glob import glob\n",
    "import pickle\n",
    "import os"
   ]
  },
  {
   "cell_type": "code",
   "execution_count": 6,
   "metadata": {},
   "outputs": [],
   "source": [
    "ATOMIC_SYMBOL = \"Si\"\n",
    "PATH2ATOMS = \"/Users/y1u0d2/desktop/Lab/data/qe_data/Si/atoms\""
   ]
  },
  {
   "cell_type": "code",
   "execution_count": 7,
   "metadata": {},
   "outputs": [],
   "source": [
    "session = get_session(structure_symbol=ATOMIC_SYMBOL)\n",
    "all_used_uuid = session.query(Structure.id).all()"
   ]
  },
  {
   "cell_type": "code",
   "execution_count": 9,
   "metadata": {},
   "outputs": [
    {
     "name": "stdout",
     "output_type": "stream",
     "text": [
      "Number of dirs: 90066\n"
     ]
    }
   ],
   "source": [
    "all_atoms_dir = glob(PATH2ATOMS + \"/*\")\n",
    "print(f\"Number of dirs: {len(all_atoms_dir)}\")"
   ]
  },
  {
   "cell_type": "code",
   "execution_count": null,
   "metadata": {},
   "outputs": [],
   "source": [
    "# atoms.pklをloadしてset_distance_btw_nearest_neighborを計算してatoms.pklを上書きする\n",
    "for i, atoms_dir in enumerate(all_atoms_dir):\n",
    "    # show progress every 1000 steps\n",
    "    if i % 1000 == 0:\n",
    "        print(f\"step: {i}\")\n",
    "    \n",
    "    path2atoms = os.path.join(atoms_dir, \"atoms.pkl\")\n",
    "    if not os.path.exists(path2atoms):\n",
    "        continue\n",
    "\n",
    "    atoms = pickle.load(open(path2atoms, \"rb\"))\n",
    "    if atoms.distance_btw_nearest_neighbor is not None:\n",
    "        continue\n",
    "    \n",
    "    atoms.set_distance_btw_nearest_neighbor()\n",
    "    pickle.dump(atoms, open(path2atoms, \"wb\"))"
   ]
  }
 ],
 "metadata": {
  "kernelspec": {
   "display_name": ".venv",
   "language": "python",
   "name": "python3"
  },
  "language_info": {
   "codemirror_mode": {
    "name": "ipython",
    "version": 3
   },
   "file_extension": ".py",
   "mimetype": "text/x-python",
   "name": "python",
   "nbconvert_exporter": "python",
   "pygments_lexer": "ipython3",
   "version": "3.10.6"
  }
 },
 "nbformat": 4,
 "nbformat_minor": 2
}
