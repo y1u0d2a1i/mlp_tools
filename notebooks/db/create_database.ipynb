{
 "cells": [
  {
   "cell_type": "code",
   "execution_count": 20,
   "metadata": {},
   "outputs": [],
   "source": [
    "# 構造のメタデータを保存するDBを作成する"
   ]
  },
  {
   "cell_type": "code",
   "execution_count": 1,
   "metadata": {},
   "outputs": [],
   "source": [
    "from sqlalchemy import create_engine, Column, Integer, String, Sequence\n",
    "from sqlalchemy.orm import declarative_base\n",
    "import uuid\n",
    "\n",
    "path2db = \"/Users/y1u0d2/desktop/Lab/data/qe_data/SiO2\"\n",
    "\n",
    "Base = declarative_base()\n",
    "\n",
    "class Structure(Base):\n",
    "    __tablename__ = 'structure'\n",
    "    id = Column(String, primary_key=True)\n",
    "    original_path = Column(String, unique=True)\n",
    "    structure_id = Column(Integer)\n",
    "    structure_name = Column(String)\n",
    "    calculation_type = Column(String)\n",
    "\n",
    "# データベースエンジンの作成とテーブルの初期化\n",
    "engine = create_engine(f'sqlite:///{path2db}/structure.db')\n",
    "# Base.metadata.create_all(engine)"
   ]
  },
  {
   "cell_type": "markdown",
   "metadata": {},
   "source": [
    "# データの追加"
   ]
  },
  {
   "cell_type": "code",
   "execution_count": 2,
   "metadata": {},
   "outputs": [],
   "source": [
    "from glob import glob\n",
    "import re\n",
    "\n",
    "def get_mpid_from_path(path):\n",
    "    match = re.search(r\"mp-\\d+\", path)\n",
    "    if match:\n",
    "        result = match.group(0)\n",
    "    else:\n",
    "        result = None\n",
    "    return result\n",
    "\n",
    "def generate_unique_uuid(session):\n",
    "    while True:\n",
    "        new_uuid = str(uuid.uuid4())\n",
    "        existing = session.query(Structure).filter_by(id=new_uuid).first()\n",
    "        if not existing:\n",
    "            return new_uuid"
   ]
  },
  {
   "cell_type": "code",
   "execution_count": 8,
   "metadata": {},
   "outputs": [],
   "source": [
    "from sqlalchemy.orm import sessionmaker\n",
    "import os\n",
    "import shutil\n",
    "\n",
    "path2scf = \"/Users/y1u0d2/desktop/Lab/result/qe/SiO2/amorphous/result_sq\"\n",
    "path2atoms = \"/Users/y1u0d2/desktop/Lab/data/qe_data/SiO2/atoms\"\n",
    "calculation_type = \"scf\"\n",
    "structure_name = \"amorphous\"\n",
    "\n",
    "all_scf_dirs = []\n",
    "all_scf_dirs.extend(glob(f'{path2scf}/scf*'))\n",
    "\n",
    "\n",
    "Session = sessionmaker(bind=engine)\n",
    "session = Session()\n",
    "\n",
    "for scf_dir in all_scf_dirs:\n",
    "    mpid = get_mpid_from_path(scf_dir)\n",
    "\n",
    "    # DBへ追加\n",
    "    unique_id = generate_unique_uuid(session)\n",
    "    try:\n",
    "        structure = Structure(\n",
    "            id=unique_id,\n",
    "            original_path=scf_dir, \n",
    "            structure_id=mpid, \n",
    "            structure_name=structure_name,\n",
    "            calculation_type=calculation_type\n",
    "        )\n",
    "        session.add(structure)\n",
    "        session.commit()\n",
    "\n",
    "        # create directory and copy files\n",
    "        path2target = os.path.join(path2atoms, structure.id)\n",
    "        # copy scf.in, scf.out and atoms.pkl\n",
    "        os.makedirs(path2target)\n",
    "        if calculation_type == \"scf\":\n",
    "            shutil.copy(os.path.join(scf_dir, \"scf.in\"), path2target)\n",
    "            shutil.copy(os.path.join(scf_dir, \"scf.out\"), path2target)\n",
    "            shutil.copy(os.path.join(scf_dir, \"atoms.pkl\"), path2target)\n",
    "        elif calculation_type == \"relax\":\n",
    "            shutil.copy(os.path.join(scf_dir, \"atoms.pkl\"), path2target)\n",
    "    except Exception as e:\n",
    "        print(f\"Error: {e}\")\n",
    "        session.rollback()\n",
    "\n",
    "session.close()"
   ]
  },
  {
   "cell_type": "code",
   "execution_count": null,
   "metadata": {},
   "outputs": [],
   "source": []
  }
 ],
 "metadata": {
  "kernelspec": {
   "display_name": ".venv",
   "language": "python",
   "name": "python3"
  },
  "language_info": {
   "codemirror_mode": {
    "name": "ipython",
    "version": 3
   },
   "file_extension": ".py",
   "mimetype": "text/x-python",
   "name": "python",
   "nbconvert_exporter": "python",
   "pygments_lexer": "ipython3",
   "version": "3.10.6"
  },
  "orig_nbformat": 4
 },
 "nbformat": 4,
 "nbformat_minor": 2
}
