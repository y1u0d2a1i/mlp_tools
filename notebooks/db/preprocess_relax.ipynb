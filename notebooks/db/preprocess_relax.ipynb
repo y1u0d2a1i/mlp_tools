{
 "cells": [
  {
   "cell_type": "markdown",
   "metadata": {},
   "source": [
    "# relax計算のtrajectoryをディレクトリに分割する"
   ]
  },
  {
   "cell_type": "code",
   "execution_count": 1,
   "metadata": {},
   "outputs": [],
   "source": [
    "from glob import glob\n",
    "from mlptools.io.read import read_from_format\n",
    "from ase.io.espresso import read_espresso_out, read_espresso_in\n",
    "import os\n",
    "import pickle"
   ]
  },
  {
   "cell_type": "code",
   "execution_count": 2,
   "metadata": {},
   "outputs": [
    {
     "name": "stdout",
     "output_type": "stream",
     "text": [
      "Number of relax directories: 71\n"
     ]
    }
   ],
   "source": [
    "path2relax = \"/Users/y1u0d2/Google Drive/マイドライブ/HamaLab_kotani/QE/Si/diamond__mp-149/relax/export\"\n",
    "relax_dirs = glob(os.path.join(path2relax, \"relax_*\"))\n",
    "print(f\"Number of relax directories: {len(relax_dirs)}\")"
   ]
  },
  {
   "cell_type": "code",
   "execution_count": 4,
   "metadata": {},
   "outputs": [
    {
     "data": {
      "text/plain": [
       "['/Users/y1u0d2/Google Drive/マイドライブ/HamaLab_kotani/QE/Si/diamond__mp-149/relax/export/relax_16e46f04-d35d-45d1-8ef0-fbdbc0bd6f78',\n",
       " '/Users/y1u0d2/Google Drive/マイドライブ/HamaLab_kotani/QE/Si/diamond__mp-149/relax/export/relax_16c8d448-890f-4d23-9203-96edb5fc95d7',\n",
       " '/Users/y1u0d2/Google Drive/マイドライブ/HamaLab_kotani/QE/Si/diamond__mp-149/relax/export/relax_1bfa2d80-5183-4362-84cd-602aa3bfc67e',\n",
       " '/Users/y1u0d2/Google Drive/マイドライブ/HamaLab_kotani/QE/Si/diamond__mp-149/relax/export/relax_18179055-da70-47cb-b30a-b400d6b8ac92',\n",
       " '/Users/y1u0d2/Google Drive/マイドライブ/HamaLab_kotani/QE/Si/diamond__mp-149/relax/export/relax_0430b474-a1b1-4d82-9b32-f1b3d93d4937']"
      ]
     },
     "execution_count": 4,
     "metadata": {},
     "output_type": "execute_result"
    }
   ],
   "source": [
    "relax_dirs[:5]"
   ]
  },
  {
   "cell_type": "code",
   "execution_count": 5,
   "metadata": {},
   "outputs": [
    {
     "name": "stdout",
     "output_type": "stream",
     "text": [
      "/Users/y1u0d2/Google Drive/マイドライブ/HamaLab_kotani/QE/Si/diamond__mp-149/relax/export/relax_16e46f04-d35d-45d1-8ef0-fbdbc0bd6f78\n"
     ]
    },
    {
     "name": "stdout",
     "output_type": "stream",
     "text": [
      "Number of trajectories: 49\n",
      "/Users/y1u0d2/Google Drive/マイドライブ/HamaLab_kotani/QE/Si/diamond__mp-149/relax/export/relax_16c8d448-890f-4d23-9203-96edb5fc95d7\n",
      "Number of trajectories: 31\n",
      "/Users/y1u0d2/Google Drive/マイドライブ/HamaLab_kotani/QE/Si/diamond__mp-149/relax/export/relax_1bfa2d80-5183-4362-84cd-602aa3bfc67e\n",
      "Number of trajectories: 14\n",
      "/Users/y1u0d2/Google Drive/マイドライブ/HamaLab_kotani/QE/Si/diamond__mp-149/relax/export/relax_18179055-da70-47cb-b30a-b400d6b8ac92\n",
      "Number of trajectories: 50\n",
      "/Users/y1u0d2/Google Drive/マイドライブ/HamaLab_kotani/QE/Si/diamond__mp-149/relax/export/relax_0430b474-a1b1-4d82-9b32-f1b3d93d4937\n",
      "Number of trajectories: 50\n",
      "/Users/y1u0d2/Google Drive/マイドライブ/HamaLab_kotani/QE/Si/diamond__mp-149/relax/export/relax_09ffb340-8692-4281-a7c7-14efc89f63aa\n",
      "Number of trajectories: 26\n",
      "/Users/y1u0d2/Google Drive/マイドライブ/HamaLab_kotani/QE/Si/diamond__mp-149/relax/export/relax_3514cc54-3b9d-42e1-bd5d-a09aea02bdb8\n",
      "Number of trajectories: 19\n",
      "/Users/y1u0d2/Google Drive/マイドライブ/HamaLab_kotani/QE/Si/diamond__mp-149/relax/export/relax_0dd50e04-f655-4b06-ba8a-8368bee6fbf0\n",
      "Number of trajectories: 50\n",
      "/Users/y1u0d2/Google Drive/マイドライブ/HamaLab_kotani/QE/Si/diamond__mp-149/relax/export/relax_151c294d-25f4-4667-b4d4-09b5607db03c\n",
      "Number of trajectories: 50\n",
      "/Users/y1u0d2/Google Drive/マイドライブ/HamaLab_kotani/QE/Si/diamond__mp-149/relax/export/relax_2e44bcff-5120-4e10-b870-5ec9d165126b\n",
      "Number of trajectories: 16\n",
      "/Users/y1u0d2/Google Drive/マイドライブ/HamaLab_kotani/QE/Si/diamond__mp-149/relax/export/relax_20643c72-70b2-40f8-a38b-daa7b0d070ca\n",
      "Number of trajectories: 31\n",
      "/Users/y1u0d2/Google Drive/マイドライブ/HamaLab_kotani/QE/Si/diamond__mp-149/relax/export/relax_17336a85-83de-41f4-ba05-7d199ade7556\n",
      "Number of trajectories: 34\n",
      "/Users/y1u0d2/Google Drive/マイドライブ/HamaLab_kotani/QE/Si/diamond__mp-149/relax/export/relax_21907626-9f33-4c45-9023-9405684a92b5\n",
      "Number of trajectories: 36\n",
      "/Users/y1u0d2/Google Drive/マイドライブ/HamaLab_kotani/QE/Si/diamond__mp-149/relax/export/relax_02d36738-7664-40ec-a339-8c7ec8203c1e\n",
      "Number of trajectories: 31\n",
      "/Users/y1u0d2/Google Drive/マイドライブ/HamaLab_kotani/QE/Si/diamond__mp-149/relax/export/relax_03b2ea76-9f88-45b2-93c5-e9e48d250c92\n",
      "Number of trajectories: 41\n",
      "/Users/y1u0d2/Google Drive/マイドライブ/HamaLab_kotani/QE/Si/diamond__mp-149/relax/export/relax_2b677269-5b18-443b-9a67-7b72ecbe0af3\n",
      "Number of trajectories: 31\n",
      "/Users/y1u0d2/Google Drive/マイドライブ/HamaLab_kotani/QE/Si/diamond__mp-149/relax/export/relax_1d4f6064-6716-481c-a1cd-20418cb02a45\n",
      "Number of trajectories: 50\n",
      "/Users/y1u0d2/Google Drive/マイドライブ/HamaLab_kotani/QE/Si/diamond__mp-149/relax/export/relax_10ecf750-b11f-46b2-9696-e36801117406\n",
      "Number of trajectories: 22\n",
      "/Users/y1u0d2/Google Drive/マイドライブ/HamaLab_kotani/QE/Si/diamond__mp-149/relax/export/relax_0309d9a8-5560-46a6-95af-3599c2236fa8\n",
      "Number of trajectories: 50\n",
      "/Users/y1u0d2/Google Drive/マイドライブ/HamaLab_kotani/QE/Si/diamond__mp-149/relax/export/relax_116201fc-e078-41a1-89fd-4bcb1e71153c\n",
      "Number of trajectories: 13\n",
      "/Users/y1u0d2/Google Drive/マイドライブ/HamaLab_kotani/QE/Si/diamond__mp-149/relax/export/relax_12c4473d-65c0-42d7-8cdb-d273aeefd4ee\n",
      "Number of trajectories: 50\n",
      "/Users/y1u0d2/Google Drive/マイドライブ/HamaLab_kotani/QE/Si/diamond__mp-149/relax/export/relax_16c6e87f-5a49-40ba-82d3-b9159f28feae\n",
      "Number of trajectories: 50\n",
      "/Users/y1u0d2/Google Drive/マイドライブ/HamaLab_kotani/QE/Si/diamond__mp-149/relax/export/relax_2b6317f1-1fee-4472-9755-6bf222be5686\n",
      "Number of trajectories: 29\n",
      "/Users/y1u0d2/Google Drive/マイドライブ/HamaLab_kotani/QE/Si/diamond__mp-149/relax/export/relax_225057c3-13fa-4cb8-9cdb-fc86b2c87289\n",
      "Number of trajectories: 44\n",
      "/Users/y1u0d2/Google Drive/マイドライブ/HamaLab_kotani/QE/Si/diamond__mp-149/relax/export/relax_167ff49b-32c9-4dce-99a1-ba15d501bc10\n",
      "Number of trajectories: 48\n",
      "/Users/y1u0d2/Google Drive/マイドライブ/HamaLab_kotani/QE/Si/diamond__mp-149/relax/export/relax_152649ce-f870-41a7-85b8-2777a1ed080b\n",
      "Number of trajectories: 39\n",
      "/Users/y1u0d2/Google Drive/マイドライブ/HamaLab_kotani/QE/Si/diamond__mp-149/relax/export/relax_231e7e5e-48b7-4048-9f5c-de30447ab25a\n",
      "Number of trajectories: 19\n",
      "/Users/y1u0d2/Google Drive/マイドライブ/HamaLab_kotani/QE/Si/diamond__mp-149/relax/export/relax_24845292-65f4-4590-a059-79f00aa2df30\n",
      "Number of trajectories: 45\n",
      "/Users/y1u0d2/Google Drive/マイドライブ/HamaLab_kotani/QE/Si/diamond__mp-149/relax/export/relax_2c94208f-5768-4ad0-83c0-b9557bc99c7c\n",
      "Number of trajectories: 41\n",
      "/Users/y1u0d2/Google Drive/マイドライブ/HamaLab_kotani/QE/Si/diamond__mp-149/relax/export/relax_15827812-702f-44c8-9c0c-7f82593754ac\n",
      "Number of trajectories: 37\n",
      "/Users/y1u0d2/Google Drive/マイドライブ/HamaLab_kotani/QE/Si/diamond__mp-149/relax/export/relax_153b301b-c1b9-4e78-ba04-9a5e771d902d\n",
      "Number of trajectories: 50\n",
      "/Users/y1u0d2/Google Drive/マイドライブ/HamaLab_kotani/QE/Si/diamond__mp-149/relax/export/relax_0f3bfd9b-2191-4bec-a169-ae8ffbd0ef56\n",
      "Number of trajectories: 14\n",
      "/Users/y1u0d2/Google Drive/マイドライブ/HamaLab_kotani/QE/Si/diamond__mp-149/relax/export/relax_13c1c46e-79e9-4bd6-9c2d-aa82efd275f9\n",
      "Number of trajectories: 35\n",
      "/Users/y1u0d2/Google Drive/マイドライブ/HamaLab_kotani/QE/Si/diamond__mp-149/relax/export/relax_0fdb4e39-497d-4107-b808-8f6ad70b4421\n",
      "Number of trajectories: 33\n",
      "/Users/y1u0d2/Google Drive/マイドライブ/HamaLab_kotani/QE/Si/diamond__mp-149/relax/export/relax_2364af39-2683-4cbd-97fa-b17f8c14a896\n",
      "Number of trajectories: 22\n",
      "/Users/y1u0d2/Google Drive/マイドライブ/HamaLab_kotani/QE/Si/diamond__mp-149/relax/export/relax_16a66204-878d-4ca3-a923-20ac6c34ad74\n",
      "Number of trajectories: 19\n",
      "/Users/y1u0d2/Google Drive/マイドライブ/HamaLab_kotani/QE/Si/diamond__mp-149/relax/export/relax_0136fa79-a0be-472f-b8e6-878a87fce9cf\n",
      "Number of trajectories: 31\n",
      "/Users/y1u0d2/Google Drive/マイドライブ/HamaLab_kotani/QE/Si/diamond__mp-149/relax/export/relax_2f51f85c-0d0a-4fae-919d-d33ed4867797\n",
      "Number of trajectories: 50\n",
      "/Users/y1u0d2/Google Drive/マイドライブ/HamaLab_kotani/QE/Si/diamond__mp-149/relax/export/relax_123c2e6b-25bc-49b3-b3fc-f0bfb0b19aca\n",
      "Number of trajectories: 29\n",
      "/Users/y1u0d2/Google Drive/マイドライブ/HamaLab_kotani/QE/Si/diamond__mp-149/relax/export/relax_091eed14-24a1-4642-89a3-109579b9799f\n",
      "Number of trajectories: 38\n",
      "/Users/y1u0d2/Google Drive/マイドライブ/HamaLab_kotani/QE/Si/diamond__mp-149/relax/export/relax_08e59dd0-69e7-4983-9cda-3ef968d07ea6\n",
      "Number of trajectories: 50\n",
      "/Users/y1u0d2/Google Drive/マイドライブ/HamaLab_kotani/QE/Si/diamond__mp-149/relax/export/relax_3417d3e3-f962-43b8-a2fa-a911511289af\n",
      "Number of trajectories: 28\n",
      "/Users/y1u0d2/Google Drive/マイドライブ/HamaLab_kotani/QE/Si/diamond__mp-149/relax/export/relax_007a26e7-cc9b-4f08-8abd-323fe0595055\n",
      "Number of trajectories: 27\n",
      "/Users/y1u0d2/Google Drive/マイドライブ/HamaLab_kotani/QE/Si/diamond__mp-149/relax/export/relax_1f8d6a87-8cb6-49d1-ba1f-976b246e8122\n",
      "Number of trajectories: 33\n",
      "/Users/y1u0d2/Google Drive/マイドライブ/HamaLab_kotani/QE/Si/diamond__mp-149/relax/export/relax_21014a03-3448-40ac-8575-5624e3f2e41d\n",
      "Number of trajectories: 50\n",
      "/Users/y1u0d2/Google Drive/マイドライブ/HamaLab_kotani/QE/Si/diamond__mp-149/relax/export/relax_065a5437-9b44-4bd0-8739-729aae091f01\n",
      "Number of trajectories: 50\n",
      "/Users/y1u0d2/Google Drive/マイドライブ/HamaLab_kotani/QE/Si/diamond__mp-149/relax/export/relax_12f2178b-2afb-411e-a3de-7bbeb3874ef6\n",
      "Number of trajectories: 31\n",
      "/Users/y1u0d2/Google Drive/マイドライブ/HamaLab_kotani/QE/Si/diamond__mp-149/relax/export/relax_0875086c-afd6-47d8-b931-9432fe32edba\n",
      "Number of trajectories: 50\n",
      "/Users/y1u0d2/Google Drive/マイドライブ/HamaLab_kotani/QE/Si/diamond__mp-149/relax/export/relax_0c63bd2d-0095-43db-bc27-40842f4ad6d7\n",
      "Number of trajectories: 24\n",
      "/Users/y1u0d2/Google Drive/マイドライブ/HamaLab_kotani/QE/Si/diamond__mp-149/relax/export/relax_2d2cde97-7ac5-4d63-b781-14096bfeb57d\n",
      "Number of trajectories: 27\n",
      "/Users/y1u0d2/Google Drive/マイドライブ/HamaLab_kotani/QE/Si/diamond__mp-149/relax/export/relax_04b82811-1dc6-4a57-8fc0-6c3270272292\n",
      "Number of trajectories: 50\n",
      "/Users/y1u0d2/Google Drive/マイドライブ/HamaLab_kotani/QE/Si/diamond__mp-149/relax/export/relax_05ab318b-963a-4925-bc9c-20384e31dc71\n",
      "Number of trajectories: 38\n",
      "/Users/y1u0d2/Google Drive/マイドライブ/HamaLab_kotani/QE/Si/diamond__mp-149/relax/export/relax_119a9027-4e28-41eb-9fb4-6e343ed8f3d1\n",
      "Number of trajectories: 31\n",
      "/Users/y1u0d2/Google Drive/マイドライブ/HamaLab_kotani/QE/Si/diamond__mp-149/relax/export/relax_30c99c54-3ce2-4e47-8b45-9c02f86dd0ed\n",
      "Number of trajectories: 30\n",
      "/Users/y1u0d2/Google Drive/マイドライブ/HamaLab_kotani/QE/Si/diamond__mp-149/relax/export/relax_2484dd31-6ec9-4413-bc43-7f8f30c22640\n",
      "Number of trajectories: 20\n",
      "/Users/y1u0d2/Google Drive/マイドライブ/HamaLab_kotani/QE/Si/diamond__mp-149/relax/export/relax_22716f39-8630-48cf-8e4c-4789eb082f37\n",
      "Number of trajectories: 34\n",
      "/Users/y1u0d2/Google Drive/マイドライブ/HamaLab_kotani/QE/Si/diamond__mp-149/relax/export/relax_0400c029-6715-4d76-b712-316f7e30deb2\n",
      "Number of trajectories: 48\n",
      "/Users/y1u0d2/Google Drive/マイドライブ/HamaLab_kotani/QE/Si/diamond__mp-149/relax/export/relax_124decee-2ce9-476c-872f-18d9539e4415\n",
      "Number of trajectories: 32\n",
      "/Users/y1u0d2/Google Drive/マイドライブ/HamaLab_kotani/QE/Si/diamond__mp-149/relax/export/relax_2b568740-65f8-483d-9099-ed11f64a18ae\n",
      "Number of trajectories: 34\n",
      "/Users/y1u0d2/Google Drive/マイドライブ/HamaLab_kotani/QE/Si/diamond__mp-149/relax/export/relax_1198d418-8c66-4f0d-b9da-73d1e01649fb\n",
      "Number of trajectories: 33\n",
      "/Users/y1u0d2/Google Drive/マイドライブ/HamaLab_kotani/QE/Si/diamond__mp-149/relax/export/relax_34fc6a11-37da-499c-9728-a6007204f24e\n",
      "Number of trajectories: 29\n",
      "/Users/y1u0d2/Google Drive/マイドライブ/HamaLab_kotani/QE/Si/diamond__mp-149/relax/export/relax_3266007f-3e66-430a-8bbc-ebb606406143\n",
      "Number of trajectories: 34\n",
      "/Users/y1u0d2/Google Drive/マイドライブ/HamaLab_kotani/QE/Si/diamond__mp-149/relax/export/relax_0c25c5a5-3481-408b-a902-9fb0bc4427e3\n",
      "Number of trajectories: 50\n",
      "/Users/y1u0d2/Google Drive/マイドライブ/HamaLab_kotani/QE/Si/diamond__mp-149/relax/export/relax_2659b3f1-ed3f-41e2-be9e-b6b70e8cf663\n",
      "Number of trajectories: 17\n",
      "/Users/y1u0d2/Google Drive/マイドライブ/HamaLab_kotani/QE/Si/diamond__mp-149/relax/export/relax_0d5e28ff-8d14-4d65-beea-cf36e0e446d0\n",
      "Number of trajectories: 29\n",
      "/Users/y1u0d2/Google Drive/マイドライブ/HamaLab_kotani/QE/Si/diamond__mp-149/relax/export/relax_3050fcf9-19a7-4fd6-9485-bceb00a59794\n",
      "Number of trajectories: 50\n",
      "/Users/y1u0d2/Google Drive/マイドライブ/HamaLab_kotani/QE/Si/diamond__mp-149/relax/export/relax_18e4e628-bc96-40b3-9e06-b915d151c947\n",
      "Number of trajectories: 50\n",
      "/Users/y1u0d2/Google Drive/マイドライブ/HamaLab_kotani/QE/Si/diamond__mp-149/relax/export/relax_0e5a2df5-2f64-4aba-a134-24471e2be545\n",
      "Number of trajectories: 20\n",
      "/Users/y1u0d2/Google Drive/マイドライブ/HamaLab_kotani/QE/Si/diamond__mp-149/relax/export/relax_1e4a0841-0edd-40b2-a47b-ea1586b78451\n",
      "Number of trajectories: 30\n",
      "/Users/y1u0d2/Google Drive/マイドライブ/HamaLab_kotani/QE/Si/diamond__mp-149/relax/export/relax_185b5b5a-51da-49e7-b3cb-5794f31e6953\n",
      "Number of trajectories: 19\n",
      "/Users/y1u0d2/Google Drive/マイドライブ/HamaLab_kotani/QE/Si/diamond__mp-149/relax/export/relax_0e405068-3820-47e4-b4dd-9962dc9b1dd1\n",
      "Number of trajectories: 22\n"
     ]
    }
   ],
   "source": [
    "# 各relaxディレクトリに対して、trajectoryごとにディレクトリを作成しその中に、Atoms(ase_atoms.pkl)とMLPAtoms(atoms.pkl)を保存する\n",
    "for relax_dir in relax_dirs:\n",
    "    all_ase_atoms = []\n",
    "    print(relax_dir)\n",
    "\n",
    "    with open(os.path.join(relax_dir, \"relax.out\")) as f:\n",
    "        lines = [s.strip() for s in f.readlines()]\n",
    "    is_valid = True\n",
    "    for l in lines:\n",
    "        if \"convergence NOT achieved\" in l:\n",
    "            is_valid = False\n",
    "            break\n",
    "    if not is_valid:\n",
    "        continue\n",
    "    \n",
    "    with open(os.path.join(relax_dir, \"relax.out\")) as f:\n",
    "        atom_gen = read_espresso_out(f, index=slice(None))\n",
    "        while True:\n",
    "            try:\n",
    "                ase_atoms = next(atom_gen)\n",
    "                all_ase_atoms.append(ase_atoms)\n",
    "            except StopIteration:\n",
    "                break\n",
    "    \n",
    "    print(f\"Number of trajectories: {len(all_ase_atoms)}\")\n",
    "    if len(all_ase_atoms) == 0:\n",
    "        continue\n",
    "\n",
    "    # 全atomsを保存\n",
    "    for i, ase_atoms in enumerate(all_ase_atoms):\n",
    "        # create directory\n",
    "        path2atoms = os.path.join(relax_dir, \"atoms\", f\"atoms_{i}\")\n",
    "        os.makedirs(path2atoms, exist_ok=True)\n",
    "\n",
    "        # create mlpatoms\n",
    "        mlpatoms = read_from_format(\n",
    "            ase_atoms=ase_atoms,\n",
    "            format=\"ase\",\n",
    "        )\n",
    "\n",
    "        # save atoms\n",
    "        pickle.dump(ase_atoms, open(os.path.join(path2atoms, \"ase_atoms.pkl\"), \"wb\"))\n",
    "        pickle.dump(mlpatoms, open(os.path.join(path2atoms, \"atoms.pkl\"), \"wb\"))"
   ]
  },
  {
   "cell_type": "code",
   "execution_count": 5,
   "metadata": {},
   "outputs": [],
   "source": [
    "# for ase_atoms in all_ase_atoms:\n",
    "#     mlpatoms = read_from_format(\n",
    "#         ase_atoms=ase_atoms,\n",
    "#         format=\"ase\",\n",
    "#     )\n",
    "#     break"
   ]
  }
 ],
 "metadata": {
  "kernelspec": {
   "display_name": ".venv",
   "language": "python",
   "name": "python3"
  },
  "language_info": {
   "codemirror_mode": {
    "name": "ipython",
    "version": 3
   },
   "file_extension": ".py",
   "mimetype": "text/x-python",
   "name": "python",
   "nbconvert_exporter": "python",
   "pygments_lexer": "ipython3",
   "version": "3.10.6"
  }
 },
 "nbformat": 4,
 "nbformat_minor": 2
}
