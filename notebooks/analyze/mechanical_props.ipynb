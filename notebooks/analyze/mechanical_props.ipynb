{
 "cells": [
  {
   "cell_type": "markdown",
   "metadata": {},
   "source": [
    "# 機械特性を計算するための準備"
   ]
  },
  {
   "cell_type": "markdown",
   "metadata": {},
   "source": [
    "## Quantum espressoでSiO2の機械特性を計算する"
   ]
  },
  {
   "cell_type": "code",
   "execution_count": 3,
   "metadata": {},
   "outputs": [],
   "source": [
    "from mlptools.io.write import QuantumEspressoWriter\n",
    "from ase.io.vasp import read_vasp"
   ]
  },
  {
   "cell_type": "code",
   "execution_count": 4,
   "metadata": {},
   "outputs": [],
   "source": [
    "path2atom = \"/Users/y1u0d2/desktop/Lab/result/qe/SiO2/mp-559091/original/POSCAR\"\n",
    "atoms = read_vasp(path2atom)"
   ]
  },
  {
   "cell_type": "code",
   "execution_count": 6,
   "metadata": {},
   "outputs": [
    {
     "data": {
      "text/plain": [
       "array([[ 2.53453694, -4.38994676,  0.        ],\n",
       "       [ 2.53453694,  4.38994676,  0.        ],\n",
       "       [ 0.        ,  0.        ,  8.55848854]])"
      ]
     },
     "execution_count": 6,
     "metadata": {},
     "output_type": "execute_result"
    }
   ],
   "source": [
    "atoms.cell[:]"
   ]
  },
  {
   "cell_type": "code",
   "execution_count": 15,
   "metadata": {},
   "outputs": [
    {
     "name": "stdout",
     "output_type": "stream",
     "text": [
      "Si 0.6666666666666666 0.3333333333333333 0.9371258\n",
      "Si 0.6666666666666666 0.33333333333333337 0.5628742\n",
      "Si 0.3333333333333335 0.6666666666666667 0.0628742\n",
      "Si 0.33333333333333337 0.6666666666666666 0.4371258\n",
      "O 0.0 0.4212587400000001 0.0\n",
      "O 0.4212587400000001 0.4212587400000001 0.5\n",
      "O 0.5787412599999999 0.0 0.5\n",
      "O 0.5787412599999999 0.5787412599999999 0.0\n",
      "O 0.0 0.5787412599999999 0.5\n",
      "O 0.6666666666666666 0.3333333333333333 0.7500000000000001\n",
      "O 0.33333333333333337 0.6666666666666666 0.25\n",
      "O 0.4212587400000001 0.0 0.0\n"
     ]
    }
   ],
   "source": [
    "for symbol, scaled_position in zip(atoms.get_chemical_symbols(), atoms.get_scaled_positions()):\n",
    "    print(\" \".join([symbol] + list(map(str, scaled_position))))"
   ]
  },
  {
   "cell_type": "markdown",
   "metadata": {},
   "source": [
    "# LAMMPS用に結晶データ作成する"
   ]
  },
  {
   "cell_type": "code",
   "execution_count": 18,
   "metadata": {},
   "outputs": [],
   "source": [
    "from ase.io.lammpsdata import write_lammps_data\n",
    "\n",
    "path2atom = \"/Users/y1u0d2/desktop/Lab/result/qe/SiO2/mp-546794/original/POSCAR\"\n",
    "atoms = read_vasp(path2atom)"
   ]
  },
  {
   "cell_type": "code",
   "execution_count": null,
   "metadata": {},
   "outputs": [],
   "source": [
    "with open(\"/Users/y1u0d2/desktop/Lab/result/qe/SiO2/mp-546794/elastic/lmp/atom_skew.data\", \"w\") as f:\n",
    "    write_lammps_data(f, atoms, force_skew=True)"
   ]
  },
  {
   "cell_type": "code",
   "execution_count": null,
   "metadata": {},
   "outputs": [],
   "source": []
  }
 ],
 "metadata": {
  "kernelspec": {
   "display_name": ".venv",
   "language": "python",
   "name": "python3"
  },
  "language_info": {
   "codemirror_mode": {
    "name": "ipython",
    "version": 3
   },
   "file_extension": ".py",
   "mimetype": "text/x-python",
   "name": "python",
   "nbconvert_exporter": "python",
   "pygments_lexer": "ipython3",
   "version": "3.10.6"
  },
  "orig_nbformat": 4
 },
 "nbformat": 4,
 "nbformat_minor": 2
}
