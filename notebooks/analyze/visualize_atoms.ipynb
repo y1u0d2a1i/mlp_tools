{
 "cells": [
  {
   "cell_type": "code",
   "execution_count": 11,
   "metadata": {},
   "outputs": [],
   "source": [
    "import pickle\n",
    "import os\n",
    "from ase.io import write"
   ]
  },
  {
   "cell_type": "code",
   "execution_count": 17,
   "metadata": {},
   "outputs": [],
   "source": [
    "# path2target = \"/Users/y1u0d2/desktop/Lab/data/qe_data/Si/mp-slab/TKrhAnAmtuaqXEZfFV8U\"\n",
    "# path2target = \"/Users/y1u0d2/desktop/Lab/data/qe_data/Si/amorphous/UwtdnXy0RiTIct41cUp7\"\n",
    "# path2target = \"/Users/y1u0d2/desktop/Lab/data/qe_data/Si/mp-three/Rvo9ZSj26hH3rD9UbkwN\"\n",
    "path2target = \"/Users/y1u0d2/desktop/Lab/data/qe_data/Si/mp-four/PT3PiiY8y4Xb84qT2ucN\"\n",
    "# path2target = \"\"\n",
    "# path2target = \"/Users/y1u0d2/desktop/Lab/data/qe_data/Si/mp-149_dimer/SUBtcXTRWlUjdlHHkWBw\"\n",
    "atoms = pickle.load(open(os.path.join(path2target, \"atoms.pkl\"), \"rb\"))\n",
    "# save as cif\n",
    "write(os.path.join(path2target, \"atoms.cif\"), atoms.ase_atoms)"
   ]
  },
  {
   "cell_type": "code",
   "execution_count": 6,
   "metadata": {},
   "outputs": [
    {
     "data": {
      "text/plain": [
       "Atoms(symbols='Si32', pbc=True, cell=[12.663770465386682, 12.663770465386682, 6.331885232693341], calculator=SinglePointDFTCalculator(...))"
      ]
     },
     "execution_count": 6,
     "metadata": {},
     "output_type": "execute_result"
    }
   ],
   "source": []
  },
  {
   "cell_type": "code",
   "execution_count": null,
   "metadata": {},
   "outputs": [],
   "source": []
  }
 ],
 "metadata": {
  "kernelspec": {
   "display_name": ".venv",
   "language": "python",
   "name": "python3"
  },
  "language_info": {
   "codemirror_mode": {
    "name": "ipython",
    "version": 3
   },
   "file_extension": ".py",
   "mimetype": "text/x-python",
   "name": "python",
   "nbconvert_exporter": "python",
   "pygments_lexer": "ipython3",
   "version": "3.10.6"
  }
 },
 "nbformat": 4,
 "nbformat_minor": 2
}
