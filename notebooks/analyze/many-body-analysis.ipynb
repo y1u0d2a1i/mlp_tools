{
 "cells": [
  {
   "cell_type": "markdown",
   "metadata": {},
   "source": [
    "# 多体の体積を大きくしていった時に収束するエネルギーをQEと機械学習で比べる\n",
    "- https://www.notion.so/box-QE-d509d0092a2e4d0c96d2dca70e990dd1?pvs=4"
   ]
  },
  {
   "cell_type": "code",
   "execution_count": 1,
   "metadata": {},
   "outputs": [],
   "source": [
    "from ase.io.vasp import read_vasp\n",
    "from ase.build import make_supercell\n",
    "\n",
    "import numpy as np\n",
    "import pandas as pd\n",
    "import matplotlib.pyplot as plt\n",
    "\n",
    "from mlptools.io.write import QuantumEspressoWriter\n",
    "import os\n",
    "import pickle\n",
    "\n",
    "from mlptools.io.write import N2p2Writer\n",
    "from glob import glob"
   ]
  },
  {
   "cell_type": "code",
   "execution_count": 6,
   "metadata": {},
   "outputs": [],
   "source": [
    "path2structure = \"/Users/y1u0d2/desktop/Lab/result/qe/Si/mp-149/many-body-analysis/structure/POSCAR\"\n",
    "\n",
    "atoms = read_vasp(path2structure)"
   ]
  },
  {
   "cell_type": "code",
   "execution_count": 7,
   "metadata": {},
   "outputs": [
    {
     "name": "stdout",
     "output_type": "stream",
     "text": [
      "64\n"
     ]
    }
   ],
   "source": [
    "# make supercell\n",
    "supercell_atoms = make_supercell(atoms, [[2, 0, 0], [0, 2, 0], [0, 0, 2]])\n",
    "print(len(supercell_atoms))"
   ]
  },
  {
   "cell_type": "code",
   "execution_count": 29,
   "metadata": {},
   "outputs": [],
   "source": [
    "expanded_atoms_list = []\n",
    "\n",
    "# change volume\n",
    "change_volume_list = np.linspace(0.5, 3.00, 26)\n",
    "print(change_volume_list)\n",
    "for change_volume in change_volume_list:\n",
    "    expanded_atoms = supercell_atoms.copy()\n",
    "    expanded_atoms.set_cell(expanded_atoms.get_cell() * change_volume, scale_atoms=True)\n",
    "    expanded_atoms_list.append(expanded_atoms)"
   ]
  },
  {
   "cell_type": "code",
   "execution_count": 33,
   "metadata": {},
   "outputs": [
    {
     "name": "stdout",
     "output_type": "stream",
     "text": [
      "All atoms are not same distance.\n",
      "All atoms are not same distance.\n",
      "All atoms are not same distance.\n",
      "All atoms are not same distance.\n",
      "All atoms are not same distance.\n",
      "All atoms are not same distance.\n",
      "All atoms are not same distance.\n",
      "All atoms are not same distance.\n",
      "All atoms are not same distance.\n",
      "All atoms are not same distance.\n",
      "All atoms are not same distance.\n",
      "All atoms are not same distance.\n",
      "All atoms are not same distance.\n",
      "All atoms are not same distance.\n",
      "All atoms are not same distance.\n",
      "All atoms are not same distance.\n",
      "All atoms are not same distance.\n",
      "All atoms are not same distance.\n",
      "All atoms are not same distance.\n",
      "All atoms are not same distance.\n",
      "All atoms are not same distance.\n",
      "All atoms are not same distance.\n",
      "All atoms are not same distance.\n",
      "All atoms are not same distance.\n",
      "All atoms are not same distance.\n",
      "All atoms are not same distance.\n"
     ]
    }
   ],
   "source": [
    "# 原子間距離を計算して、最小値を取得する。しかし書く行に０があるのでそれを除いた最小値\n",
    "min_distance_list = []\n",
    "for expanded_atoms in expanded_atoms_list:\n",
    "    distance_matrix = expanded_atoms.get_all_distances()\n",
    "    np.fill_diagonal(distance_matrix, np.inf)\n",
    "    min_distance_each_atoms = np.min(distance_matrix, axis=1)\n",
    "    # 全て同じ値かどうか\n",
    "    if np.all(min_distance_each_atoms == min_distance_each_atoms[0]):\n",
    "        print(\"All atoms are same distance.\")\n",
    "    else:\n",
    "        print(\"All atoms are not same distance.\")\n",
    "    \n",
    "    min_distance_list.append(np.min(min_distance_each_atoms))"
   ]
  },
  {
   "cell_type": "code",
   "execution_count": 40,
   "metadata": {},
   "outputs": [],
   "source": [
    "# 計算できるようにディレクトリを作成する\n",
    "path2output = \"/Users/y1u0d2/desktop/Lab/result/qe/Si/mp-149/many-body-analysis/output\"\n",
    "path2template = \"/Users/y1u0d2/desktop/Lab/result/qe/Si/mp-149/many-body-analysis/template\"\n",
    "\n",
    "for i, expanded_atoms in enumerate(expanded_atoms_list):\n",
    "    writer = QuantumEspressoWriter(\n",
    "        atoms=expanded_atoms,\n",
    "        path2template=path2template,\n",
    "    )\n",
    "    scf_input_lines = writer.output()\n",
    "\n",
    "    dir_name = f\"scf_{i}\"\n",
    "    path2dir = os.path.join(path2output, dir_name)\n",
    "    os.makedirs(path2dir, exist_ok=True)\n",
    "\n",
    "    with open(os.path.join(path2dir, \"scf.in\"), mode=\"w\") as f:\n",
    "        f.writelines('\\n'.join(scf_input_lines))\n",
    "    \n",
    "    # save atoms as pickle\n",
    "    pickle.dump(expanded_atoms, open(os.path.join(path2dir, \"atoms.pkl\"), mode=\"wb\"))"
   ]
  },
  {
   "cell_type": "code",
   "execution_count": 3,
   "metadata": {},
   "outputs": [],
   "source": [
    "# n2p2用のinputを作成する\n",
    "\n",
    "path2output = \"/Users/y1u0d2/desktop/Lab/result/qe/Si/mp-149/many-body-analysis/output\"\n",
    "path2n2p2_output = \"/Users/y1u0d2/desktop/Lab/result/qe/Si/mp-149/many-body-analysis/n2p2_output\"\n",
    "\n",
    "all_atoms = []\n",
    "scf_dirs = glob(os.path.join(path2output, \"scf_*\"))\n",
    "for scf_dir in scf_dirs:\n",
    "    atoms = pickle.load(open(os.path.join(scf_dir, \"atoms.pkl\"), mode=\"rb\"))\n",
    "    writer = N2p2Writer(\n",
    "        atoms=atoms,\n",
    "        is_comment=True,\n",
    "        structure_id=os.path.basename(scf_dir),\n",
    "        has_calculator=False,\n",
    "    )\n",
    "    path2target = os.path.join(path2n2p2_output, os.path.basename(scf_dir))\n",
    "    os.makedirs(path2target, exist_ok=True)\n",
    "    with open(os.path.join(path2target, \"input.data\"), mode=\"w\") as f:\n",
    "            f.write(\"\\n\".join(writer.output()))"
   ]
  },
  {
   "cell_type": "markdown",
   "metadata": {},
   "source": [
    "## 結果確認"
   ]
  },
  {
   "cell_type": "code",
   "execution_count": 2,
   "metadata": {},
   "outputs": [
    {
     "name": "stdout",
     "output_type": "stream",
     "text": [
      "26 26\n"
     ]
    }
   ],
   "source": [
    "path2n2p2_output = \"/Users/y1u0d2/desktop/Lab/result/qe/Si/mp-149/many-body-analysis/n2p2_output/model_21\"\n",
    "path2scf = \"/Users/y1u0d2/desktop/Lab/result/qe/Si/mp-149/many-body-analysis/output\"\n",
    "\n",
    "ml_pred_dir_list = glob(os.path.join(path2n2p2_output, \"scf_*\"))\n",
    "scf_dir_list = glob(os.path.join(path2scf, \"scf_*\"))\n",
    "print(len(ml_pred_dir_list), len(scf_dir_list))"
   ]
  },
  {
   "cell_type": "code",
   "execution_count": 3,
   "metadata": {},
   "outputs": [
    {
     "name": "stdout",
     "output_type": "stream",
     "text": [
      "0 / 1\n"
     ]
    }
   ],
   "source": [
    "from mlptools.io.read import read_from_n2p2_data\n",
    "\n",
    "for ml_pred_dir in ml_pred_dir_list:\n",
    "    mlpatoms_list = read_from_n2p2_data(ml_pred_dir, \"output.data\")    \n",
    "    break"
   ]
  },
  {
   "cell_type": "code",
   "execution_count": null,
   "metadata": {},
   "outputs": [],
   "source": []
  }
 ],
 "metadata": {
  "kernelspec": {
   "display_name": ".venv",
   "language": "python",
   "name": "python3"
  },
  "language_info": {
   "codemirror_mode": {
    "name": "ipython",
    "version": 3
   },
   "file_extension": ".py",
   "mimetype": "text/x-python",
   "name": "python",
   "nbconvert_exporter": "python",
   "pygments_lexer": "ipython3",
   "version": "3.10.6"
  }
 },
 "nbformat": 4,
 "nbformat_minor": 2
}
