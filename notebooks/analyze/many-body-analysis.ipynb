{
 "cells": [
  {
   "cell_type": "markdown",
   "metadata": {},
   "source": [
    "# 多体の体積を大きくしていった時に収束するエネルギーをQEと機械学習で比べる\n",
    "- https://www.notion.so/box-QE-d509d0092a2e4d0c96d2dca70e990dd1?pvs=4"
   ]
  },
  {
   "cell_type": "code",
   "execution_count": 1,
   "metadata": {},
   "outputs": [],
   "source": [
    "from ase.io.vasp import read_vasp\n",
    "from ase.build import make_supercell\n",
    "\n",
    "import numpy as np\n",
    "import pandas as pd\n",
    "import matplotlib.pyplot as plt\n",
    "\n",
    "from mlptools.io.write import QuantumEspressoWriter\n",
    "import os\n",
    "import pickle\n",
    "\n",
    "from mlptools.io.write import N2p2Writer\n",
    "from glob import glob"
   ]
  },
  {
   "cell_type": "code",
   "execution_count": 6,
   "metadata": {},
   "outputs": [],
   "source": [
    "path2structure = \"/Users/y1u0d2/desktop/Lab/result/qe/Si/mp-149/many-body-analysis/structure/POSCAR\"\n",
    "\n",
    "atoms = read_vasp(path2structure)"
   ]
  },
  {
   "cell_type": "code",
   "execution_count": 7,
   "metadata": {},
   "outputs": [
    {
     "name": "stdout",
     "output_type": "stream",
     "text": [
      "64\n"
     ]
    }
   ],
   "source": [
    "# make supercell\n",
    "supercell_atoms = make_supercell(atoms, [[2, 0, 0], [0, 2, 0], [0, 0, 2]])\n",
    "print(len(supercell_atoms))"
   ]
  },
  {
   "cell_type": "code",
   "execution_count": 29,
   "metadata": {},
   "outputs": [],
   "source": [
    "expanded_atoms_list = []\n",
    "\n",
    "# change volume\n",
    "change_volume_list = np.linspace(0.5, 3.00, 26)\n",
    "print(change_volume_list)\n",
    "for change_volume in change_volume_list:\n",
    "    expanded_atoms = supercell_atoms.copy()\n",
    "    expanded_atoms.set_cell(expanded_atoms.get_cell() * change_volume, scale_atoms=True)\n",
    "    expanded_atoms_list.append(expanded_atoms)"
   ]
  },
  {
   "cell_type": "code",
   "execution_count": 33,
   "metadata": {},
   "outputs": [
    {
     "name": "stdout",
     "output_type": "stream",
     "text": [
      "All atoms are not same distance.\n",
      "All atoms are not same distance.\n",
      "All atoms are not same distance.\n",
      "All atoms are not same distance.\n",
      "All atoms are not same distance.\n",
      "All atoms are not same distance.\n",
      "All atoms are not same distance.\n",
      "All atoms are not same distance.\n",
      "All atoms are not same distance.\n",
      "All atoms are not same distance.\n",
      "All atoms are not same distance.\n",
      "All atoms are not same distance.\n",
      "All atoms are not same distance.\n",
      "All atoms are not same distance.\n",
      "All atoms are not same distance.\n",
      "All atoms are not same distance.\n",
      "All atoms are not same distance.\n",
      "All atoms are not same distance.\n",
      "All atoms are not same distance.\n",
      "All atoms are not same distance.\n",
      "All atoms are not same distance.\n",
      "All atoms are not same distance.\n",
      "All atoms are not same distance.\n",
      "All atoms are not same distance.\n",
      "All atoms are not same distance.\n",
      "All atoms are not same distance.\n"
     ]
    }
   ],
   "source": [
    "# 原子間距離を計算して、最小値を取得する。しかし書く行に０があるのでそれを除いた最小値\n",
    "min_distance_list = []\n",
    "for expanded_atoms in expanded_atoms_list:\n",
    "    distance_matrix = expanded_atoms.get_all_distances()\n",
    "    np.fill_diagonal(distance_matrix, np.inf)\n",
    "    min_distance_each_atoms = np.min(distance_matrix, axis=1)\n",
    "    # 全て同じ値かどうか\n",
    "    if np.all(min_distance_each_atoms == min_distance_each_atoms[0]):\n",
    "        print(\"All atoms are same distance.\")\n",
    "    else:\n",
    "        print(\"All atoms are not same distance.\")\n",
    "    \n",
    "    min_distance_list.append(np.min(min_distance_each_atoms))"
   ]
  },
  {
   "cell_type": "code",
   "execution_count": 40,
   "metadata": {},
   "outputs": [],
   "source": [
    "# 計算できるようにディレクトリを作成する\n",
    "path2output = \"/Users/y1u0d2/desktop/Lab/result/qe/Si/mp-149/many-body-analysis/output\"\n",
    "path2template = \"/Users/y1u0d2/desktop/Lab/result/qe/Si/mp-149/many-body-analysis/template\"\n",
    "\n",
    "for i, expanded_atoms in enumerate(expanded_atoms_list):\n",
    "    writer = QuantumEspressoWriter(\n",
    "        atoms=expanded_atoms,\n",
    "        path2template=path2template,\n",
    "    )\n",
    "    scf_input_lines = writer.output()\n",
    "\n",
    "    dir_name = f\"scf_{i}\"\n",
    "    path2dir = os.path.join(path2output, dir_name)\n",
    "    os.makedirs(path2dir, exist_ok=True)\n",
    "\n",
    "    with open(os.path.join(path2dir, \"scf.in\"), mode=\"w\") as f:\n",
    "        f.writelines('\\n'.join(scf_input_lines))\n",
    "    \n",
    "    # save atoms as pickle\n",
    "    pickle.dump(expanded_atoms, open(os.path.join(path2dir, \"atoms.pkl\"), mode=\"wb\"))"
   ]
  },
  {
   "cell_type": "code",
   "execution_count": 3,
   "metadata": {},
   "outputs": [],
   "source": [
    "# n2p2用のinputを作成する\n",
    "\n",
    "path2output = \"/Users/y1u0d2/desktop/Lab/result/qe/Si/mp-149/many-body-analysis/output\"\n",
    "path2n2p2_output = \"/Users/y1u0d2/desktop/Lab/result/qe/Si/mp-149/many-body-analysis/n2p2_output\"\n",
    "\n",
    "all_atoms = []\n",
    "scf_dirs = glob(os.path.join(path2output, \"scf_*\"))\n",
    "for scf_dir in scf_dirs:\n",
    "    atoms = pickle.load(open(os.path.join(scf_dir, \"atoms.pkl\"), mode=\"rb\"))\n",
    "    writer = N2p2Writer(\n",
    "        atoms=atoms,\n",
    "        is_comment=True,\n",
    "        structure_id=os.path.basename(scf_dir),\n",
    "        has_calculator=False,\n",
    "    )\n",
    "    path2target = os.path.join(path2n2p2_output, os.path.basename(scf_dir))\n",
    "    os.makedirs(path2target, exist_ok=True)\n",
    "    with open(os.path.join(path2target, \"input.data\"), mode=\"w\") as f:\n",
    "            f.write(\"\\n\".join(writer.output()))"
   ]
  },
  {
   "cell_type": "markdown",
   "metadata": {},
   "source": [
    "## 結果確認"
   ]
  },
  {
   "cell_type": "code",
   "execution_count": 2,
   "metadata": {},
   "outputs": [
    {
     "name": "stdout",
     "output_type": "stream",
     "text": [
      "26 26\n"
     ]
    }
   ],
   "source": [
    "path2n2p2_output = \"/Users/y1u0d2/desktop/Lab/result/qe/Si/mp-149/many-body-analysis/n2p2_output/model_21\"\n",
    "path2scf = \"/Users/y1u0d2/desktop/Lab/result/qe/Si/mp-149/many-body-analysis/output\"\n",
    "\n",
    "ml_pred_dir_list = glob(os.path.join(path2n2p2_output, \"scf_*\"))\n",
    "scf_dir_list = glob(os.path.join(path2scf, \"scf_*\"))\n",
    "print(len(ml_pred_dir_list), len(scf_dir_list))"
   ]
  },
  {
   "cell_type": "code",
   "execution_count": 17,
   "metadata": {},
   "outputs": [
    {
     "name": "stdout",
     "output_type": "stream",
     "text": [
      "0 / 1\n",
      "0 / 1\n",
      "0 / 1\n",
      "0 / 1\n",
      "0 / 1\n",
      "0 / 1\n",
      "0 / 1\n",
      "0 / 1\n",
      "0 / 1\n",
      "0 / 1\n",
      "0 / 1\n",
      "0 / 1\n",
      "0 / 1\n",
      "0 / 1\n",
      "0 / 1\n",
      "0 / 1\n",
      "0 / 1\n",
      "0 / 1\n",
      "0 / 1\n",
      "0 / 1\n",
      "0 / 1\n",
      "0 / 1\n",
      "0 / 1\n",
      "0 / 1\n",
      "0 / 1\n",
      "0 / 1\n",
      "WARNING: Unreliable scf result\n",
      "WARNING: Unreliable scf result\n",
      "WARNING: Unreliable scf result\n",
      "/Users/y1u0d2/desktop/Lab/result/qe/Si/mp-149/many-body-analysis/output/scf_1 ((2, 0), 4)\n",
      "WARNING: Unreliable scf result\n",
      "/Users/y1u0d2/desktop/Lab/result/qe/Si/mp-149/many-body-analysis/output/scf_21 ((2, 0), 4)\n",
      "/Users/y1u0d2/desktop/Lab/result/qe/Si/mp-149/many-body-analysis/output/scf_19 ((2, 0), 4)\n",
      "WARNING: Unreliable scf result\n",
      "/Users/y1u0d2/desktop/Lab/result/qe/Si/mp-149/many-body-analysis/output/scf_17 ((2, 0), 4)\n",
      "/Users/y1u0d2/desktop/Lab/result/qe/Si/mp-149/many-body-analysis/output/scf_16 ((2, 0), 4)\n",
      "/Users/y1u0d2/desktop/Lab/result/qe/Si/mp-149/many-body-analysis/output/scf_11 ((2, 0), 4)\n",
      "/Users/y1u0d2/desktop/Lab/result/qe/Si/mp-149/many-body-analysis/output/scf_18 ((2, 0), 4)\n",
      "/Users/y1u0d2/desktop/Lab/result/qe/Si/mp-149/many-body-analysis/output/scf_20 \n",
      "WARNING: Unreliable scf result\n",
      "WARNING: Unreliable scf result\n",
      "WARNING: Unreliable scf result\n",
      "/Users/y1u0d2/desktop/Lab/result/qe/Si/mp-149/many-body-analysis/output/scf_2 ((2, 0), 4)\n",
      "/Users/y1u0d2/desktop/Lab/result/qe/Si/mp-149/many-body-analysis/output/scf_25 \n",
      "/Users/y1u0d2/desktop/Lab/result/qe/Si/mp-149/many-body-analysis/output/scf_22 \n",
      "/Users/y1u0d2/desktop/Lab/result/qe/Si/mp-149/many-body-analysis/output/scf_14 ((2, 0), 4)\n",
      "/Users/y1u0d2/desktop/Lab/result/qe/Si/mp-149/many-body-analysis/output/scf_13 ((2, 0), 4)\n",
      "/Users/y1u0d2/desktop/Lab/result/qe/Si/mp-149/many-body-analysis/output/scf_12 ((2, 0), 4)\n",
      "/Users/y1u0d2/desktop/Lab/result/qe/Si/mp-149/many-body-analysis/output/scf_15 ((2, 0), 4)\n",
      "/Users/y1u0d2/desktop/Lab/result/qe/Si/mp-149/many-body-analysis/output/scf_23 \n",
      "/Users/y1u0d2/desktop/Lab/result/qe/Si/mp-149/many-body-analysis/output/scf_24 \n"
     ]
    }
   ],
   "source": [
    "from mlptools.io.read import read_from_n2p2_data, read_from_format\n",
    "from pydantic import BaseModel\n",
    "from typing import Literal\n",
    "\n",
    "class ManyBodyAnalysisResultConfig(BaseModel):\n",
    "    energy: float\n",
    "    volume: float\n",
    "    num_atoms: int\n",
    "    calculation_type: Literal[\"scf\", \"ml\"]\n",
    "\n",
    "\n",
    "many_body_analysis_result_config_list = []\n",
    "\n",
    "for ml_pred_dir in ml_pred_dir_list:\n",
    "    mlpatoms_list = read_from_n2p2_data(ml_pred_dir, \"output.data\")\n",
    "    mlpatoms = mlpatoms_list[0]\n",
    "    many_body_analysis_result_config = ManyBodyAnalysisResultConfig(\n",
    "        energy=mlpatoms.energy,\n",
    "        volume=mlpatoms.get_volume(),\n",
    "        num_atoms=mlpatoms.n_atoms,\n",
    "        calculation_type=\"ml\",\n",
    "    )\n",
    "    many_body_analysis_result_config_list.append(many_body_analysis_result_config)\n",
    "\n",
    "\n",
    "for scf_dir in scf_dir_list:\n",
    "    try:\n",
    "        mlpatoms = read_from_format(scf_dir, \"espresso-in\", is_validate_strict=False)\n",
    "        many_body_analysis_result_config = ManyBodyAnalysisResultConfig(\n",
    "            energy=mlpatoms.energy,\n",
    "            volume=mlpatoms.get_volume(),\n",
    "            num_atoms=mlpatoms.n_atoms,\n",
    "            calculation_type=\"scf\",\n",
    "        )\n",
    "        many_body_analysis_result_config_list.append(many_body_analysis_result_config)\n",
    "    except Exception as e:\n",
    "        print(scf_dir, e)\n",
    "        continue"
   ]
  },
  {
   "cell_type": "code",
   "execution_count": 22,
   "metadata": {},
   "outputs": [],
   "source": [
    "# make dataframe from pydantic config list\n",
    "many_body_analysis_result_df = pd.DataFrame([config.model_dump() for config in many_body_analysis_result_config_list])\n",
    "many_body_analysis_result_df[\"volume_per_atom\"] = many_body_analysis_result_df[\"volume\"] / many_body_analysis_result_df[\"num_atoms\"]\n",
    "many_body_analysis_result_df[\"energy_per_atom\"] = many_body_analysis_result_df[\"energy\"] / many_body_analysis_result_df[\"num_atoms\"]"
   ]
  },
  {
   "cell_type": "code",
   "execution_count": 39,
   "metadata": {},
   "outputs": [
    {
     "data": {
      "text/plain": [
       "(-637.0, -520.0)"
      ]
     },
     "execution_count": 39,
     "metadata": {},
     "output_type": "execute_result"
    },
    {
     "data": {
      "image/png": "[encoded data removed]",
      "text/plain": [
       "<Figure size 600x600 with 1 Axes>"
      ]
     },
     "metadata": {},
     "output_type": "display_data"
    }
   ],
   "source": [
    "# plot relation\n",
    "import seaborn as sns\n",
    "\n",
    "# plot volume per atom and energy per atom each calculation type\n",
    "fig, ax = plt.subplots(figsize=(6, 6))\n",
    "sns.lineplot(\n",
    "    data=many_body_analysis_result_df,\n",
    "    x=\"volume_per_atom\",\n",
    "    y=\"energy_per_atom\",\n",
    "    hue=\"calculation_type\",\n",
    "    ax=ax,\n",
    "    marker=\"o\"\n",
    ")\n",
    "ax.set_xlabel(\"Volume per atom($\\AA^3$)\")\n",
    "ax.set_ylabel(\"Energy per atom(eV)\")\n",
    "\n",
    "ax.set_ylim(-637, -520)"
   ]
  },
  {
   "cell_type": "code",
   "execution_count": 36,
   "metadata": {},
   "outputs": [
    {
     "name": "stdout",
     "output_type": "stream",
     "text": [
      "volume per atom: 2.52059375, scf energy: -558.9028284995675, ml energy: -540.7592270983654, diff: -18.14360140120209\n",
      "volume per atom: 10.324359375, scf energy: -631.5428053625895, ml energy: -631.2574930881854, diff: -0.28531227440419116\n",
      "volume per atom: 14.700109375, scf energy: -634.96322748919, ml energy: -634.6910701743374, diff: -0.2721573148526204\n",
      "volume per atom: 20.164765625, scf energy: -635.7492575197408, ml energy: -635.4661690928829, diff: -0.2830884268579439\n",
      "volume per atom: 26.839296875, scf energy: -635.4146705763756, ml energy: -635.1279182007955, diff: -0.2867523755800221\n",
      "volume per atom: 34.84471875, scf energy: -634.7299930377019, ml energy: -634.4105539112718, diff: -0.31943912643009753\n",
      "volume per atom: 44.301984375, scf energy: -634.0178166885429, ml energy: -633.6983861099878, diff: -0.31943057855505685\n",
      "volume per atom: 55.332109375, scf energy: -633.3747307296808, ml energy: -633.1463514521787, diff: -0.22837927750208564\n",
      "volume per atom: 68.056078125, scf energy: -632.8211408481972, ml energy: -632.6362425861456, diff: -0.18489826205154714\n"
     ]
    }
   ],
   "source": [
    "ml_df = many_body_analysis_result_df[many_body_analysis_result_df[\"calculation_type\"] == \"ml\"]\n",
    "scf_df = many_body_analysis_result_df[many_body_analysis_result_df[\"calculation_type\"] == \"scf\"]\n",
    "\n",
    "unique_volume_per_atom_list = np.unique(ml_df[\"volume_per_atom\"])\n",
    "for vol in unique_volume_per_atom_list:\n",
    "    # check if vol exists in scf_df and ml_df\n",
    "    if vol in scf_df[\"volume_per_atom\"].to_numpy() and vol in ml_df[\"volume_per_atom\"].to_numpy():\n",
    "        scf_energy = scf_df[scf_df[\"volume_per_atom\"] == vol][\"energy_per_atom\"].to_numpy()[0]\n",
    "        ml_energy = ml_df[ml_df[\"volume_per_atom\"] == vol][\"energy_per_atom\"].to_numpy()[0]\n",
    "        print(f\"volume per atom: {vol}, scf energy: {scf_energy}, ml energy: {ml_energy}, diff: {scf_energy - ml_energy}\")"
   ]
  },
  {
   "cell_type": "code",
   "execution_count": null,
   "metadata": {},
   "outputs": [],
   "source": []
  }
 ],
 "metadata": {
  "kernelspec": {
   "display_name": ".venv",
   "language": "python",
   "name": "python3"
  },
  "language_info": {
   "codemirror_mode": {
    "name": "ipython",
    "version": 3
   },
   "file_extension": ".py",
   "mimetype": "text/x-python",
   "name": "python",
   "nbconvert_exporter": "python",
   "pygments_lexer": "ipython3",
   "version": "3.10.6"
  }
 },
 "nbformat": 4,
 "nbformat_minor": 2
}
