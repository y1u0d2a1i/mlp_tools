{
 "cells": [
  {
   "cell_type": "markdown",
   "metadata": {},
   "source": [
    "# 基板の大きさの変化によるスパッタリング率の変化を見る"
   ]
  },
  {
   "cell_type": "markdown",
   "metadata": {},
   "source": [
    "[参照]\n",
    "https://www.notion.so/048e4f972fb44a81a6a4f65e8339e228?pvs=4"
   ]
  },
  {
   "cell_type": "code",
   "execution_count": 1,
   "metadata": {},
   "outputs": [],
   "source": [
    "import os\n",
    "import shutil\n",
    "from pydantic import BaseModel"
   ]
  },
  {
   "cell_type": "code",
   "execution_count": 2,
   "metadata": {},
   "outputs": [],
   "source": [
    "path2target = \"/Users/y1u0d2/desktop/Lab/result/lammps/Si/sputtering/tersoff/analyze_sp_with_size_of_substrate\"\n",
    "path2template = os.path.join(path2target, \"template\")\n",
    "path2result = os.path.join(path2target, \"result\")\n",
    "\n",
    "\n",
    "INPUT_FILE = \"in.tersoff\"\n",
    "SHELL_SCRIPT = \"in.sh\"\n",
    "POTENTIAL_FILE = \"SiC.tersoff.zbl\"\n",
    "POTENTIAL_NAME = \"TERSOFF\""
   ]
  },
  {
   "cell_type": "code",
   "execution_count": 3,
   "metadata": {},
   "outputs": [],
   "source": [
    "width_list = [8.5]\n",
    "depth_list = [15, 20]\n",
    "energy_list = [200, 500, 750, 1000]\n",
    "\n",
    "width_num_injection_map = {\n",
    "    7.5: 1200,\n",
    "    8.5: 1600,\n",
    "    9.5: 2000\n",
    "}\n",
    "\n",
    "# 各スパッタリングシミュレーションのConfig作成\n",
    "class SubstrateSizeAnalysisSputteringConfig(BaseModel):\n",
    "    potential_name: str\n",
    "    width: float\n",
    "    depth: float\n",
    "    height: float\n",
    "    energy: int\n",
    "    num_injection: int\n",
    "\n",
    "\n",
    "def get_height(depth: float) -> float:\n",
    "    return depth + 2.5"
   ]
  },
  {
   "cell_type": "code",
   "execution_count": 4,
   "metadata": {},
   "outputs": [],
   "source": [
    "# width_list, depth_list, energy_listの組み合わせでConfigを作成\n",
    "config_list = []\n",
    "for width in width_list:\n",
    "    for depth in depth_list:\n",
    "        for energy in energy_list:\n",
    "            height = get_height(depth)\n",
    "            num_injection = width_num_injection_map[width]\n",
    "            config = SubstrateSizeAnalysisSputteringConfig(\n",
    "                potential_name=POTENTIAL_NAME,\n",
    "                width=width,\n",
    "                depth=depth,\n",
    "                height=height,\n",
    "                energy=energy,\n",
    "                num_injection=num_injection\n",
    "            )\n",
    "            config_list.append(config)"
   ]
  },
  {
   "cell_type": "code",
   "execution_count": 5,
   "metadata": {},
   "outputs": [],
   "source": [
    "# 各Configに対応するディレクトリを作成し、入力ファイル、シェルスクリプト、ポテンシャルファイルをコピー\n",
    "from typing import List\n",
    "def change_input_parameter(lines: List[str], keyword: str, new_value: int):\n",
    "    for idx, line in enumerate(lines):\n",
    "        if keyword in line:\n",
    "            lines[idx] = f\"{keyword} {new_value}\"\n",
    "            return lines\n",
    "    raise ValueError(f\"keyword: {keyword} is not found.\")\n",
    "\n",
    "for config in config_list:\n",
    "    # ディレクトリを作成\n",
    "    dir_name = f\"{config.potential_name}_W-{config.width}_D-{config.depth}_E-{config.energy}\"\n",
    "    path2dir = os.path.join(path2result, dir_name)\n",
    "    os.makedirs(path2dir, exist_ok=True)\n",
    "\n",
    "    # width, depth, height, energy, num_injectionを入力ファイルに書き込む\n",
    "    with open(os.path.join(path2template, INPUT_FILE), mode=\"r\") as f:\n",
    "        lines = [s.strip() for s in f.readlines()]\n",
    "    \n",
    "    lines = change_input_parameter(\n",
    "        lines=lines,\n",
    "        keyword=\"variable lenx index\",\n",
    "        new_value=config.width\n",
    "    )\n",
    "    lines = change_input_parameter(\n",
    "        lines=lines,\n",
    "        keyword=\"variable leny index\",\n",
    "        new_value=config.width\n",
    "    )\n",
    "    lines = change_input_parameter(\n",
    "        lines=lines,\n",
    "        keyword=\"variable hgt  index\",\n",
    "        new_value=config.depth\n",
    "    )\n",
    "    lines = change_input_parameter(\n",
    "        lines=lines,\n",
    "        keyword=\"variable hgtB index\",\n",
    "        new_value=config.height\n",
    "    )\n",
    "    lines = change_input_parameter(\n",
    "        lines=lines,\n",
    "        keyword=\"variable lp equal\",\n",
    "        new_value=config.num_injection\n",
    "    )\n",
    "    lines = change_input_parameter(\n",
    "        lines=lines,\n",
    "        keyword=\"variable enrg equal\",\n",
    "        new_value=config.energy\n",
    "    )\n",
    "\n",
    "    # linesをファイルに書き込む\n",
    "    with open(os.path.join(path2dir, INPUT_FILE), mode=\"w\") as f:\n",
    "        f.write(\"\\n\".join(lines))\n",
    "    \n",
    "    # シェルスクリプトをコピー\n",
    "    shutil.copy(os.path.join(path2template, SHELL_SCRIPT), os.path.join(path2dir, SHELL_SCRIPT))\n",
    "    shutil.copy(os.path.join(path2template, POTENTIAL_FILE), os.path.join(path2dir, POTENTIAL_FILE))"
   ]
  }
 ],
 "metadata": {
  "kernelspec": {
   "display_name": ".venv",
   "language": "python",
   "name": "python3"
  },
  "language_info": {
   "codemirror_mode": {
    "name": "ipython",
    "version": 3
   },
   "file_extension": ".py",
   "mimetype": "text/x-python",
   "name": "python",
   "nbconvert_exporter": "python",
   "pygments_lexer": "ipython3",
   "version": "3.10.6"
  }
 },
 "nbformat": 4,
 "nbformat_minor": 2
}
