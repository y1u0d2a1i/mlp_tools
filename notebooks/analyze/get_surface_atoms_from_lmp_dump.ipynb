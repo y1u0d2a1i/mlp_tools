{
 "cells": [
  {
   "cell_type": "code",
   "execution_count": null,
   "metadata": {},
   "outputs": [],
   "source": [
    "from ase.io import read\n",
    "import numpy as np\n",
    "import pandas as pd\n",
    "import matplotlib.pyplot as plt\n",
    "import pickle\n",
    "import os\n",
    "\n",
    "from glob import glob\n",
    "from mlptools.atoms.extract_atoms import extract_atoms"
   ]
  },
  {
   "attachments": {},
   "cell_type": "markdown",
   "metadata": {},
   "source": [
    "## LAMMPSのdumpファイルから入射直後の構造を取得する"
   ]
  },
  {
   "cell_type": "code",
   "execution_count": null,
   "metadata": {},
   "outputs": [],
   "source": [
    "path2dump = '/Users/y1u0d2/desktop/Lab/result/lammps/Si/sputtering/ml/depth15/0deg_1000eV/dump.lammpstrj'\n",
    "# atoms = read(path2dump, index=0, format='lammps-dump-text')"
   ]
  },
  {
   "cell_type": "code",
   "execution_count": null,
   "metadata": {},
   "outputs": [],
   "source": [
    "from ovito.io import import_file\n",
    "from ovito.io.ase import ovito_to_ase\n",
    "\n",
    "# Import a sequence of files.\n",
    "pipeline = import_file(path2dump)"
   ]
  },
  {
   "cell_type": "code",
   "execution_count": null,
   "metadata": {},
   "outputs": [],
   "source": [
    "import random\n",
    "random.seed(1)\n",
    "\n",
    "dump_structure_every_n_steps = 500\n",
    "insert_atom_every_n_steps = 20000\n",
    "n_frame_after_insertion = 3\n",
    "\n",
    "insert_atom_every_n_frames = insert_atom_every_n_steps // dump_structure_every_n_steps\n",
    "pipeline.source.num_frames, insert_atom_every_n_frames\n",
    "\n",
    "insert_atom_frame_idx_list = [i * insert_atom_every_n_frames + 1 for i in range(pipeline.source.num_frames // insert_atom_every_n_frames)]\n",
    "for i in range(1, n_frame_after_insertion):\n",
    "    insert_atom_frame_idx_list_plus = [idx + i for idx in insert_atom_frame_idx_list]\n",
    "    insert_atom_frame_idx_list += insert_atom_frame_idx_list_plus\n",
    "insert_atom_frame_idx_list.sort()\n",
    "\n",
    "# get some elements from list randomly\n",
    "random_idx_list = random.sample(range(len(insert_atom_frame_idx_list)), 1000)\n",
    "random_idx_list.sort()\n",
    "random_insert_atom_frame_idx_list = [insert_atom_frame_idx_list[idx] for idx in random_idx_list]\n",
    "# ase_atoms_list = []"
   ]
  },
  {
   "cell_type": "code",
   "execution_count": null,
   "metadata": {},
   "outputs": [],
   "source": [
    "# Loop over all frames of the sequence.\n",
    "path2save = \"/Users/y1u0d2/desktop/Lab/result/qe/Si/amorphous/ase_atoms/20230611/structures\"\n",
    "for frame_index in random_insert_atom_frame_idx_list:\n",
    "    filename = f'frame{frame_index}.pkl'\n",
    "    data = pipeline.source.compute(frame_index)\n",
    "    ase_atoms = ovito_to_ase(data)\n",
    "\n",
    "    print('Frame source:', data.attributes['SourceFile'])\n",
    "    print('Frame index:', data.attributes['SourceFrame'])\n",
    "\n",
    "    with open(os.path.join(path2save, filename), 'wb') as f:\n",
    "        pickle.dump(ase_atoms, f)\n",
    "    # break"
   ]
  },
  {
   "cell_type": "markdown",
   "metadata": {},
   "source": [
    "# ASE Atoms objectから特定の範囲の原子を取り出す"
   ]
  },
  {
   "cell_type": "code",
   "execution_count": null,
   "metadata": {},
   "outputs": [],
   "source": [
    "# load pickle file\n",
    "path2atoms = \"/Users/y1u0d2/desktop/Lab/result/lammps/Si/sputtering/ml/depth15/0deg_1000eV/atoms\"\n",
    "with open(os.path.join(path2atoms, 'frame10441.pkl'), 'rb') as f:\n",
    "    atoms = pickle.load(f)"
   ]
  },
  {
   "cell_type": "code",
   "execution_count": null,
   "metadata": {},
   "outputs": [],
   "source": [
    "# atoms = ase_atoms_list[0]\n",
    "coord = atoms.get_positions()\n",
    "cell = atoms.get_cell()\n",
    "\n",
    "fig = plt.figure(figsize=(10,6))\n",
    "ax = fig.add_subplot(111)\n",
    "\n",
    "ax.scatter(coord[:, 0], coord[:, 2])\n",
    "ax.set_xlim(0, cell[0].max())\n",
    "ax.set_ylim(100, cell[2].max())"
   ]
  },
  {
   "cell_type": "code",
   "execution_count": null,
   "metadata": {},
   "outputs": [],
   "source": [
    "from mlptools.atoms.extract_atoms import extract_atoms\n",
    "\n",
    "# extract atoms on the given range\n",
    "x_range = [10, 20]\n",
    "y_range = [20, 30]\n",
    "z_range = [120, 149.325]\n",
    "extracted_atoms = extract_atoms(atoms, x_range, y_range, z_range)"
   ]
  },
  {
   "cell_type": "code",
   "execution_count": null,
   "metadata": {},
   "outputs": [],
   "source": []
  },
  {
   "cell_type": "code",
   "execution_count": null,
   "metadata": {},
   "outputs": [],
   "source": [
    "path2save = \"/Users/y1u0d2/desktop/Lab/result/lammps/Si/sputtering/ml/depth15/0deg_1000eV/surface_atoms\"\n",
    "x_range_list = [[0, 10], [10, 20], [20, 30], [30, 40]]\n",
    "y_range_list = [[0, 10], [10, 20], [20, 30], [30, 40]]\n",
    "z_range = [120, 149.325]\n",
    "\n",
    "range_combination = []\n",
    "for x_range in x_range_list:\n",
    "    for y_range in y_range_list:\n",
    "        range_combination.append([x_range, y_range, z_range])\n",
    "\n",
    "def random_str(length):\n",
    "    import random\n",
    "    import string\n",
    "    return ''.join(random.choice(string.ascii_letters) for i in range(length))\n",
    "\n",
    "for x_range, y_range, z_range in range_combination:\n",
    "    extracted_atoms = extract_atoms(atoms, x_range, y_range, z_range)\n",
    "    # save atoms\n",
    "    filename = f'{random_str(50)}.pkl'\n",
    "    with open(os.path.join(path2save, filename), 'wb') as f:\n",
    "        pickle.dump(extracted_atoms, f)"
   ]
  },
  {
   "cell_type": "code",
   "execution_count": null,
   "metadata": {},
   "outputs": [],
   "source": []
  },
  {
   "cell_type": "code",
   "execution_count": null,
   "metadata": {},
   "outputs": [],
   "source": [
    "path2atoms = \"/Users/y1u0d2/desktop/Lab/result/qe/Si/amorphous/ase_atoms/20230611/structures\"\n",
    "atoms_files = glob(os.path.join(path2atoms, '*.pkl'))\n",
    "print(len(atoms_files))"
   ]
  },
  {
   "cell_type": "code",
   "execution_count": null,
   "metadata": {},
   "outputs": [],
   "source": [
    "max_x = 40\n",
    "num_division = 7\n",
    "def get_divited_range(max_x, num_division):\n",
    "    return [[round(i * max_x / num_division, 2), round((i + 1) * max_x / num_division, 2)] for i in range(num_division)]\n",
    "\n",
    "get_divited_range(max_x, num_division)"
   ]
  },
  {
   "cell_type": "code",
   "execution_count": null,
   "metadata": {},
   "outputs": [],
   "source": [
    "path2save = \"/Users/y1u0d2/desktop/Lab/result/qe/Si/amorphous/ase_atoms/20230611/divided\"\n",
    "x_range_list = get_divited_range(max_x, num_division)\n",
    "y_range_list = get_divited_range(max_x, num_division)\n",
    "z_range = [120, 149.325]\n",
    "\n",
    "range_combination = []\n",
    "for x_range in x_range_list:\n",
    "    for y_range in y_range_list:\n",
    "        range_combination.append([x_range, y_range, z_range])\n",
    "\n",
    "\n",
    "for atoms_f in atoms_files:\n",
    "    frame_name = atoms_f.split('/')[-1].split('.')[0]\n",
    "    print(frame_name)\n",
    "    with open(atoms_f, 'rb') as f:\n",
    "        atoms = pickle.load(f)\n",
    "    print(len(atoms))\n",
    "\n",
    "    for x_range, y_range, z_range in range_combination:\n",
    "        extracted_atoms = extract_atoms(atoms, x_range, y_range, z_range)\n",
    "        # save atoms\n",
    "        filename = f'{frame_name}_x{x_range[0]}-{x_range[1]}_y{y_range[0]}-{y_range[1]}_z{z_range[0]}-{z_range[1]}.pkl'\n",
    "        print(filename)\n",
    "        print(extracted_atoms)\n",
    "        with open(os.path.join(path2save, filename), 'wb') as f:\n",
    "            pickle.dump(extracted_atoms, f)\n",
    "    # break"
   ]
  },
  {
   "cell_type": "code",
   "execution_count": null,
   "metadata": {},
   "outputs": [],
   "source": []
  }
 ],
 "metadata": {
  "kernelspec": {
   "display_name": "mlp",
   "language": "python",
   "name": "python3"
  },
  "language_info": {
   "codemirror_mode": {
    "name": "ipython",
    "version": 3
   },
   "file_extension": ".py",
   "mimetype": "text/x-python",
   "name": "python",
   "nbconvert_exporter": "python",
   "pygments_lexer": "ipython3",
   "version": "3.11.0"
  },
  "orig_nbformat": 4
 },
 "nbformat": 4,
 "nbformat_minor": 2
}
