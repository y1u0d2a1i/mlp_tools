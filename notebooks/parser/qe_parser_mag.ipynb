{
 "cells": [
  {
   "cell_type": "code",
   "execution_count": 3,
   "metadata": {},
   "outputs": [],
   "source": [
    "import numpy as np\n",
    "import pandas as pd\n",
    "import matplotlib.pyplot as plt\n",
    "from glob import glob\n",
    "\n",
    "from mlptools.io.parser import PWscfParser\n",
    "from mlptools.io.read import read_from_format"
   ]
  },
  {
   "cell_type": "code",
   "execution_count": 5,
   "metadata": {},
   "outputs": [],
   "source": [
    "path2dimer = '/Users/y1u0d2/desktop/Lab/result/qe/Si/mp-149_dimer/coord/spin/result'\n",
    "dimer_dirs = glob(f'{path2dimer}/scf*')"
   ]
  },
  {
   "cell_type": "code",
   "execution_count": 6,
   "metadata": {},
   "outputs": [
    {
     "name": "stdout",
     "output_type": "stream",
     "text": [
      "/Users/y1u0d2/desktop/Lab/result/qe/Si/mp-149_dimer/coord/spin/result/scf_33 2.0 2.0\n",
      "/Users/y1u0d2/desktop/Lab/result/qe/Si/mp-149_dimer/coord/spin/result/scf_34 2.0 2.0\n",
      "/Users/y1u0d2/desktop/Lab/result/qe/Si/mp-149_dimer/coord/spin/result/scf_60 4.0 4.0\n",
      "/Users/y1u0d2/desktop/Lab/result/qe/Si/mp-149_dimer/coord/spin/result/scf_94 4.0 4.0\n",
      "/Users/y1u0d2/desktop/Lab/result/qe/Si/mp-149_dimer/coord/spin/result/scf_58 4.0 4.0\n",
      "/Users/y1u0d2/desktop/Lab/result/qe/Si/mp-149_dimer/coord/spin/result/scf_93 4.0 4.0\n",
      "/Users/y1u0d2/desktop/Lab/result/qe/Si/mp-149_dimer/coord/spin/result/scf_67 4.0 4.0\n",
      "/Users/y1u0d2/desktop/Lab/result/qe/Si/mp-149_dimer/coord/spin/result/scf_51 is not a valid directory\n",
      "/Users/y1u0d2/desktop/Lab/result/qe/Si/mp-149_dimer/coord/spin/result/scf_69 4.0 4.0\n",
      "/Users/y1u0d2/desktop/Lab/result/qe/Si/mp-149_dimer/coord/spin/result/scf_56 4.0 4.0\n",
      "/Users/y1u0d2/desktop/Lab/result/qe/Si/mp-149_dimer/coord/spin/result/scf_35 2.0 2.0\n",
      "/Users/y1u0d2/desktop/Lab/result/qe/Si/mp-149_dimer/coord/spin/result/scf_32 2.0 2.0\n",
      "/Users/y1u0d2/desktop/Lab/result/qe/Si/mp-149_dimer/coord/spin/result/scf_68 4.0 4.0\n",
      "/Users/y1u0d2/desktop/Lab/result/qe/Si/mp-149_dimer/coord/spin/result/scf_57 4.0 4.0\n",
      "/Users/y1u0d2/desktop/Lab/result/qe/Si/mp-149_dimer/coord/spin/result/scf_50 2.0 2.0\n",
      "/Users/y1u0d2/desktop/Lab/result/qe/Si/mp-149_dimer/coord/spin/result/scf_59 4.0 4.0\n",
      "/Users/y1u0d2/desktop/Lab/result/qe/Si/mp-149_dimer/coord/spin/result/scf_66 4.0 4.0\n",
      "/Users/y1u0d2/desktop/Lab/result/qe/Si/mp-149_dimer/coord/spin/result/scf_92 4.0 4.0\n",
      "/Users/y1u0d2/desktop/Lab/result/qe/Si/mp-149_dimer/coord/spin/result/scf_95 4.0 4.0\n",
      "/Users/y1u0d2/desktop/Lab/result/qe/Si/mp-149_dimer/coord/spin/result/scf_61 4.0 4.0\n",
      "/Users/y1u0d2/desktop/Lab/result/qe/Si/mp-149_dimer/coord/spin/result/scf_7 0.0 0.0\n",
      "/Users/y1u0d2/desktop/Lab/result/qe/Si/mp-149_dimer/coord/spin/result/scf_0 8.0 8.0\n",
      "/Users/y1u0d2/desktop/Lab/result/qe/Si/mp-149_dimer/coord/spin/result/scf_9 0.0 0.0\n",
      "/Users/y1u0d2/desktop/Lab/result/qe/Si/mp-149_dimer/coord/spin/result/scf_8 -0.0 -0.0\n",
      "/Users/y1u0d2/desktop/Lab/result/qe/Si/mp-149_dimer/coord/spin/result/scf_1 8.0 8.0\n",
      "/Users/y1u0d2/desktop/Lab/result/qe/Si/mp-149_dimer/coord/spin/result/scf_6 -0.0 -0.0\n",
      "/Users/y1u0d2/desktop/Lab/result/qe/Si/mp-149_dimer/coord/spin/result/scf_43 2.0 2.0\n",
      "/Users/y1u0d2/desktop/Lab/result/qe/Si/mp-149_dimer/coord/spin/result/scf_88 4.0 4.0\n",
      "/Users/y1u0d2/desktop/Lab/result/qe/Si/mp-149_dimer/coord/spin/result/scf_44 2.0 2.0\n",
      "/Users/y1u0d2/desktop/Lab/result/qe/Si/mp-149_dimer/coord/spin/result/scf_72 4.0 4.0\n",
      "/Users/y1u0d2/desktop/Lab/result/qe/Si/mp-149_dimer/coord/spin/result/scf_86 4.0 4.0\n",
      "/Users/y1u0d2/desktop/Lab/result/qe/Si/mp-149_dimer/coord/spin/result/scf_81 4.0 4.0\n",
      "/Users/y1u0d2/desktop/Lab/result/qe/Si/mp-149_dimer/coord/spin/result/scf_75 4.0 4.0\n",
      "/Users/y1u0d2/desktop/Lab/result/qe/Si/mp-149_dimer/coord/spin/result/scf_21 0.0 0.0\n",
      "/Users/y1u0d2/desktop/Lab/result/qe/Si/mp-149_dimer/coord/spin/result/scf_19 0.0 0.0\n",
      "/Users/y1u0d2/desktop/Lab/result/qe/Si/mp-149_dimer/coord/spin/result/scf_26 0.0 0.0\n",
      "/Users/y1u0d2/desktop/Lab/result/qe/Si/mp-149_dimer/coord/spin/result/scf_10 -0.0 -0.0\n",
      "/Users/y1u0d2/desktop/Lab/result/qe/Si/mp-149_dimer/coord/spin/result/scf_28 0.14 0.14\n",
      "/Users/y1u0d2/desktop/Lab/result/qe/Si/mp-149_dimer/coord/spin/result/scf_17 -0.0 -0.0\n",
      "/Users/y1u0d2/desktop/Lab/result/qe/Si/mp-149_dimer/coord/spin/result/scf_74 4.0 4.0\n",
      "/Users/y1u0d2/desktop/Lab/result/qe/Si/mp-149_dimer/coord/spin/result/scf_80 4.0 4.0\n",
      "/Users/y1u0d2/desktop/Lab/result/qe/Si/mp-149_dimer/coord/spin/result/scf_87 4.0 4.0\n",
      "/Users/y1u0d2/desktop/Lab/result/qe/Si/mp-149_dimer/coord/spin/result/scf_73 4.0 4.0\n",
      "/Users/y1u0d2/desktop/Lab/result/qe/Si/mp-149_dimer/coord/spin/result/scf_45 2.0 2.0\n",
      "/Users/y1u0d2/desktop/Lab/result/qe/Si/mp-149_dimer/coord/spin/result/scf_42 2.0 2.0\n",
      "/Users/y1u0d2/desktop/Lab/result/qe/Si/mp-149_dimer/coord/spin/result/scf_89 4.0 4.0\n",
      "/Users/y1u0d2/desktop/Lab/result/qe/Si/mp-149_dimer/coord/spin/result/scf_29 1.98 1.98\n",
      "/Users/y1u0d2/desktop/Lab/result/qe/Si/mp-149_dimer/coord/spin/result/scf_16 0.0 0.0\n",
      "/Users/y1u0d2/desktop/Lab/result/qe/Si/mp-149_dimer/coord/spin/result/scf_11 0.0 0.0\n",
      "/Users/y1u0d2/desktop/Lab/result/qe/Si/mp-149_dimer/coord/spin/result/scf_18 0.0 0.0\n",
      "/Users/y1u0d2/desktop/Lab/result/qe/Si/mp-149_dimer/coord/spin/result/scf_27 0.0 0.0\n",
      "/Users/y1u0d2/desktop/Lab/result/qe/Si/mp-149_dimer/coord/spin/result/scf_20 0.0 0.0\n",
      "/Users/y1u0d2/desktop/Lab/result/qe/Si/mp-149_dimer/coord/spin/result/scf_90 4.0 4.0\n",
      "/Users/y1u0d2/desktop/Lab/result/qe/Si/mp-149_dimer/coord/spin/result/scf_64 4.0 4.0\n",
      "/Users/y1u0d2/desktop/Lab/result/qe/Si/mp-149_dimer/coord/spin/result/scf_63 4.0 4.0\n",
      "/Users/y1u0d2/desktop/Lab/result/qe/Si/mp-149_dimer/coord/spin/result/scf_97 4.0 4.0\n",
      "/Users/y1u0d2/desktop/Lab/result/qe/Si/mp-149_dimer/coord/spin/result/scf_55 4.0 4.0\n",
      "/Users/y1u0d2/desktop/Lab/result/qe/Si/mp-149_dimer/coord/spin/result/scf_52 is not a valid directory\n",
      "/Users/y1u0d2/desktop/Lab/result/qe/Si/mp-149_dimer/coord/spin/result/scf_39 2.0 2.0\n",
      "/Users/y1u0d2/desktop/Lab/result/qe/Si/mp-149_dimer/coord/spin/result/scf_37 2.0 2.0\n",
      "/Users/y1u0d2/desktop/Lab/result/qe/Si/mp-149_dimer/coord/spin/result/scf_30 2.0 2.0\n",
      "/Users/y1u0d2/desktop/Lab/result/qe/Si/mp-149_dimer/coord/spin/result/scf_98 4.0 4.0\n",
      "/Users/y1u0d2/desktop/Lab/result/qe/Si/mp-149_dimer/coord/spin/result/scf_53 is not a valid directory\n",
      "/Users/y1u0d2/desktop/Lab/result/qe/Si/mp-149_dimer/coord/spin/result/scf_54 3.97 3.97\n",
      "/Users/y1u0d2/desktop/Lab/result/qe/Si/mp-149_dimer/coord/spin/result/scf_96 4.0 4.0\n",
      "/Users/y1u0d2/desktop/Lab/result/qe/Si/mp-149_dimer/coord/spin/result/scf_62 4.0 4.0\n",
      "/Users/y1u0d2/desktop/Lab/result/qe/Si/mp-149_dimer/coord/spin/result/scf_65 4.0 4.0\n",
      "/Users/y1u0d2/desktop/Lab/result/qe/Si/mp-149_dimer/coord/spin/result/scf_91 4.0 4.0\n",
      "/Users/y1u0d2/desktop/Lab/result/qe/Si/mp-149_dimer/coord/spin/result/scf_31 2.0 2.0\n",
      "/Users/y1u0d2/desktop/Lab/result/qe/Si/mp-149_dimer/coord/spin/result/scf_36 2.0 2.0\n",
      "/Users/y1u0d2/desktop/Lab/result/qe/Si/mp-149_dimer/coord/spin/result/scf_38 2.0 2.0\n",
      "/Users/y1u0d2/desktop/Lab/result/qe/Si/mp-149_dimer/coord/spin/result/scf_3 4.0 4.0\n",
      "/Users/y1u0d2/desktop/Lab/result/qe/Si/mp-149_dimer/coord/spin/result/scf_4 1.21 1.21\n",
      "/Users/y1u0d2/desktop/Lab/result/qe/Si/mp-149_dimer/coord/spin/result/scf_5 0.0 0.0\n",
      "/Users/y1u0d2/desktop/Lab/result/qe/Si/mp-149_dimer/coord/spin/result/scf_2 6.0 6.0\n",
      "/Users/y1u0d2/desktop/Lab/result/qe/Si/mp-149_dimer/coord/spin/result/scf_25 0.0 0.0\n",
      "/Users/y1u0d2/desktop/Lab/result/qe/Si/mp-149_dimer/coord/spin/result/scf_22 0.0 0.0\n",
      "/Users/y1u0d2/desktop/Lab/result/qe/Si/mp-149_dimer/coord/spin/result/scf_14 -0.0 -0.0\n",
      "/Users/y1u0d2/desktop/Lab/result/qe/Si/mp-149_dimer/coord/spin/result/scf_13 0.0 0.0\n",
      "/Users/y1u0d2/desktop/Lab/result/qe/Si/mp-149_dimer/coord/spin/result/scf_47 2.0 2.0\n",
      "/Users/y1u0d2/desktop/Lab/result/qe/Si/mp-149_dimer/coord/spin/result/scf_78 4.0 4.0\n",
      "/Users/y1u0d2/desktop/Lab/result/qe/Si/mp-149_dimer/coord/spin/result/scf_40 2.0 2.0\n",
      "/Users/y1u0d2/desktop/Lab/result/qe/Si/mp-149_dimer/coord/spin/result/scf_82 4.0 4.0\n",
      "/Users/y1u0d2/desktop/Lab/result/qe/Si/mp-149_dimer/coord/spin/result/scf_76 4.0 4.0\n",
      "/Users/y1u0d2/desktop/Lab/result/qe/Si/mp-149_dimer/coord/spin/result/scf_49 2.0 2.0\n",
      "/Users/y1u0d2/desktop/Lab/result/qe/Si/mp-149_dimer/coord/spin/result/scf_71 4.0 4.0\n",
      "/Users/y1u0d2/desktop/Lab/result/qe/Si/mp-149_dimer/coord/spin/result/scf_85 4.0 4.0\n",
      "/Users/y1u0d2/desktop/Lab/result/qe/Si/mp-149_dimer/coord/spin/result/scf_12 0.0 0.0\n",
      "/Users/y1u0d2/desktop/Lab/result/qe/Si/mp-149_dimer/coord/spin/result/scf_15 -0.0 -0.0\n",
      "/Users/y1u0d2/desktop/Lab/result/qe/Si/mp-149_dimer/coord/spin/result/scf_23 0.0 0.0\n",
      "/Users/y1u0d2/desktop/Lab/result/qe/Si/mp-149_dimer/coord/spin/result/scf_24 -0.0 -0.0\n",
      "/Users/y1u0d2/desktop/Lab/result/qe/Si/mp-149_dimer/coord/spin/result/scf_84 4.0 4.0\n",
      "/Users/y1u0d2/desktop/Lab/result/qe/Si/mp-149_dimer/coord/spin/result/scf_70 4.0 4.0\n",
      "/Users/y1u0d2/desktop/Lab/result/qe/Si/mp-149_dimer/coord/spin/result/scf_77 4.0 4.0\n",
      "/Users/y1u0d2/desktop/Lab/result/qe/Si/mp-149_dimer/coord/spin/result/scf_83 4.0 4.0\n",
      "/Users/y1u0d2/desktop/Lab/result/qe/Si/mp-149_dimer/coord/spin/result/scf_48 2.0 2.0\n",
      "/Users/y1u0d2/desktop/Lab/result/qe/Si/mp-149_dimer/coord/spin/result/scf_41 2.0 2.0\n",
      "/Users/y1u0d2/desktop/Lab/result/qe/Si/mp-149_dimer/coord/spin/result/scf_46 2.0 2.0\n",
      "/Users/y1u0d2/desktop/Lab/result/qe/Si/mp-149_dimer/coord/spin/result/scf_79 4.0 4.0\n"
     ]
    }
   ],
   "source": [
    "for d in dimer_dirs:\n",
    "    try:\n",
    "        atoms = read_from_format(d, format='espresso-in')\n",
    "        parser = PWscfParser(d)\n",
    "        print(d, parser.get_total_magnetization(), atoms.total_magnetization)\n",
    "    except:\n",
    "        print(f'{d} is not a valid directory')\n",
    "        continue"
   ]
  },
  {
   "cell_type": "code",
   "execution_count": 3,
   "metadata": {},
   "outputs": [],
   "source": [
    "parser = PWscfParser(dimer_dirs[0])"
   ]
  },
  {
   "cell_type": "code",
   "execution_count": 4,
   "metadata": {},
   "outputs": [],
   "source": [
    "energy = parser.get_energy()"
   ]
  },
  {
   "cell_type": "code",
   "execution_count": 5,
   "metadata": {},
   "outputs": [],
   "source": [
    "total_mag = list(filter(lambda x: 'total magnetization' in x, parser.O_lines))"
   ]
  },
  {
   "cell_type": "code",
   "execution_count": 6,
   "metadata": {},
   "outputs": [],
   "source": [
    "mag_val_idx = 3\n",
    "final_mag = mag = float(list(filter(lambda x: x != '', total_mag[-1].split(' ')))[mag_val_idx])\n",
    "# for mag in total_mag:\n",
    "#     # remove empty from list\n",
    "#     mag = list(filter(lambda x: x != '', mag.split(' ')))\n",
    "#     mag_val_idx = 3\n",
    "#     print(mag[mag_val_idx])"
   ]
  },
  {
   "cell_type": "code",
   "execution_count": 7,
   "metadata": {},
   "outputs": [
    {
     "data": {
      "text/plain": [
       "2.0"
      ]
     },
     "execution_count": 7,
     "metadata": {},
     "output_type": "execute_result"
    }
   ],
   "source": []
  },
  {
   "cell_type": "code",
   "execution_count": null,
   "metadata": {},
   "outputs": [],
   "source": []
  }
 ],
 "metadata": {
  "kernelspec": {
   "display_name": "ml",
   "language": "python",
   "name": "python3"
  },
  "language_info": {
   "codemirror_mode": {
    "name": "ipython",
    "version": 3
   },
   "file_extension": ".py",
   "mimetype": "text/x-python",
   "name": "python",
   "nbconvert_exporter": "python",
   "pygments_lexer": "ipython3",
   "version": "3.10.6"
  },
  "orig_nbformat": 4,
  "vscode": {
   "interpreter": {
    "hash": "523738ac47dcf7681d48eb184ac702eac622ded297e68c9c931bbc5de5caff01"
   }
  }
 },
 "nbformat": 4,
 "nbformat_minor": 2
}
