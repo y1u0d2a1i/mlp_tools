{
 "cells": [
  {
   "cell_type": "markdown",
   "metadata": {},
   "source": [
    "# LAMMPSのinputのlatticeとcreate_atomsの行を作成する"
   ]
  },
  {
   "cell_type": "code",
   "execution_count": 21,
   "metadata": {},
   "outputs": [],
   "source": [
    "from ase.io.vasp import read_vasp\n",
    "import os\n",
    "import numpy as np"
   ]
  },
  {
   "cell_type": "code",
   "execution_count": 30,
   "metadata": {},
   "outputs": [],
   "source": [
    "path2structure = \"/Users/y1u0d2/Google Drive/マイドライブ/HamaLab_kotani/sputtering/SiO2/structure/mp-8352__POSCAR\"\n",
    "\n",
    "# read ase atoms POSCAR\n",
    "atoms = read_vasp(path2structure)\n",
    "cell = atoms.cell[:]\n",
    "\n",
    "# show only 5 digit and fill with 0\n",
    "cell = np.round(cell, 5)\n",
    "scaled_positions = np.round(atoms.get_scaled_positions(), 5)"
   ]
  },
  {
   "cell_type": "code",
   "execution_count": 37,
   "metadata": {},
   "outputs": [
    {
     "name": "stdout",
     "output_type": "stream",
     "text": [
      "\n",
      "lattice custom 1.0 &\n",
      "a1 7.39873 0.0 0.0 &\n",
      "a2 0.0 7.39873 0.0 &\n",
      "a3 0.0 0.0 7.39873 &\n",
      "\n",
      "basis 0.25 0.25 0.25 &\n",
      "basis 0.5 0.0 0.5 &\n",
      "basis 0.25 0.75 0.75 &\n",
      "basis 0.5 0.5 0.0 &\n",
      "basis 0.75 0.25 0.75 &\n",
      "basis 0.0 0.0 0.0 &\n",
      "basis 0.75 0.75 0.25 &\n",
      "basis 0.0 0.5 0.5 &\n",
      "basis 0.875 0.875 0.125 &\n",
      "basis 0.375 0.125 0.375 &\n",
      "basis 0.125 0.125 0.125 &\n",
      "basis 0.625 0.875 0.375 &\n",
      "basis 0.875 0.375 0.625 &\n",
      "basis 0.375 0.625 0.875 &\n",
      "basis 0.125 0.625 0.625 &\n",
      "basis 0.625 0.375 0.875 &\n",
      "basis 0.375 0.875 0.625 &\n",
      "basis 0.875 0.125 0.875 &\n",
      "basis 0.625 0.125 0.625 &\n",
      "basis 0.125 0.875 0.875 &\n",
      "basis 0.375 0.375 0.125 &\n",
      "basis 0.875 0.625 0.375 &\n",
      "basis 0.625 0.625 0.125 &\n",
      "basis 0.125 0.375 0.375\n"
     ]
    }
   ],
   "source": [
    "# print multiple lines\n",
    "lattice_lines = f\"\"\"\n",
    "lattice custom 1.0 &\n",
    "a1 {\" \".join(map(str, cell[0]))} &\n",
    "a2 {\" \".join(map(str, cell[1]))} &\n",
    "a3 {\" \".join(map(str, cell[2]))} &\n",
    "\"\"\"\n",
    "print(lattice_lines)\n",
    "for i, position in enumerate(scaled_positions):\n",
    "    if not len(scaled_positions) == i+1:\n",
    "        print(f\"basis {position[0]} {position[1]} {position[2]} &\")\n",
    "    else:\n",
    "        print(f\"basis {position[0]} {position[1]} {position[2]}\")"
   ]
  },
  {
   "cell_type": "code",
   "execution_count": 42,
   "metadata": {},
   "outputs": [
    {
     "name": "stdout",
     "output_type": "stream",
     "text": [
      "basis 1 1 &\n",
      "basis 2 1 &\n",
      "basis 3 1 &\n",
      "basis 4 1 &\n",
      "basis 5 1 &\n",
      "basis 6 1 &\n",
      "basis 7 1 &\n",
      "basis 8 1 &\n",
      "basis 9 2 &\n",
      "basis 10 2 &\n",
      "basis 11 2 &\n",
      "basis 12 2 &\n",
      "basis 13 2 &\n",
      "basis 14 2 &\n",
      "basis 15 2 &\n",
      "basis 16 2 &\n",
      "basis 17 2 &\n",
      "basis 18 2 &\n",
      "basis 19 2 &\n",
      "basis 20 2 &\n",
      "basis 21 2 &\n",
      "basis 22 2 &\n",
      "basis 23 2 &\n",
      "basis 24 2\n"
     ]
    }
   ],
   "source": [
    "# create_atoms lines\n",
    "atomic_symbol_number_map = {\n",
    "    \"Si\": 1,\n",
    "    \"O\": 2\n",
    "}\n",
    "for i, symbol in enumerate(atoms.get_chemical_symbols()):\n",
    "    if not len(atoms.get_chemical_symbols()) == i+1:\n",
    "        print(f\"basis {i+1} {atomic_symbol_number_map[symbol]} &\")\n",
    "    else:\n",
    "        print(f\"basis {i+1} {atomic_symbol_number_map[symbol]}\")"
   ]
  },
  {
   "cell_type": "code",
   "execution_count": null,
   "metadata": {},
   "outputs": [],
   "source": []
  }
 ],
 "metadata": {
  "kernelspec": {
   "display_name": ".venv",
   "language": "python",
   "name": "python3"
  },
  "language_info": {
   "codemirror_mode": {
    "name": "ipython",
    "version": 3
   },
   "file_extension": ".py",
   "mimetype": "text/x-python",
   "name": "python",
   "nbconvert_exporter": "python",
   "pygments_lexer": "ipython3",
   "version": "3.10.6"
  },
  "orig_nbformat": 4
 },
 "nbformat": 4,
 "nbformat_minor": 2
}
