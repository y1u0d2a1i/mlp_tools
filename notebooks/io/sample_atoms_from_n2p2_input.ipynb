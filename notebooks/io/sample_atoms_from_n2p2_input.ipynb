{
 "cells": [
  {
   "cell_type": "markdown",
   "metadata": {},
   "source": [
    "# n2p2の入力ファイルからmlpatomsを取得し、サンプリングして出力し直す。\n",
    "対称性関数の計算をする時に全ての構造に対して行っていると時間がかかり過ぎているのでサンプリングして対称性関数の決定をする"
   ]
  },
  {
   "cell_type": "code",
   "execution_count": 2,
   "metadata": {},
   "outputs": [],
   "source": [
    "from mlptools.io.read import read_from_n2p2_data"
   ]
  },
  {
   "cell_type": "code",
   "execution_count": 3,
   "metadata": {},
   "outputs": [
    {
     "name": "stdout",
     "output_type": "stream",
     "text": [
      "0 / 93300\n",
      "1000 / 93300\n",
      "2000 / 93300\n",
      "3000 / 93300\n",
      "4000 / 93300\n",
      "5000 / 93300\n",
      "6000 / 93300\n",
      "7000 / 93300\n",
      "8000 / 93300\n",
      "9000 / 93300\n",
      "10000 / 93300\n",
      "11000 / 93300\n",
      "12000 / 93300\n",
      "13000 / 93300\n",
      "14000 / 93300\n",
      "15000 / 93300\n",
      "16000 / 93300\n",
      "17000 / 93300\n",
      "18000 / 93300\n",
      "19000 / 93300\n",
      "20000 / 93300\n",
      "21000 / 93300\n",
      "22000 / 93300\n",
      "23000 / 93300\n",
      "24000 / 93300\n",
      "25000 / 93300\n",
      "26000 / 93300\n",
      "27000 / 93300\n",
      "28000 / 93300\n",
      "29000 / 93300\n",
      "30000 / 93300\n",
      "31000 / 93300\n",
      "32000 / 93300\n",
      "33000 / 93300\n",
      "34000 / 93300\n",
      "35000 / 93300\n",
      "36000 / 93300\n",
      "37000 / 93300\n",
      "38000 / 93300\n",
      "39000 / 93300\n",
      "40000 / 93300\n",
      "41000 / 93300\n",
      "42000 / 93300\n",
      "43000 / 93300\n",
      "44000 / 93300\n",
      "45000 / 93300\n",
      "46000 / 93300\n",
      "47000 / 93300\n",
      "48000 / 93300\n",
      "49000 / 93300\n",
      "50000 / 93300\n",
      "51000 / 93300\n",
      "52000 / 93300\n",
      "53000 / 93300\n",
      "54000 / 93300\n",
      "55000 / 93300\n",
      "56000 / 93300\n",
      "57000 / 93300\n",
      "58000 / 93300\n",
      "59000 / 93300\n",
      "60000 / 93300\n",
      "61000 / 93300\n",
      "62000 / 93300\n",
      "63000 / 93300\n",
      "64000 / 93300\n",
      "65000 / 93300\n",
      "66000 / 93300\n",
      "67000 / 93300\n",
      "68000 / 93300\n",
      "69000 / 93300\n",
      "70000 / 93300\n",
      "71000 / 93300\n",
      "72000 / 93300\n",
      "73000 / 93300\n",
      "74000 / 93300\n",
      "75000 / 93300\n",
      "76000 / 93300\n",
      "77000 / 93300\n",
      "78000 / 93300\n",
      "79000 / 93300\n",
      "80000 / 93300\n",
      "81000 / 93300\n",
      "82000 / 93300\n",
      "83000 / 93300\n",
      "84000 / 93300\n",
      "85000 / 93300\n",
      "86000 / 93300\n",
      "87000 / 93300\n",
      "88000 / 93300\n",
      "89000 / 93300\n",
      "90000 / 93300\n",
      "91000 / 93300\n",
      "92000 / 93300\n",
      "93000 / 93300\n"
     ]
    }
   ],
   "source": [
    "path2input = \"/Users/y1u0d2/desktop/Lab/result/n2p2/Si/100/data\"\n",
    "\n",
    "mlpatoms_list = read_from_n2p2_data(path2input)"
   ]
  },
  {
   "cell_type": "code",
   "execution_count": 12,
   "metadata": {},
   "outputs": [
    {
     "name": "stdout",
     "output_type": "stream",
     "text": [
      "0/93300\n",
      "1000/93300\n",
      "2000/93300\n",
      "3000/93300\n",
      "4000/93300\n",
      "5000/93300\n",
      "6000/93300\n",
      "7000/93300\n",
      "8000/93300\n",
      "9000/93300\n",
      "10000/93300\n",
      "11000/93300\n",
      "12000/93300\n",
      "13000/93300\n",
      "14000/93300\n",
      "15000/93300\n",
      "16000/93300\n",
      "17000/93300\n",
      "18000/93300\n",
      "19000/93300\n",
      "20000/93300\n",
      "21000/93300\n",
      "22000/93300\n",
      "23000/93300\n",
      "24000/93300\n",
      "25000/93300\n",
      "26000/93300\n",
      "27000/93300\n",
      "28000/93300\n",
      "29000/93300\n",
      "30000/93300\n",
      "31000/93300\n",
      "32000/93300\n",
      "33000/93300\n",
      "34000/93300\n",
      "35000/93300\n",
      "36000/93300\n",
      "37000/93300\n",
      "38000/93300\n",
      "39000/93300\n",
      "40000/93300\n",
      "41000/93300\n",
      "42000/93300\n",
      "43000/93300\n",
      "44000/93300\n",
      "45000/93300\n",
      "46000/93300\n",
      "47000/93300\n",
      "48000/93300\n",
      "49000/93300\n",
      "50000/93300\n",
      "51000/93300\n",
      "52000/93300\n",
      "53000/93300\n",
      "54000/93300\n",
      "55000/93300\n",
      "56000/93300\n",
      "57000/93300\n",
      "58000/93300\n",
      "59000/93300\n",
      "60000/93300\n",
      "61000/93300\n",
      "62000/93300\n",
      "63000/93300\n",
      "64000/93300\n",
      "65000/93300\n",
      "66000/93300\n",
      "67000/93300\n",
      "68000/93300\n",
      "69000/93300\n",
      "70000/93300\n",
      "71000/93300\n",
      "72000/93300\n",
      "73000/93300\n",
      "74000/93300\n",
      "75000/93300\n",
      "76000/93300\n",
      "77000/93300\n",
      "78000/93300\n",
      "79000/93300\n",
      "80000/93300\n",
      "81000/93300\n",
      "82000/93300\n",
      "83000/93300\n",
      "84000/93300\n",
      "85000/93300\n",
      "86000/93300\n",
      "87000/93300\n",
      "88000/93300\n",
      "89000/93300\n",
      "90000/93300\n",
      "91000/93300\n",
      "92000/93300\n",
      "93000/93300\n"
     ]
    }
   ],
   "source": [
    "# structure_idとn_atomsごとに10%をサンプリング\n",
    "# structure_id_n_atomsをキーにして、mlpatomsのリストを値にする辞書を作成\n",
    "mlpatoms_dict = {}\n",
    "for i, mlpatoms in enumerate(mlpatoms_list):\n",
    "    # show progress\n",
    "    if i % 1000 == 0:\n",
    "        print(f\"{i}/{len(mlpatoms_list)}\")\n",
    "        \n",
    "    if mlpatoms.structure_id == \"amorphous\":\n",
    "        key = f\"{mlpatoms.structure_id}\"\n",
    "    else:\n",
    "        key = f\"{mlpatoms.structure_id}_{mlpatoms.n_atoms}\"\n",
    "\n",
    "    if mlpatoms_dict.get(key) is None:\n",
    "        mlpatoms_dict[key] = [mlpatoms]\n",
    "    else:\n",
    "        mlpatoms_dict[key].append(mlpatoms)"
   ]
  },
  {
   "cell_type": "code",
   "execution_count": 14,
   "metadata": {},
   "outputs": [
    {
     "name": "stdout",
     "output_type": "stream",
     "text": [
      "mp-165_32: 6426\n",
      "mp-three_3: 100\n",
      "mp-slab_56: 561\n",
      "mp-149_dimer_2: 63\n",
      "mp-571520_24: 3352\n",
      "mp-149_8: 54237\n",
      "mp-149_64: 7170\n",
      "mp-1079649_16: 3712\n",
      "mp-four_4: 149\n",
      "amorphous: 12308\n",
      "mp-92_32: 5222\n"
     ]
    }
   ],
   "source": [
    "# show the number of structures for each key\n",
    "for key, value in mlpatoms_dict.items():\n",
    "    print(f\"{key}: {len(value)}\")"
   ]
  },
  {
   "cell_type": "code",
   "execution_count": 18,
   "metadata": {},
   "outputs": [
    {
     "name": "stdout",
     "output_type": "stream",
     "text": [
      "[SAMPLED] mp-165_32: 642\n",
      "[SAMPLED] mp-three_3: 10\n",
      "[SAMPLED] mp-slab_56: 56\n",
      "[SAMPLED] mp-149_dimer_2: 6\n",
      "[SAMPLED] mp-571520_24: 335\n",
      "[SAMPLED] mp-149_8: 5423\n",
      "[SAMPLED] mp-149_64: 717\n",
      "[SAMPLED] mp-1079649_16: 371\n",
      "[SAMPLED] mp-four_4: 14\n",
      "[SAMPLED] amorphous: 1230\n",
      "[SAMPLED] mp-92_32: 522\n"
     ]
    }
   ],
   "source": [
    "# 10%をサンプリングしてlistに格納する\n",
    "import random\n",
    "\n",
    "sampled_mlpatoms_list = []\n",
    "SAMPLE_RATE = 0.1\n",
    "\n",
    "for key, value in mlpatoms_dict.items():\n",
    "    # 10%をサンプリング\n",
    "    n_sample = int(len(value) * SAMPLE_RATE)\n",
    "    each_sampled_mlpatoms_list = random.sample(value, n_sample)\n",
    "    print(f\"[SAMPLED] {key}: {len(each_sampled_mlpatoms_list)}\")\n",
    "    sampled_mlpatoms_list.extend(each_sampled_mlpatoms_list)"
   ]
  },
  {
   "cell_type": "markdown",
   "metadata": {},
   "source": [
    "# 結果をinput.dataとして書き出す"
   ]
  },
  {
   "cell_type": "code",
   "execution_count": 30,
   "metadata": {},
   "outputs": [],
   "source": [
    "from mlptools.io.write import write_from_atoms, N2p2Writer\n",
    "import os"
   ]
  },
  {
   "cell_type": "code",
   "execution_count": 31,
   "metadata": {},
   "outputs": [
    {
     "ename": "RuntimeError",
     "evalue": "Atoms object has no calculator.",
     "output_type": "error",
     "traceback": [
      "\u001b[0;31m---------------------------------------------------------------------------\u001b[0m",
      "\u001b[0;31mRuntimeError\u001b[0m                              Traceback (most recent call last)",
      "\u001b[1;32m/Users/y1u0d2/Desktop/Project/mlp_tools/notebooks/io/sample_atoms_from_n2p2_input.ipynb Cell 9\u001b[0m line \u001b[0;36m9\n\u001b[1;32m      <a href='vscode-notebook-cell:/Users/y1u0d2/Desktop/Project/mlp_tools/notebooks/io/sample_atoms_from_n2p2_input.ipynb#X16sZmlsZQ%3D%3D?line=3'>4</a>\u001b[0m \u001b[39mfor\u001b[39;00m mlpatoms \u001b[39min\u001b[39;00m sampled_mlpatoms_list:\n\u001b[1;32m      <a href='vscode-notebook-cell:/Users/y1u0d2/Desktop/Project/mlp_tools/notebooks/io/sample_atoms_from_n2p2_input.ipynb#X16sZmlsZQ%3D%3D?line=4'>5</a>\u001b[0m     writer \u001b[39m=\u001b[39m N2p2Writer(\n\u001b[1;32m      <a href='vscode-notebook-cell:/Users/y1u0d2/Desktop/Project/mlp_tools/notebooks/io/sample_atoms_from_n2p2_input.ipynb#X16sZmlsZQ%3D%3D?line=5'>6</a>\u001b[0m         atoms\u001b[39m=\u001b[39mmlpatoms\u001b[39m.\u001b[39mget_ase_atoms(),\n\u001b[1;32m      <a href='vscode-notebook-cell:/Users/y1u0d2/Desktop/Project/mlp_tools/notebooks/io/sample_atoms_from_n2p2_input.ipynb#X16sZmlsZQ%3D%3D?line=6'>7</a>\u001b[0m         structure_id\u001b[39m=\u001b[39mmlpatoms\u001b[39m.\u001b[39mstructure_id,\n\u001b[1;32m      <a href='vscode-notebook-cell:/Users/y1u0d2/Desktop/Project/mlp_tools/notebooks/io/sample_atoms_from_n2p2_input.ipynb#X16sZmlsZQ%3D%3D?line=7'>8</a>\u001b[0m     )\n\u001b[0;32m----> <a href='vscode-notebook-cell:/Users/y1u0d2/Desktop/Project/mlp_tools/notebooks/io/sample_atoms_from_n2p2_input.ipynb#X16sZmlsZQ%3D%3D?line=8'>9</a>\u001b[0m     f\u001b[39m.\u001b[39mwrite(\u001b[39m\"\u001b[39m\u001b[39m\\n\u001b[39;00m\u001b[39m\"\u001b[39m\u001b[39m.\u001b[39mjoin(writer\u001b[39m.\u001b[39;49moutput()))\n",
      "File \u001b[0;32m~/Desktop/Project/mlp_tools/mlptools/io/write.py:151\u001b[0m, in \u001b[0;36mN2p2Writer.output\u001b[0;34m(self)\u001b[0m\n\u001b[1;32m    145\u001b[0m \u001b[39mdef\u001b[39;00m \u001b[39moutput\u001b[39m(\u001b[39mself\u001b[39m):\n\u001b[1;32m    146\u001b[0m     \u001b[39mif\u001b[39;00m \u001b[39mself\u001b[39m\u001b[39m.\u001b[39mis_comment:\n\u001b[1;32m    147\u001b[0m         block \u001b[39m=\u001b[39m [\n\u001b[1;32m    148\u001b[0m             \u001b[39m'\u001b[39m\u001b[39mbegin\u001b[39m\u001b[39m'\u001b[39m,\n\u001b[1;32m    149\u001b[0m             \u001b[39mself\u001b[39m\u001b[39m.\u001b[39mn2p2_comment(),\n\u001b[1;32m    150\u001b[0m             \u001b[39mself\u001b[39m\u001b[39m.\u001b[39mn2p2_cell(),\n\u001b[0;32m--> 151\u001b[0m             \u001b[39mself\u001b[39;49m\u001b[39m.\u001b[39;49mn2p2_atom(),\n\u001b[1;32m    152\u001b[0m             \u001b[39mself\u001b[39m\u001b[39m.\u001b[39mn2p2_energy(),\n\u001b[1;32m    153\u001b[0m             \u001b[39mself\u001b[39m\u001b[39m.\u001b[39mn2p2_charge(),\n\u001b[1;32m    154\u001b[0m             \u001b[39m'\u001b[39m\u001b[39mend \u001b[39m\u001b[39m\\n\u001b[39;00m\u001b[39m'\u001b[39m \n\u001b[1;32m    155\u001b[0m         ]\n\u001b[1;32m    156\u001b[0m     \u001b[39melse\u001b[39;00m:\n\u001b[1;32m    157\u001b[0m         block \u001b[39m=\u001b[39m [\n\u001b[1;32m    158\u001b[0m             \u001b[39m'\u001b[39m\u001b[39mbegin\u001b[39m\u001b[39m'\u001b[39m,\n\u001b[1;32m    159\u001b[0m             \u001b[39mself\u001b[39m\u001b[39m.\u001b[39mn2p2_cell(),\n\u001b[0;32m   (...)\u001b[0m\n\u001b[1;32m    163\u001b[0m             \u001b[39m'\u001b[39m\u001b[39mend \u001b[39m\u001b[39m\\n\u001b[39;00m\u001b[39m'\u001b[39m \n\u001b[1;32m    164\u001b[0m         ]\n",
      "File \u001b[0;32m~/Desktop/Project/mlp_tools/mlptools/io/write.py:118\u001b[0m, in \u001b[0;36mN2p2Writer.n2p2_atom\u001b[0;34m(self)\u001b[0m\n\u001b[1;32m    116\u001b[0m line \u001b[39m=\u001b[39m []\n\u001b[1;32m    117\u001b[0m coord \u001b[39m=\u001b[39m \u001b[39mself\u001b[39m\u001b[39m.\u001b[39matoms\u001b[39m.\u001b[39mpositions\n\u001b[0;32m--> 118\u001b[0m force \u001b[39m=\u001b[39m \u001b[39mself\u001b[39;49m\u001b[39m.\u001b[39;49mn2p2_force()\n\u001b[1;32m    119\u001b[0m species \u001b[39m=\u001b[39m \u001b[39mself\u001b[39m\u001b[39m.\u001b[39matoms\u001b[39m.\u001b[39mget_chemical_symbols()\n\u001b[1;32m    120\u001b[0m \u001b[39mfor\u001b[39;00m c, f, specie \u001b[39min\u001b[39;00m \u001b[39mzip\u001b[39m(coord, force, species):\n",
      "File \u001b[0;32m~/Desktop/Project/mlp_tools/mlptools/io/write.py:138\u001b[0m, in \u001b[0;36mN2p2Writer.n2p2_force\u001b[0;34m(self)\u001b[0m\n\u001b[1;32m    136\u001b[0m \u001b[39mdef\u001b[39;00m \u001b[39mn2p2_force\u001b[39m(\u001b[39mself\u001b[39m):\n\u001b[1;32m    137\u001b[0m     \u001b[39mif\u001b[39;00m \u001b[39mself\u001b[39m\u001b[39m.\u001b[39mhas_calculator:\n\u001b[0;32m--> 138\u001b[0m         \u001b[39mreturn\u001b[39;00m \u001b[39mself\u001b[39;49m\u001b[39m.\u001b[39;49matoms\u001b[39m.\u001b[39;49mget_forces()\n\u001b[1;32m    139\u001b[0m     \u001b[39melse\u001b[39;00m:\n\u001b[1;32m    140\u001b[0m         \u001b[39mreturn\u001b[39;00m np\u001b[39m.\u001b[39mzeros((\u001b[39mlen\u001b[39m(\u001b[39mself\u001b[39m\u001b[39m.\u001b[39matoms), \u001b[39m3\u001b[39m))\n",
      "File \u001b[0;32m~/Desktop/Lab/Program/ase/ase/atoms.py:786\u001b[0m, in \u001b[0;36mAtoms.get_forces\u001b[0;34m(self, apply_constraint, md)\u001b[0m\n\u001b[1;32m    772\u001b[0m \u001b[39m\u001b[39m\u001b[39m\"\"\"Calculate atomic forces.\u001b[39;00m\n\u001b[1;32m    773\u001b[0m \n\u001b[1;32m    774\u001b[0m \u001b[39mAsk the attached calculator to calculate the forces and apply\u001b[39;00m\n\u001b[0;32m   (...)\u001b[0m\n\u001b[1;32m    782\u001b[0m \u001b[39mconstraints (required for molecular dynamics with this type of\u001b[39;00m\n\u001b[1;32m    783\u001b[0m \u001b[39mconstraints).\"\"\"\u001b[39;00m\n\u001b[1;32m    785\u001b[0m \u001b[39mif\u001b[39;00m \u001b[39mself\u001b[39m\u001b[39m.\u001b[39m_calc \u001b[39mis\u001b[39;00m \u001b[39mNone\u001b[39;00m:\n\u001b[0;32m--> 786\u001b[0m     \u001b[39mraise\u001b[39;00m \u001b[39mRuntimeError\u001b[39;00m(\u001b[39m'\u001b[39m\u001b[39mAtoms object has no calculator.\u001b[39m\u001b[39m'\u001b[39m)\n\u001b[1;32m    787\u001b[0m forces \u001b[39m=\u001b[39m \u001b[39mself\u001b[39m\u001b[39m.\u001b[39m_calc\u001b[39m.\u001b[39mget_forces(\u001b[39mself\u001b[39m)\n\u001b[1;32m    789\u001b[0m \u001b[39mif\u001b[39;00m apply_constraint:\n\u001b[1;32m    790\u001b[0m     \u001b[39m# We need a special md flag here because for MD we want\u001b[39;00m\n\u001b[1;32m    791\u001b[0m     \u001b[39m# to skip real constraints but include special \"constraints\"\u001b[39;00m\n\u001b[1;32m    792\u001b[0m     \u001b[39m# Like Hookean.\u001b[39;00m\n",
      "\u001b[0;31mRuntimeError\u001b[0m: Atoms object has no calculator."
     ]
    }
   ],
   "source": [
    "path2save = \"/Users/y1u0d2/desktop/Lab/result/n2p2/Si/100/sf/data\"\n",
    "\n",
    "with open(os.path.join(path2save, \"input.data\"), mode=\"a\") as f:\n",
    "    for mlpatoms in sampled_mlpatoms_list:\n",
    "        writer = N2p2Writer(\n",
    "            atoms=mlpatoms.get_ase_atoms(),\n",
    "            structure_id=mlpatoms.structure_id,\n",
    "        )\n",
    "        f.write(\"\\n\".join(writer.output()))"
   ]
  },
  {
   "cell_type": "code",
   "execution_count": 32,
   "metadata": {},
   "outputs": [
    {
     "data": {
      "text/plain": [
       "array([[ 7.295 ,  0.    ,  0.    ],\n",
       "       [-3.6475,  6.3176,  0.    ],\n",
       "       [ 0.    ,  0.    , 12.3254]])"
      ]
     },
     "execution_count": 32,
     "metadata": {},
     "output_type": "execute_result"
    }
   ],
   "source": [
    "mlpatoms.cell"
   ]
  },
  {
   "cell_type": "code",
   "execution_count": null,
   "metadata": {},
   "outputs": [],
   "source": []
  }
 ],
 "metadata": {
  "kernelspec": {
   "display_name": ".venv",
   "language": "python",
   "name": "python3"
  },
  "language_info": {
   "codemirror_mode": {
    "name": "ipython",
    "version": 3
   },
   "file_extension": ".py",
   "mimetype": "text/x-python",
   "name": "python",
   "nbconvert_exporter": "python",
   "pygments_lexer": "ipython3",
   "version": "3.10.6"
  }
 },
 "nbformat": 4,
 "nbformat_minor": 2
}
