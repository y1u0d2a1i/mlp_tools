{
 "cells": [
  {
   "cell_type": "code",
   "execution_count": 1,
   "metadata": {},
   "outputs": [],
   "source": [
    "from ase.io.espresso import read_espresso_out, read_espresso_in\n",
    "import os"
   ]
  },
  {
   "cell_type": "code",
   "execution_count": 2,
   "metadata": {},
   "outputs": [],
   "source": [
    "path2scf = \"/Users/y1u0d2/desktop/Lab/data/qe_data/SiO2/mp-546794/result/scf978\"\n",
    "with open(os.path.join(path2scf, 'scf.in')) as f:\n",
    "    atoms = read_espresso_in(f)"
   ]
  },
  {
   "cell_type": "code",
   "execution_count": 3,
   "metadata": {},
   "outputs": [
    {
     "data": {
      "text/plain": [
       "array([[0.03582946, 5.64867954, 0.04671969],\n",
       "       [2.93918713, 5.64176277, 6.24585306],\n",
       "       [2.94323978, 2.88468382, 4.14129679],\n",
       "       [0.03913646, 2.79589878, 2.05398622],\n",
       "       [3.39445905, 4.10597914, 5.09452827],\n",
       "       [4.20343025, 0.47462061, 7.32919998],\n",
       "       [1.34916477, 5.00910018, 7.41225398],\n",
       "       [2.26536144, 1.41953425, 5.1161804 ],\n",
       "       [0.50841118, 1.42266441, 0.96076576],\n",
       "       [1.44176345, 3.33367975, 3.11033029],\n",
       "       [4.20058683, 2.41525767, 3.13039743],\n",
       "       [5.03467801, 4.30332232, 0.95572727]])"
      ]
     },
     "execution_count": 3,
     "metadata": {},
     "output_type": "execute_result"
    }
   ],
   "source": [
    "atoms.positions"
   ]
  },
  {
   "cell_type": "code",
   "execution_count": 4,
   "metadata": {},
   "outputs": [],
   "source": [
    "# read output\n",
    "with open(os.path.join(path2scf, 'scf.out')) as f:\n",
    "    data = read_espresso_out(f, index=slice(None))\n",
    "    obj = next(data)"
   ]
  },
  {
   "cell_type": "code",
   "execution_count": 5,
   "metadata": {},
   "outputs": [
    {
     "data": {
      "text/plain": [
       "-7086.139407410536"
      ]
     },
     "execution_count": 5,
     "metadata": {},
     "output_type": "execute_result"
    }
   ],
   "source": [
    "obj.get_potential_energy()"
   ]
  },
  {
   "cell_type": "code",
   "execution_count": 6,
   "metadata": {},
   "outputs": [
    {
     "data": {
      "text/plain": [
       "array([[-0.24081826, -0.86915885, -0.81614373],\n",
       "       [-0.92244625,  0.59536465, -0.15524218],\n",
       "       [-2.22851241, -2.22754259, -0.97579947],\n",
       "       [-0.03138983,  0.85163318,  0.57933176],\n",
       "       [-0.95244717,  2.85772691,  2.1517876 ],\n",
       "       [-0.08004718, -1.50403596, -0.65451185],\n",
       "       [ 0.48266471,  2.14801374, -0.45311245],\n",
       "       [ 2.44394823, -0.79502803,  0.74493677],\n",
       "       [-1.7152364 ,  0.48503758,  0.77272706],\n",
       "       [-0.76589692, -1.65554335, -0.75437735],\n",
       "       [ 1.76957923,  0.80205152, -1.31793617],\n",
       "       [ 2.24060199, -0.6885188 ,  0.87834026]])"
      ]
     },
     "execution_count": 6,
     "metadata": {},
     "output_type": "execute_result"
    }
   ],
   "source": [
    "obj.get_forces()"
   ]
  },
  {
   "cell_type": "code",
   "execution_count": 7,
   "metadata": {},
   "outputs": [
    {
     "data": {
      "text/plain": [
       "-7086.139407410536"
      ]
     },
     "execution_count": 7,
     "metadata": {},
     "output_type": "execute_result"
    }
   ],
   "source": [
    "obj.get_potential_energy()"
   ]
  },
  {
   "cell_type": "code",
   "execution_count": 8,
   "metadata": {},
   "outputs": [],
   "source": [
    "import numpy as np\n",
    "cell_matlix = np.array([vec for vec in obj.cell])"
   ]
  },
  {
   "cell_type": "code",
   "execution_count": 9,
   "metadata": {},
   "outputs": [
    {
     "data": {
      "text/plain": [
       "12"
      ]
     },
     "execution_count": 9,
     "metadata": {},
     "output_type": "execute_result"
    }
   ],
   "source": [
    "obj.get_global_number_of_atoms()"
   ]
  },
  {
   "cell_type": "code",
   "execution_count": 10,
   "metadata": {},
   "outputs": [
    {
     "name": "stderr",
     "output_type": "stream",
     "text": [
      "/Users/y1u0d2/opt/anaconda3/envs/mlp/lib/python3.11/site-packages/ovito/_extensions/averaging.py:2: UserWarning: Did you accidentally install the OVITO package from the PyPI repository in an Anaconda/Miniconda Python interpreter using the 'pip' command? This will likely lead to conflicts with existing libraries in the Anaconda environment, and import of the OVITO module may fail with an error related to the Qt framework. To fix this, please uninstall the ovito pip package by running 'pip uninstall -y ovito PySide6' and then install the OVITO Anaconda package provided by OVITO GmbH. Visit https://docs.ovito.org/python/introduction/installation.html for further instructions. If you would rather like to ignore this warning message, add the following code to the top of your Python script:\n",
      "\n",
      "  import warnings\n",
      "  warnings.filterwarnings('ignore', message='.*OVITO.*PyPI')\n",
      "\n",
      "  import ovito._extensions.pyscript\n"
     ]
    },
    {
     "ename": "AttributeError",
     "evalue": "'PWscfParser' object has no attribute 'get_ase_atoms'",
     "output_type": "error",
     "traceback": [
      "\u001b[0;31m---------------------------------------------------------------------------\u001b[0m",
      "\u001b[0;31mAttributeError\u001b[0m                            Traceback (most recent call last)",
      "Cell \u001b[0;32mIn[10], line 4\u001b[0m\n\u001b[1;32m      1\u001b[0m \u001b[39mfrom\u001b[39;00m \u001b[39mmlptools\u001b[39;00m\u001b[39m.\u001b[39;00m\u001b[39mio\u001b[39;00m\u001b[39m.\u001b[39;00m\u001b[39mread\u001b[39;00m \u001b[39mimport\u001b[39;00m read_from_format\n\u001b[1;32m      3\u001b[0m path2scf \u001b[39m=\u001b[39m \u001b[39m\"\u001b[39m\u001b[39m/Users/y1u0d2/desktop/Lab/data/qe_data/SiO2/mp-546794/result/scf978\u001b[39m\u001b[39m\"\u001b[39m\n\u001b[0;32m----> 4\u001b[0m mlpatoms \u001b[39m=\u001b[39m read_from_format(path2scf, \u001b[39mformat\u001b[39;49m\u001b[39m=\u001b[39;49m\u001b[39m'\u001b[39;49m\u001b[39mespresso-in\u001b[39;49m\u001b[39m'\u001b[39;49m)\n",
      "File \u001b[0;32m~/Desktop/Project/mlp_tools/mlptools/io/read.py:41\u001b[0m, in \u001b[0;36mread_from_format\u001b[0;34m(path2target, format, structure_id)\u001b[0m\n\u001b[1;32m     29\u001b[0m \u001b[39melse\u001b[39;00m:\n\u001b[1;32m     30\u001b[0m     \u001b[39mraise\u001b[39;00m \u001b[39mException\u001b[39;00m(\u001b[39mf\u001b[39m\u001b[39m'\u001b[39m\u001b[39m{\u001b[39;00m\u001b[39mformat\u001b[39m\u001b[39m}\u001b[39;00m\u001b[39m is not supported\u001b[39m\u001b[39m'\u001b[39m)\n\u001b[1;32m     32\u001b[0m \u001b[39mreturn\u001b[39;00m MLPAtoms(\n\u001b[1;32m     33\u001b[0m         cell\u001b[39m=\u001b[39mparser\u001b[39m.\u001b[39mget_cell(),\n\u001b[1;32m     34\u001b[0m         coord\u001b[39m=\u001b[39mparser\u001b[39m.\u001b[39mget_coord(),\n\u001b[1;32m     35\u001b[0m         force\u001b[39m=\u001b[39mparser\u001b[39m.\u001b[39mget_force(),\n\u001b[1;32m     36\u001b[0m         energy\u001b[39m=\u001b[39mparser\u001b[39m.\u001b[39mget_energy(),\n\u001b[1;32m     37\u001b[0m         n_atoms\u001b[39m=\u001b[39mparser\u001b[39m.\u001b[39mget_n_atoms(),\n\u001b[1;32m     38\u001b[0m         total_magnetization\u001b[39m=\u001b[39mparser\u001b[39m.\u001b[39mget_total_magnetization(),\n\u001b[1;32m     39\u001b[0m         structure_id\u001b[39m=\u001b[39mparser\u001b[39m.\u001b[39mget_structure_id(),\n\u001b[1;32m     40\u001b[0m         symbols\u001b[39m=\u001b[39m\u001b[39mf\u001b[39m\u001b[39m'\u001b[39m\u001b[39mSi\u001b[39m\u001b[39m{\u001b[39;00mparser\u001b[39m.\u001b[39mget_n_atoms()\u001b[39m}\u001b[39;00m\u001b[39m'\u001b[39m,\n\u001b[0;32m---> 41\u001b[0m         ase_atoms\u001b[39m=\u001b[39mparser\u001b[39m.\u001b[39;49mget_ase_atoms(),\n\u001b[1;32m     42\u001b[0m         path\u001b[39m=\u001b[39mpath2target,\n\u001b[1;32m     43\u001b[0m     )\n",
      "\u001b[0;31mAttributeError\u001b[0m: 'PWscfParser' object has no attribute 'get_ase_atoms'"
     ]
    }
   ],
   "source": [
    "from mlptools.io.read import read_from_format\n",
    "\n",
    "path2scf = \"/Users/y1u0d2/desktop/Lab/data/qe_data/SiO2/mp-546794/result/scf978\"\n",
    "mlpatoms = read_from_format(path2scf, format='espresso-in')"
   ]
  },
  {
   "cell_type": "code",
   "execution_count": null,
   "metadata": {},
   "outputs": [
    {
     "data": {
      "text/plain": [
       "Atoms(symbols='Si12', pbc=True, cell=[5.658652951601567, 5.658652951601567, 8.350322732094693])"
      ]
     },
     "execution_count": 24,
     "metadata": {},
     "output_type": "execute_result"
    }
   ],
   "source": [
    "mlpatoms.get_ase_atoms()"
   ]
  },
  {
   "cell_type": "code",
   "execution_count": null,
   "metadata": {},
   "outputs": [],
   "source": [
    "from mlptools.io.parser import PWscfParser\n",
    "\n",
    "parser = PWscfParser(path2scf)"
   ]
  },
  {
   "cell_type": "code",
   "execution_count": null,
   "metadata": {},
   "outputs": [
    {
     "ename": "AttributeError",
     "evalue": "'PWscfParser' object has no attribute 'ase_atoms'",
     "output_type": "error",
     "traceback": [
      "\u001b[0;31m---------------------------------------------------------------------------\u001b[0m",
      "\u001b[0;31mAttributeError\u001b[0m                            Traceback (most recent call last)",
      "Cell \u001b[0;32mIn[15], line 1\u001b[0m\n\u001b[0;32m----> 1\u001b[0m parser\u001b[39m.\u001b[39;49mase_atoms\n",
      "\u001b[0;31mAttributeError\u001b[0m: 'PWscfParser' object has no attribute 'ase_atoms'"
     ]
    }
   ],
   "source": [
    "parser.ase_atoms"
   ]
  },
  {
   "cell_type": "code",
   "execution_count": null,
   "metadata": {},
   "outputs": [],
   "source": []
  }
 ],
 "metadata": {
  "kernelspec": {
   "display_name": "mlp",
   "language": "python",
   "name": "python3"
  },
  "language_info": {
   "codemirror_mode": {
    "name": "ipython",
    "version": 3
   },
   "file_extension": ".py",
   "mimetype": "text/x-python",
   "name": "python",
   "nbconvert_exporter": "python",
   "pygments_lexer": "ipython3",
   "version": "3.11.0"
  },
  "orig_nbformat": 4
 },
 "nbformat": 4,
 "nbformat_minor": 2
}
