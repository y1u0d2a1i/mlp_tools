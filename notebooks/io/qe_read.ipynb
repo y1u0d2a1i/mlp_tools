{
 "cells": [
  {
   "cell_type": "code",
   "execution_count": 1,
   "metadata": {},
   "outputs": [],
   "source": [
    "from ase.io.espresso import read_espresso_out, read_espresso_in\n",
    "import os"
   ]
  },
  {
   "cell_type": "code",
   "execution_count": 2,
   "metadata": {},
   "outputs": [],
   "source": [
    "path2scf = \"/Users/y1u0d2/desktop/Lab/data/qe_data/SiO2/mp-546794/result/scf978\"\n",
    "with open(os.path.join(path2scf, 'scf.in')) as f:\n",
    "    atoms = read_espresso_in(f)"
   ]
  },
  {
   "cell_type": "code",
   "execution_count": 3,
   "metadata": {},
   "outputs": [
    {
     "data": {
      "text/plain": [
       "array([[0.03582946, 5.64867954, 0.04671969],\n",
       "       [2.93918713, 5.64176277, 6.24585306],\n",
       "       [2.94323978, 2.88468382, 4.14129679],\n",
       "       [0.03913646, 2.79589878, 2.05398622],\n",
       "       [3.39445905, 4.10597914, 5.09452827],\n",
       "       [4.20343025, 0.47462061, 7.32919998],\n",
       "       [1.34916477, 5.00910018, 7.41225398],\n",
       "       [2.26536144, 1.41953425, 5.1161804 ],\n",
       "       [0.50841118, 1.42266441, 0.96076576],\n",
       "       [1.44176345, 3.33367975, 3.11033029],\n",
       "       [4.20058683, 2.41525767, 3.13039743],\n",
       "       [5.03467801, 4.30332232, 0.95572727]])"
      ]
     },
     "execution_count": 3,
     "metadata": {},
     "output_type": "execute_result"
    }
   ],
   "source": [
    "atoms.positions"
   ]
  },
  {
   "cell_type": "code",
   "execution_count": 4,
   "metadata": {},
   "outputs": [],
   "source": [
    "# read output\n",
    "with open(os.path.join(path2scf, 'scf.out')) as f:\n",
    "    data = read_espresso_out(f, index=slice(None))\n",
    "    obj = next(data)"
   ]
  },
  {
   "cell_type": "code",
   "execution_count": 5,
   "metadata": {},
   "outputs": [
    {
     "data": {
      "text/plain": [
       "-7086.139407410536"
      ]
     },
     "execution_count": 5,
     "metadata": {},
     "output_type": "execute_result"
    }
   ],
   "source": [
    "obj.get_potential_energy()"
   ]
  },
  {
   "cell_type": "code",
   "execution_count": 6,
   "metadata": {},
   "outputs": [
    {
     "data": {
      "text/plain": [
       "array([[-0.24081826, -0.86915885, -0.81614373],\n",
       "       [-0.92244625,  0.59536465, -0.15524218],\n",
       "       [-2.22851241, -2.22754259, -0.97579947],\n",
       "       [-0.03138983,  0.85163318,  0.57933176],\n",
       "       [-0.95244717,  2.85772691,  2.1517876 ],\n",
       "       [-0.08004718, -1.50403596, -0.65451185],\n",
       "       [ 0.48266471,  2.14801374, -0.45311245],\n",
       "       [ 2.44394823, -0.79502803,  0.74493677],\n",
       "       [-1.7152364 ,  0.48503758,  0.77272706],\n",
       "       [-0.76589692, -1.65554335, -0.75437735],\n",
       "       [ 1.76957923,  0.80205152, -1.31793617],\n",
       "       [ 2.24060199, -0.6885188 ,  0.87834026]])"
      ]
     },
     "execution_count": 6,
     "metadata": {},
     "output_type": "execute_result"
    }
   ],
   "source": [
    "obj.get_forces()"
   ]
  },
  {
   "cell_type": "code",
   "execution_count": 7,
   "metadata": {},
   "outputs": [
    {
     "data": {
      "text/plain": [
       "-7086.139407410536"
      ]
     },
     "execution_count": 7,
     "metadata": {},
     "output_type": "execute_result"
    }
   ],
   "source": [
    "obj.get_potential_energy()"
   ]
  },
  {
   "cell_type": "code",
   "execution_count": 8,
   "metadata": {},
   "outputs": [],
   "source": [
    "import numpy as np\n",
    "cell_matlix = np.array([vec for vec in obj.cell])"
   ]
  },
  {
   "cell_type": "code",
   "execution_count": 9,
   "metadata": {},
   "outputs": [
    {
     "data": {
      "text/plain": [
       "12"
      ]
     },
     "execution_count": 9,
     "metadata": {},
     "output_type": "execute_result"
    }
   ],
   "source": [
    "obj.get_global_number_of_atoms()"
   ]
  },
  {
   "cell_type": "code",
   "execution_count": 10,
   "metadata": {},
   "outputs": [
    {
     "name": "stderr",
     "output_type": "stream",
     "text": [
      "/Users/y1u0d2/opt/anaconda3/envs/mlp/lib/python3.11/site-packages/ovito/_extensions/averaging.py:2: UserWarning: Did you accidentally install the OVITO package from the PyPI repository in an Anaconda/Miniconda Python interpreter using the 'pip' command? This will likely lead to conflicts with existing libraries in the Anaconda environment, and import of the OVITO module may fail with an error related to the Qt framework. To fix this, please uninstall the ovito pip package by running 'pip uninstall -y ovito PySide6' and then install the OVITO Anaconda package provided by OVITO GmbH. Visit https://docs.ovito.org/python/introduction/installation.html for further instructions. If you would rather like to ignore this warning message, add the following code to the top of your Python script:\n",
      "\n",
      "  import warnings\n",
      "  warnings.filterwarnings('ignore', message='.*OVITO.*PyPI')\n",
      "\n",
      "  import ovito._extensions.pyscript\n"
     ]
    },
    {
     "name": "stdout",
     "output_type": "stream",
     "text": [
      "Atoms(symbols='Si4O8', pbc=True, cell=[5.658652758795757, 5.658652758795757, 8.350321092530411], calculator=SinglePointDFTCalculator(...))\n"
     ]
    }
   ],
   "source": [
    "from mlptools.io.read import read_from_format\n",
    "\n",
    "path2scf = \"/Users/y1u0d2/desktop/Lab/data/qe_data/SiO2/mp-546794/result/scf978\"\n",
    "mlpatoms = read_from_format(path2scf, format='espresso-in')"
   ]
  },
  {
   "cell_type": "code",
   "execution_count": 11,
   "metadata": {},
   "outputs": [
    {
     "data": {
      "text/plain": [
       "Atoms(symbols='Si4O8', pbc=True, cell=[5.658652758795757, 5.658652758795757, 8.350321092530411], calculator=SinglePointDFTCalculator(...))"
      ]
     },
     "execution_count": 11,
     "metadata": {},
     "output_type": "execute_result"
    }
   ],
   "source": [
    "mlpatoms.get_ase_atoms()"
   ]
  },
  {
   "cell_type": "code",
   "execution_count": 12,
   "metadata": {},
   "outputs": [
    {
     "name": "stdout",
     "output_type": "stream",
     "text": [
      "Atoms(symbols='Si4O8', pbc=True, cell=[5.658652758795757, 5.658652758795757, 8.350321092530411], calculator=SinglePointDFTCalculator(...))\n"
     ]
    }
   ],
   "source": [
    "from mlptools.io.parser import PWscfParser\n",
    "\n",
    "parser = PWscfParser(path2scf)"
   ]
  },
  {
   "cell_type": "code",
   "execution_count": 13,
   "metadata": {},
   "outputs": [
    {
     "data": {
      "text/plain": [
       "Atoms(symbols='Si4O8', pbc=True, cell=[5.658652758795757, 5.658652758795757, 8.350321092530411], calculator=SinglePointDFTCalculator(...))"
      ]
     },
     "execution_count": 13,
     "metadata": {},
     "output_type": "execute_result"
    }
   ],
   "source": [
    "parser.ase_atoms"
   ]
  },
  {
   "cell_type": "code",
   "execution_count": null,
   "metadata": {},
   "outputs": [],
   "source": []
  }
 ],
 "metadata": {
  "kernelspec": {
   "display_name": "mlp",
   "language": "python",
   "name": "python3"
  },
  "language_info": {
   "codemirror_mode": {
    "name": "ipython",
    "version": 3
   },
   "file_extension": ".py",
   "mimetype": "text/x-python",
   "name": "python",
   "nbconvert_exporter": "python",
   "pygments_lexer": "ipython3",
   "version": "3.11.0"
  },
  "orig_nbformat": 4
 },
 "nbformat": 4,
 "nbformat_minor": 2
}
