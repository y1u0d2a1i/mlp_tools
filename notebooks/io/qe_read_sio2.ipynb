{
 "cells": [
  {
   "cell_type": "code",
   "execution_count": 4,
   "metadata": {},
   "outputs": [],
   "source": [
    "from ase.io.espresso import read_espresso_out, read_espresso_in\n",
    "import os\n",
    "\n",
    "path2scf = \"/Users/y1u0d2/desktop/Lab/result/qe/SiO2/mp-dimer/Si-O/spin/result/scf_3.10\"\n",
    "\n",
    "# read input\n",
    "atoms = read_espresso_in(os.path.join(path2scf, 'scf.in'))\n",
    "\n",
    "# read output\n",
    "# with open(os.path.join(path2scf, 'scf.out')) as f:\n",
    "#     data = read_espresso_in(f, index=slice(None))\n",
    "#     atoms = next(data)"
   ]
  },
  {
   "cell_type": "markdown",
   "metadata": {},
   "source": [
    "# Quantum espressoの出力を読み取る\n",
    "- spinを考慮した際にASEのread_espresso_outはエラーが出るため"
   ]
  },
  {
   "cell_type": "code",
   "execution_count": 9,
   "metadata": {},
   "outputs": [
    {
     "name": "stdout",
     "output_type": "stream",
     "text": [
      "Number of scf directories: 50\n"
     ]
    }
   ],
   "source": [
    "from glob import glob\n",
    "import os\n",
    "\n",
    "path2target = \"/Users/y1u0d2/desktop/Lab/result/qe/SiO2/mp-dimer/Si-O/spin/result\"\n",
    "scf_dirs = glob(f\"{path2target}/scf*\")\n",
    "print(f\"Number of scf directories: {len(scf_dirs)}\")"
   ]
  },
  {
   "cell_type": "code",
   "execution_count": 21,
   "metadata": {},
   "outputs": [
    {
     "name": "stdout",
     "output_type": "stream",
     "text": [
      "energy: -1201.1390786875036\n"
     ]
    }
   ],
   "source": [
    "from typing import List\n",
    "\n",
    "RY2EV = 13.605703976\n",
    "\n",
    "def validate_espresso_out(lines: List[str]) -> bool:\n",
    "    for line in lines:\n",
    "        if \"!    total energy\" in line:\n",
    "            return True\n",
    "    return False\n",
    "\n",
    "for scf_d in scf_dirs:\n",
    "    with open(os.path.join(scf_d, 'scf.out')) as f:\n",
    "        scf_out_lines = [s.strip() for s in f.readlines()]\n",
    "    if not validate_espresso_out(scf_out_lines):\n",
    "        print(f\"scf.out in {scf_d} is not valid\")\n",
    "        continue\n",
    "    \n",
    "    # get atoms from input\n",
    "    atoms = read_espresso_in(os.path.join(scf_d, 'scf.in'))\n",
    "    distance = atoms.get_distance(0, 1)\n",
    "\n",
    "    # get energy\n",
    "    for line in scf_out_lines:\n",
    "        if \"!    total energy\" in line:\n",
    "            energy = float(line.split()[-2]) * RY2EV\n",
    "            print(f\"energy: {energy}\")\n",
    "            \n",
    "    break"
   ]
  },
  {
   "cell_type": "code",
   "execution_count": 18,
   "metadata": {},
   "outputs": [
    {
     "data": {
      "text/plain": [
       "array([[7.5       , 7.5       , 9.16734694],\n",
       "       [7.5       , 7.5       , 7.5       ]])"
      ]
     },
     "execution_count": 18,
     "metadata": {},
     "output_type": "execute_result"
    }
   ],
   "source": []
  },
  {
   "cell_type": "code",
   "execution_count": null,
   "metadata": {},
   "outputs": [],
   "source": []
  }
 ],
 "metadata": {
  "kernelspec": {
   "display_name": ".venv",
   "language": "python",
   "name": "python3"
  },
  "language_info": {
   "codemirror_mode": {
    "name": "ipython",
    "version": 3
   },
   "file_extension": ".py",
   "mimetype": "text/x-python",
   "name": "python",
   "nbconvert_exporter": "python",
   "pygments_lexer": "ipython3",
   "version": "3.10.6"
  },
  "orig_nbformat": 4
 },
 "nbformat": 4,
 "nbformat_minor": 2
}
