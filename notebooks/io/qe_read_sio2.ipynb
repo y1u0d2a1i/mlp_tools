{
 "cells": [
  {
   "cell_type": "code",
   "execution_count": 4,
   "metadata": {},
   "outputs": [],
   "source": [
    "from ase.io.espresso import read_espresso_out, read_espresso_in\n",
    "import os\n",
    "\n",
    "path2scf = \"/Users/y1u0d2/desktop/Lab/result/qe/SiO2/mp-546794/send_20230902/scf_28255\"\n",
    "\n",
    "# read output\n",
    "with open(os.path.join(path2scf, 'scf.out')) as f:\n",
    "    data = read_espresso_out(f, index=slice(None))\n",
    "    atoms = next(data)"
   ]
  },
  {
   "cell_type": "code",
   "execution_count": 5,
   "metadata": {},
   "outputs": [],
   "source": [
    "from mlptools.io.write import N2p2Writer\n",
    "\n",
    "writer = N2p2Writer(atoms, is_comment=False)"
   ]
  },
  {
   "cell_type": "code",
   "execution_count": 6,
   "metadata": {},
   "outputs": [
    {
     "data": {
      "text/plain": [
       "['begin',\n",
       " 'lattice 5.658652758795757 0.0 0.0',\n",
       " 'lattice 0.0 5.658652758795757 0.0',\n",
       " 'lattice 0.0 0.0 8.350321092530411',\n",
       " 'atom 0.03582945753814298 5.648679383308379 0.046719534772445406 Si 0 0 -0.24081826383678526 -0.8691588525695354 -0.8161437338250846',\n",
       " 'atom 2.939186859248794 5.6417628120413035 6.2458528531718205 Si 0 0 -0.9224462511387661 0.5953646480273618 -0.1552421804371778',\n",
       " 'atom 2.943239586354644 2.8846838476066257 4.141296904695468 Si 0 0 -2.2285124067952977 -2.22754258668286 -0.9757994699489261',\n",
       " 'atom 0.03913637421038321 2.7958984540905685 2.053986266366822 Si 0 0 -0.0313898271651911 0.8516331849809462 0.5793317629342152',\n",
       " 'atom 3.39445885974519 4.1059789893667205 5.094528084504787 O 0 0 -0.9524471683762308 2.8577269134925687 2.151787603138733',\n",
       " 'atom 4.2034300437175975 0.47462063187454584 7.329199660382164 O 0 0 -0.08004718316157827 -1.5040359568692225 -0.6545118478114793',\n",
       " 'atom 1.3491648498811541 5.009099969670523 7.412253970384113 O 0 0 0.4826647118277688 2.148013737918597 -0.45311245209194867',\n",
       " 'atom 2.2653612791147064 1.4195341579937106 5.116180353421043 O 0 0 2.443948226003236 -0.795028034892392 0.7449367746629558',\n",
       " 'atom 0.5084112768236947 1.4226645246998766 0.9607656759576552 O 0 0 -1.715236397839575 0.48503758293531957 0.7727270574023466',\n",
       " 'atom 1.4417636094913637 3.333679836328241 3.1103299826121926 O 0 0 -0.7658969218543906 -1.6555433528543166 -0.7543773512505653',\n",
       " 'atom 4.200586570706303 2.4152578589646545 3.13039726289071 O 0 0 1.7695792342565138 0.8020515173980768 -1.31793616762124',\n",
       " 'atom 5.034677646005556 4.303322240868619 0.9557272115412235 O 0 0 2.24060199096998 -0.6885188008845432 0.8783402619584872',\n",
       " 'energy -7086.139407410536',\n",
       " 'charge 0.0',\n",
       " 'end \\n']"
      ]
     },
     "execution_count": 6,
     "metadata": {},
     "output_type": "execute_result"
    }
   ],
   "source": [
    "writer.output()"
   ]
  },
  {
   "cell_type": "code",
   "execution_count": null,
   "metadata": {},
   "outputs": [],
   "source": []
  }
 ],
 "metadata": {
  "kernelspec": {
   "display_name": ".venv",
   "language": "python",
   "name": "python3"
  },
  "language_info": {
   "codemirror_mode": {
    "name": "ipython",
    "version": 3
   },
   "file_extension": ".py",
   "mimetype": "text/x-python",
   "name": "python",
   "nbconvert_exporter": "python",
   "pygments_lexer": "ipython3",
   "version": "3.10.6"
  },
  "orig_nbformat": 4
 },
 "nbformat": 4,
 "nbformat_minor": 2
}
