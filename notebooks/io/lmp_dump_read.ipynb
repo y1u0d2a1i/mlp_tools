{
 "cells": [
  {
   "cell_type": "markdown",
   "metadata": {},
   "source": [
    "# LAMMPSのdumpファイルを読み込む"
   ]
  },
  {
   "cell_type": "code",
   "execution_count": 1,
   "metadata": {},
   "outputs": [],
   "source": [
    "from mlptools.io.read import read_from_lmp_dump"
   ]
  },
  {
   "cell_type": "code",
   "execution_count": 2,
   "metadata": {},
   "outputs": [
    {
     "name": "stdout",
     "output_type": "stream",
     "text": [
      "Number of frames: 4001\n"
     ]
    },
    {
     "name": "stderr",
     "output_type": "stream",
     "text": [
      "100%|██████████| 4001/4001 [01:12<00:00, 55.08it/s]\n"
     ]
    }
   ],
   "source": [
    "path2lmp_dump = \"/Users/y1u0d2/Google Drive/マイドライブ/HamaLab_kotani/sputtering/Si/sw/traj_for_ml/0deg_1000eV/dump.lammpstrj\"\n",
    "\n",
    "ase_atoms_list = read_from_lmp_dump(path2lmp_dump, return_ase=True)"
   ]
  },
  {
   "cell_type": "code",
   "execution_count": 37,
   "metadata": {},
   "outputs": [],
   "source": [
    "# z > 60でスライス, cellも変更する\n",
    "from mlptools.atoms.extract_atoms import extract_atoms\n",
    "\n",
    "slices_ase_atoms_list = []\n",
    "for ase_atoms in ase_atoms_list:\n",
    "    sliced_ase_atoms = extract_atoms(\n",
    "        atoms=ase_atoms,\n",
    "        x_range=[0, ase_atoms.cell[0][0]],\n",
    "        y_range=[0, ase_atoms.cell[1][1]],\n",
    "        z_range=[65, ase_atoms.cell[2][2]],\n",
    "    )\n",
    "    sliced_ase_atoms.set_chemical_symbols([\"Si\"] * len(sliced_ase_atoms))\n",
    "    slices_ase_atoms_list.append(sliced_ase_atoms)"
   ]
  },
  {
   "cell_type": "code",
   "execution_count": 41,
   "metadata": {},
   "outputs": [
    {
     "name": "stderr",
     "output_type": "stream",
     "text": [
      "100%|██████████| 4001/4001 [00:34<00:00, 116.66it/s]\n"
     ]
    }
   ],
   "source": [
    "# input.dataに書き込む\n",
    "from mlptools.io.write import write_from_atoms\n",
    "from mlptools.io.read import read_from_format\n",
    "from tqdm import tqdm\n",
    "\n",
    "path2output = \"/Users/y1u0d2/Google Drive/マイドライブ/HamaLab_kotani/n2p2/Si/extrapolation_analysis/20231203_sw_sputtering\"\n",
    "\n",
    "with open(f'{path2output}/input.data', mode='a') as f:\n",
    "    for ase_atoms in tqdm(slices_ase_atoms_list):\n",
    "        mlpatoms = read_from_format(\n",
    "            ase_atoms=ase_atoms,\n",
    "            format=\"ase\",\n",
    "            has_calculator=False,\n",
    "            structure_id=None\n",
    "        )\n",
    "        try:\n",
    "            f.write('\\n'.join(write_from_atoms(mlpatoms, format='n2p2', structure_id=\"sw_sputtering\")))\n",
    "        except:\n",
    "            continue"
   ]
  },
  {
   "cell_type": "code",
   "execution_count": null,
   "metadata": {},
   "outputs": [],
   "source": []
  }
 ],
 "metadata": {
  "kernelspec": {
   "display_name": ".venv",
   "language": "python",
   "name": "python3"
  },
  "language_info": {
   "codemirror_mode": {
    "name": "ipython",
    "version": 3
   },
   "file_extension": ".py",
   "mimetype": "text/x-python",
   "name": "python",
   "nbconvert_exporter": "python",
   "pygments_lexer": "ipython3",
   "version": "3.10.6"
  }
 },
 "nbformat": 4,
 "nbformat_minor": 2
}
