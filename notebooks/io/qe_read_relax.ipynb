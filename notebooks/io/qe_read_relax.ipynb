{
 "cells": [
  {
   "cell_type": "code",
   "execution_count": 5,
   "metadata": {},
   "outputs": [
    {
     "name": "stdout",
     "output_type": "stream",
     "text": [
      "number of relax dirs: 294\n",
      "number of relax dirs with relax.out: 51\n"
     ]
    }
   ],
   "source": [
    "from glob import glob\n",
    "import os\n",
    "from ase.io.espresso import read_espresso_out, read_espresso_in\n",
    "\n",
    "path2relax = \"/Users/y1u0d2/desktop/Lab/result/qe/SiO2/mp-546794/relax\"\n",
    "relax_dirs = glob(path2relax + \"/relax*\")\n",
    "print(f\"number of relax dirs: {len(relax_dirs)}\")\n",
    "\n",
    "# filter relax_dirs by existence of relax.out\n",
    "relax_dirs = [relax_dir for relax_dir in relax_dirs if os.path.exists(relax_dir + \"/relax.out\")]\n",
    "print(f\"number of relax dirs with relax.out: {len(relax_dirs)}\")"
   ]
  },
  {
   "cell_type": "code",
   "execution_count": 3,
   "metadata": {},
   "outputs": [],
   "source": [
    "def get_relax_atoms(path2relax):\n",
    "    with open(os.path.join(path2relax, \"relax.out\")) as f:\n",
    "        atom_gen = read_espresso_out(f, index=slice(None))\n",
    "    # 全atoms取得\n",
    "    all_ase_atoms = []\n",
    "    while True:\n",
    "        try:\n",
    "            ase_atoms = next(atom_gen)\n",
    "            all_ase_atoms.append(ase_atoms)\n",
    "        except StopIteration:\n",
    "            break"
   ]
  },
  {
   "cell_type": "code",
   "execution_count": 7,
   "metadata": {},
   "outputs": [
    {
     "name": "stdout",
     "output_type": "stream",
     "text": [
      "/Users/y1u0d2/desktop/Lab/result/qe/SiO2/mp-546794/relax/relax_scf_11070\n"
     ]
    },
    {
     "ename": "ValueError",
     "evalue": "I/O operation on closed file.",
     "output_type": "error",
     "traceback": [
      "\u001b[0;31m---------------------------------------------------------------------------\u001b[0m",
      "\u001b[0;31mValueError\u001b[0m                                Traceback (most recent call last)",
      "\u001b[1;32m/Users/y1u0d2/Desktop/Project/mlp_tools/notebooks/io/qe_read_relax.ipynb Cell 3\u001b[0m line \u001b[0;36m3\n\u001b[1;32m      <a href='vscode-notebook-cell:/Users/y1u0d2/Desktop/Project/mlp_tools/notebooks/io/qe_read_relax.ipynb#W2sZmlsZQ%3D%3D?line=0'>1</a>\u001b[0m \u001b[39mfor\u001b[39;00m relax_dir \u001b[39min\u001b[39;00m relax_dirs:\n\u001b[1;32m      <a href='vscode-notebook-cell:/Users/y1u0d2/Desktop/Project/mlp_tools/notebooks/io/qe_read_relax.ipynb#W2sZmlsZQ%3D%3D?line=1'>2</a>\u001b[0m     \u001b[39mprint\u001b[39m(relax_dir)\n\u001b[0;32m----> <a href='vscode-notebook-cell:/Users/y1u0d2/Desktop/Project/mlp_tools/notebooks/io/qe_read_relax.ipynb#W2sZmlsZQ%3D%3D?line=2'>3</a>\u001b[0m     atoms_list \u001b[39m=\u001b[39m get_relax_atoms(relax_dir)\n\u001b[1;32m      <a href='vscode-notebook-cell:/Users/y1u0d2/Desktop/Project/mlp_tools/notebooks/io/qe_read_relax.ipynb#W2sZmlsZQ%3D%3D?line=3'>4</a>\u001b[0m     \u001b[39mbreak\u001b[39;00m\n",
      "\u001b[1;32m/Users/y1u0d2/Desktop/Project/mlp_tools/notebooks/io/qe_read_relax.ipynb Cell 3\u001b[0m line \u001b[0;36m8\n\u001b[1;32m      <a href='vscode-notebook-cell:/Users/y1u0d2/Desktop/Project/mlp_tools/notebooks/io/qe_read_relax.ipynb#W2sZmlsZQ%3D%3D?line=5'>6</a>\u001b[0m \u001b[39mwhile\u001b[39;00m \u001b[39mTrue\u001b[39;00m:\n\u001b[1;32m      <a href='vscode-notebook-cell:/Users/y1u0d2/Desktop/Project/mlp_tools/notebooks/io/qe_read_relax.ipynb#W2sZmlsZQ%3D%3D?line=6'>7</a>\u001b[0m     \u001b[39mtry\u001b[39;00m:\n\u001b[0;32m----> <a href='vscode-notebook-cell:/Users/y1u0d2/Desktop/Project/mlp_tools/notebooks/io/qe_read_relax.ipynb#W2sZmlsZQ%3D%3D?line=7'>8</a>\u001b[0m         ase_atoms \u001b[39m=\u001b[39m \u001b[39mnext\u001b[39;49m(atom_gen)\n\u001b[1;32m      <a href='vscode-notebook-cell:/Users/y1u0d2/Desktop/Project/mlp_tools/notebooks/io/qe_read_relax.ipynb#W2sZmlsZQ%3D%3D?line=8'>9</a>\u001b[0m         all_ase_atoms\u001b[39m.\u001b[39mappend(ase_atoms)\n\u001b[1;32m     <a href='vscode-notebook-cell:/Users/y1u0d2/Desktop/Project/mlp_tools/notebooks/io/qe_read_relax.ipynb#W2sZmlsZQ%3D%3D?line=9'>10</a>\u001b[0m     \u001b[39mexcept\u001b[39;00m \u001b[39mStopIteration\u001b[39;00m:\n",
      "File \u001b[0;32m~/Desktop/Project/mlp_tools/.venv/lib/python3.10/site-packages/ase/io/espresso.py:104\u001b[0m, in \u001b[0;36mread_espresso_out\u001b[0;34m(fileobj, index, results_required)\u001b[0m\n\u001b[1;32m     74\u001b[0m \u001b[39m\u001b[39m\u001b[39m\"\"\"Reads Quantum ESPRESSO output files.\u001b[39;00m\n\u001b[1;32m     75\u001b[0m \n\u001b[1;32m     76\u001b[0m \u001b[39mThe atomistic configurations as well as results (energy, force, stress,\u001b[39;00m\n\u001b[0;32m   (...)\u001b[0m\n\u001b[1;32m    101\u001b[0m \n\u001b[1;32m    102\u001b[0m \u001b[39m\"\"\"\u001b[39;00m\n\u001b[1;32m    103\u001b[0m \u001b[39m# work with a copy in memory for faster random access\u001b[39;00m\n\u001b[0;32m--> 104\u001b[0m pwo_lines \u001b[39m=\u001b[39m fileobj\u001b[39m.\u001b[39;49mreadlines()\n\u001b[1;32m    106\u001b[0m \u001b[39m# TODO: index -1 special case?\u001b[39;00m\n\u001b[1;32m    107\u001b[0m \u001b[39m# Index all the interesting points\u001b[39;00m\n\u001b[1;32m    108\u001b[0m indexes \u001b[39m=\u001b[39m {\n\u001b[1;32m    109\u001b[0m     _PW_START: [],\n\u001b[1;32m    110\u001b[0m     _PW_END: [],\n\u001b[0;32m   (...)\u001b[0m\n\u001b[1;32m    122\u001b[0m     _PW_BANDSTRUCTURE: [],\n\u001b[1;32m    123\u001b[0m }\n",
      "\u001b[0;31mValueError\u001b[0m: I/O operation on closed file."
     ]
    }
   ],
   "source": [
    "for relax_dir in relax_dirs:\n",
    "    print(relax_dir)\n",
    "    atoms_list = get_relax_atoms(relax_dir)\n",
    "    break"
   ]
  },
  {
   "cell_type": "code",
   "execution_count": null,
   "metadata": {},
   "outputs": [],
   "source": []
  }
 ],
 "metadata": {
  "kernelspec": {
   "display_name": ".venv",
   "language": "python",
   "name": "python3"
  },
  "language_info": {
   "codemirror_mode": {
    "name": "ipython",
    "version": 3
   },
   "file_extension": ".py",
   "mimetype": "text/x-python",
   "name": "python",
   "nbconvert_exporter": "python",
   "pygments_lexer": "ipython3",
   "version": "3.10.6"
  },
  "orig_nbformat": 4
 },
 "nbformat": 4,
 "nbformat_minor": 2
}
