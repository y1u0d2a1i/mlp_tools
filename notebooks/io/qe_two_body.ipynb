{
 "cells": [
  {
   "cell_type": "markdown",
   "metadata": {},
   "source": [
    "# 2体ポテンシャル計算のためのフォルダを作成する"
   ]
  },
  {
   "cell_type": "code",
   "execution_count": 9,
   "metadata": {},
   "outputs": [],
   "source": [
    "# read ase atoms from qe input\n",
    "# change coord\n",
    "# write qe input\n"
   ]
  },
  {
   "cell_type": "code",
   "execution_count": 10,
   "metadata": {},
   "outputs": [],
   "source": [
    "import numpy as np\n",
    "import os\n",
    "\n",
    "path2root = \"/Users/y1u0d2/desktop/Lab/result/qe/SiO2/mp-dimer/Si-O/spin/result\"\n",
    "path2input = \"/Users/y1u0d2/desktop/Lab/result/qe/SiO2/mp-dimer/Si-O/spin/input/scf.in\"\n",
    "\n",
    "with open(path2input, \"r\") as f:\n",
    "    scf_input_lines = [s.strip() for s in f.readlines()]\n",
    "\n",
    "LATTICE_CONSTANT = 15\n",
    "distance_list = np.linspace(0.1, 6.5, 50)\n",
    "\n",
    "def get_changed_position_line(line: str, distance: float):\n",
    "    # split line\n",
    "    line_list = line.split()\n",
    "    # change the distance\n",
    "    line_list[-1] = str(float(line_list[-1]) + distance)\n",
    "    # join the list\n",
    "    new_line = \" \".join(line_list)\n",
    "    return new_line\n",
    "\n",
    "\n",
    "for distance in distance_list:\n",
    "    path2target = os.path.join(path2root, f\"scf_{distance:.2f}\")\n",
    "    if not os.path.exists(path2target):\n",
    "        os.makedirs(path2target)\n",
    "    # copy scf.in from input directory\n",
    "    copied_scf_input_lines = scf_input_lines.copy()\n",
    "\n",
    "    # change coord\n",
    "    position_idx = copied_scf_input_lines.index(\"ATOMIC_POSITIONS {crystal}\")\n",
    "\n",
    "    scaled_change_distance = distance / LATTICE_CONSTANT\n",
    "    change_position_atom_line = get_changed_position_line(\n",
    "        line = copied_scf_input_lines[position_idx + 1],\n",
    "        distance = scaled_change_distance\n",
    "    )\n",
    "    copied_scf_input_lines[position_idx + 1] = change_position_atom_line\n",
    "\n",
    "    # overwrite new scf.in\n",
    "    with open(os.path.join(path2target, \"scf.in\"), \"w\") as f:\n",
    "        f.write(\"\\n\".join(copied_scf_input_lines))"
   ]
  },
  {
   "cell_type": "code",
   "execution_count": null,
   "metadata": {},
   "outputs": [],
   "source": []
  }
 ],
 "metadata": {
  "kernelspec": {
   "display_name": "ml",
   "language": "python",
   "name": "python3"
  },
  "language_info": {
   "codemirror_mode": {
    "name": "ipython",
    "version": 3
   },
   "file_extension": ".py",
   "mimetype": "text/x-python",
   "name": "python",
   "nbconvert_exporter": "python",
   "pygments_lexer": "ipython3",
   "version": "3.10.6"
  },
  "orig_nbformat": 4
 },
 "nbformat": 4,
 "nbformat_minor": 2
}
