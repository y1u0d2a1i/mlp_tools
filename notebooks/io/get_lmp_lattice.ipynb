{
 "cells": [
  {
   "cell_type": "code",
   "execution_count": 1,
   "metadata": {},
   "outputs": [],
   "source": [
    "path2input = \"/Users/y1u0d2/desktop/Lab/result/qe/SiO2/mp-559091/original/POSCAR\"\n",
    "\n",
    "with open(path2input, 'r') as f:\n",
    "    lines = [s.strip() for s in f.readlines()]"
   ]
  },
  {
   "cell_type": "code",
   "execution_count": 13,
   "metadata": {},
   "outputs": [
    {
     "name": "stdout",
     "output_type": "stream",
     "text": [
      "basis 0.6666666666666666    0.3333333333333333    0.9371258000000000 &\n",
      "basis 0.6666666666666667    0.3333333333333334    0.5628742000000000 &\n",
      "basis 0.3333333333333334    0.6666666666666667    0.0628742000000000 &\n",
      "basis 0.3333333333333333    0.6666666666666666    0.4371258000000000 &\n",
      "basis 0.0000000000000000    0.4212587400000001    0.0000000000000000 &\n",
      "basis 0.4212587400000001    0.4212587400000001    0.5000000000000000 &\n",
      "basis 0.5787412599999999    0.0000000000000000    0.5000000000000000 &\n",
      "basis 0.5787412599999999    0.5787412599999999    0.0000000000000000 &\n",
      "basis 0.0000000000000000    0.5787412599999999    0.5000000000000000 &\n",
      "basis 0.6666666666666666    0.3333333333333333    0.7500000000000000 &\n",
      "basis 0.3333333333333333    0.6666666666666666    0.2500000000000000 &\n",
      "basis 0.4212587400000001    0.0000000000000000    0.0000000000000000 &\n"
     ]
    }
   ],
   "source": [
    "for l in lines[-12:]:\n",
    "    print(f'basis {\" \".join(l.split(\" \")[:-1])} &')"
   ]
  },
  {
   "cell_type": "code",
   "execution_count": null,
   "metadata": {},
   "outputs": [],
   "source": []
  }
 ],
 "metadata": {
  "kernelspec": {
   "display_name": ".venv",
   "language": "python",
   "name": "python3"
  },
  "language_info": {
   "codemirror_mode": {
    "name": "ipython",
    "version": 3
   },
   "file_extension": ".py",
   "mimetype": "text/x-python",
   "name": "python",
   "nbconvert_exporter": "python",
   "pygments_lexer": "ipython3",
   "version": "3.10.6"
  },
  "orig_nbformat": 4
 },
 "nbformat": 4,
 "nbformat_minor": 2
}
