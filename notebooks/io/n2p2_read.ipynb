{
 "cells": [
  {
   "cell_type": "code",
   "execution_count": 17,
   "metadata": {},
   "outputs": [],
   "source": [
    "import numpy as np\n",
    "import pandas as pd\n",
    "import matplotlib.pyplot as plt\n",
    "import os\n",
    "\n",
    "from mlptools.io.read import read_from_n2p2_data"
   ]
  },
  {
   "cell_type": "code",
   "execution_count": 18,
   "metadata": {},
   "outputs": [
    {
     "name": "stdout",
     "output_type": "stream",
     "text": [
      "0 / 93300\n",
      "1000 / 93300\n",
      "2000 / 93300\n",
      "3000 / 93300\n",
      "4000 / 93300\n",
      "5000 / 93300\n",
      "6000 / 93300\n",
      "7000 / 93300\n",
      "8000 / 93300\n",
      "9000 / 93300\n",
      "10000 / 93300\n",
      "11000 / 93300\n",
      "12000 / 93300\n",
      "13000 / 93300\n",
      "14000 / 93300\n",
      "15000 / 93300\n",
      "16000 / 93300\n",
      "17000 / 93300\n",
      "18000 / 93300\n",
      "19000 / 93300\n",
      "20000 / 93300\n",
      "21000 / 93300\n",
      "22000 / 93300\n",
      "23000 / 93300\n",
      "24000 / 93300\n",
      "25000 / 93300\n",
      "26000 / 93300\n",
      "27000 / 93300\n",
      "28000 / 93300\n",
      "29000 / 93300\n",
      "30000 / 93300\n",
      "31000 / 93300\n",
      "32000 / 93300\n",
      "33000 / 93300\n",
      "34000 / 93300\n",
      "35000 / 93300\n",
      "36000 / 93300\n",
      "37000 / 93300\n",
      "38000 / 93300\n",
      "39000 / 93300\n",
      "40000 / 93300\n",
      "41000 / 93300\n",
      "42000 / 93300\n",
      "43000 / 93300\n",
      "44000 / 93300\n",
      "45000 / 93300\n",
      "46000 / 93300\n",
      "47000 / 93300\n",
      "48000 / 93300\n",
      "49000 / 93300\n",
      "50000 / 93300\n",
      "51000 / 93300\n",
      "52000 / 93300\n",
      "53000 / 93300\n",
      "54000 / 93300\n",
      "55000 / 93300\n",
      "56000 / 93300\n",
      "57000 / 93300\n",
      "58000 / 93300\n",
      "59000 / 93300\n",
      "60000 / 93300\n",
      "61000 / 93300\n",
      "62000 / 93300\n",
      "63000 / 93300\n",
      "64000 / 93300\n",
      "65000 / 93300\n",
      "66000 / 93300\n",
      "67000 / 93300\n",
      "68000 / 93300\n",
      "69000 / 93300\n",
      "70000 / 93300\n",
      "71000 / 93300\n",
      "72000 / 93300\n",
      "73000 / 93300\n",
      "74000 / 93300\n",
      "75000 / 93300\n",
      "76000 / 93300\n",
      "77000 / 93300\n",
      "78000 / 93300\n",
      "79000 / 93300\n",
      "80000 / 93300\n",
      "81000 / 93300\n",
      "82000 / 93300\n",
      "83000 / 93300\n",
      "84000 / 93300\n",
      "85000 / 93300\n",
      "86000 / 93300\n",
      "87000 / 93300\n",
      "88000 / 93300\n",
      "89000 / 93300\n",
      "90000 / 93300\n",
      "91000 / 93300\n",
      "92000 / 93300\n",
      "93000 / 93300\n"
     ]
    }
   ],
   "source": [
    "# all_mlpatoms = read_from_n2p2_data(\"/Users/y1u0d2/Google Drive/マイドライブ/HamaLab_kotani/n2p2/Si/100/data\")\n",
    "all_mlpatoms = read_from_n2p2_data(\"/Users/y1u0d2/desktop/Lab/result/n2p2/Si/100/data\")"
   ]
  },
  {
   "cell_type": "code",
   "execution_count": 19,
   "metadata": {},
   "outputs": [],
   "source": [
    "mlpatoms_structure_id_dict = {}\n",
    "\n",
    "for mlpatoms in all_mlpatoms:\n",
    "    if mlpatoms_structure_id_dict.get(mlpatoms.structure_id) is None:\n",
    "        mlpatoms_structure_id_dict[mlpatoms.structure_id] = []\n",
    "    mlpatoms_structure_id_dict[mlpatoms.structure_id].append(mlpatoms)"
   ]
  },
  {
   "cell_type": "code",
   "execution_count": 20,
   "metadata": {},
   "outputs": [
    {
     "name": "stdout",
     "output_type": "stream",
     "text": [
      "mp-165 6426\n",
      "mp-three 100\n",
      "mp-slab 561\n",
      "mp-149_dimer 63\n",
      "mp-571520 3352\n",
      "mp-149 61407\n",
      "mp-1079649 3712\n",
      "mp-four 149\n",
      "amorphous 12308\n",
      "mp-92 5222\n"
     ]
    }
   ],
   "source": [
    "for k, v in mlpatoms_structure_id_dict.items():\n",
    "    print(k, len(v))"
   ]
  },
  {
   "cell_type": "code",
   "execution_count": null,
   "metadata": {},
   "outputs": [],
   "source": []
  }
 ],
 "metadata": {
  "kernelspec": {
   "display_name": "research",
   "language": "python",
   "name": "python3"
  },
  "language_info": {
   "codemirror_mode": {
    "name": "ipython",
    "version": 3
   },
   "file_extension": ".py",
   "mimetype": "text/x-python",
   "name": "python",
   "nbconvert_exporter": "python",
   "pygments_lexer": "ipython3",
   "version": "3.10.6"
  },
  "orig_nbformat": 4
 },
 "nbformat": 4,
 "nbformat_minor": 2
}
