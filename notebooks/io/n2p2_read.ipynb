{
 "cells": [
  {
   "cell_type": "code",
   "execution_count": 1,
   "metadata": {},
   "outputs": [],
   "source": [
    "import numpy as np\n",
    "import pandas as pd\n",
    "import matplotlib.pyplot as plt\n",
    "import os\n",
    "\n",
    "from mlptools.io.read import read_from_n2p2_data\n",
    "from mlptools.utils.constants import  ZERO_POINT_ENERGY_SILICON_ESPRESSO\n",
    "\n",
    "from typing import List\n",
    "from mlptools.atoms.atom import MLPAtoms\n",
    "\n",
    "def get_energy_atomic_distance_df(dimer_list: List[MLPAtoms]):\n",
    "    energy_atomic_distance_dict = {\n",
    "        \"energy\": [dimer.energy for dimer in dimer_list],\n",
    "        \"atomic_distance\": [dimer.get_atomic_distance() for dimer in dimer_list]\n",
    "    }\n",
    "    energy_atomic_distance_df = pd.DataFrame(energy_atomic_distance_dict)\n",
    "    energy_atomic_distance_df = energy_atomic_distance_df.sort_values(\"atomic_distance\")\n",
    "    energy_atomic_distance_df = energy_atomic_distance_df.reset_index(drop=True)\n",
    "    return energy_atomic_distance_df"
   ]
  },
  {
   "cell_type": "code",
   "execution_count": 2,
   "metadata": {},
   "outputs": [
    {
     "name": "stdout",
     "output_type": "stream",
     "text": [
      "0 / 41237\n",
      "1000 / 41237\n",
      "2000 / 41237\n",
      "3000 / 41237\n",
      "4000 / 41237\n",
      "5000 / 41237\n",
      "6000 / 41237\n",
      "7000 / 41237\n",
      "8000 / 41237\n",
      "9000 / 41237\n",
      "10000 / 41237\n",
      "11000 / 41237\n",
      "12000 / 41237\n",
      "13000 / 41237\n",
      "14000 / 41237\n",
      "15000 / 41237\n",
      "16000 / 41237\n",
      "17000 / 41237\n",
      "18000 / 41237\n",
      "19000 / 41237\n",
      "20000 / 41237\n",
      "21000 / 41237\n",
      "22000 / 41237\n",
      "23000 / 41237\n",
      "24000 / 41237\n",
      "25000 / 41237\n",
      "26000 / 41237\n",
      "27000 / 41237\n",
      "28000 / 41237\n",
      "29000 / 41237\n",
      "30000 / 41237\n",
      "31000 / 41237\n",
      "32000 / 41237\n",
      "33000 / 41237\n",
      "34000 / 41237\n",
      "35000 / 41237\n",
      "36000 / 41237\n",
      "37000 / 41237\n",
      "38000 / 41237\n",
      "39000 / 41237\n",
      "40000 / 41237\n",
      "41000 / 41237\n",
      "amorphous 11983\n",
      "mp-1079649 3712\n",
      "mp-149 7170\n",
      "diamond 2482\n",
      "mp-571520 3352\n",
      "mp-165 6426\n",
      "mp-92 5222\n",
      "mp-slab 561\n",
      "mp-three 100\n",
      "mp-four 149\n",
      "mp-149_dimer 80\n"
     ]
    }
   ],
   "source": [
    "# all_mlpatoms = read_from_n2p2_data(\"/Users/y1u0d2/Google Drive/マイドライブ/HamaLab_kotani/n2p2/Si/100/data\")\n",
    "all_mlpatoms = read_from_n2p2_data(\"/Users/y1u0d2/desktop/Lab/result/lammps/models/Si/30\")\n",
    "\n",
    "mlpatoms_structure_id_dict = {}\n",
    "\n",
    "for mlpatoms in all_mlpatoms:\n",
    "    if mlpatoms_structure_id_dict.get(mlpatoms.structure_id) is None:\n",
    "        mlpatoms_structure_id_dict[mlpatoms.structure_id] = []\n",
    "    mlpatoms_structure_id_dict[mlpatoms.structure_id].append(mlpatoms)\n",
    "\n",
    "for k, v in mlpatoms_structure_id_dict.items():\n",
    "    print(k, len(v))"
   ]
  },
  {
   "cell_type": "code",
   "execution_count": 3,
   "metadata": {},
   "outputs": [],
   "source": [
    "energy_atomic_distance_df_30 = get_energy_atomic_distance_df(mlpatoms_structure_id_dict[\"mp-149_dimer\"])"
   ]
  },
  {
   "cell_type": "code",
   "execution_count": 4,
   "metadata": {},
   "outputs": [
    {
     "name": "stdout",
     "output_type": "stream",
     "text": [
      "0 / 55069\n",
      "1000 / 55069\n",
      "2000 / 55069\n",
      "3000 / 55069\n",
      "4000 / 55069\n",
      "5000 / 55069\n",
      "6000 / 55069\n",
      "7000 / 55069\n",
      "8000 / 55069\n",
      "9000 / 55069\n",
      "10000 / 55069\n",
      "11000 / 55069\n",
      "12000 / 55069\n",
      "13000 / 55069\n",
      "14000 / 55069\n",
      "15000 / 55069\n",
      "16000 / 55069\n",
      "17000 / 55069\n",
      "18000 / 55069\n",
      "19000 / 55069\n",
      "20000 / 55069\n",
      "21000 / 55069\n",
      "22000 / 55069\n",
      "23000 / 55069\n",
      "24000 / 55069\n",
      "25000 / 55069\n",
      "26000 / 55069\n",
      "27000 / 55069\n",
      "28000 / 55069\n",
      "29000 / 55069\n",
      "30000 / 55069\n",
      "31000 / 55069\n",
      "32000 / 55069\n",
      "33000 / 55069\n",
      "34000 / 55069\n",
      "35000 / 55069\n",
      "36000 / 55069\n",
      "37000 / 55069\n",
      "38000 / 55069\n",
      "39000 / 55069\n",
      "40000 / 55069\n",
      "41000 / 55069\n",
      "42000 / 55069\n",
      "43000 / 55069\n",
      "44000 / 55069\n",
      "45000 / 55069\n",
      "46000 / 55069\n",
      "47000 / 55069\n",
      "48000 / 55069\n",
      "49000 / 55069\n",
      "50000 / 55069\n",
      "51000 / 55069\n",
      "52000 / 55069\n",
      "53000 / 55069\n",
      "54000 / 55069\n",
      "55000 / 55069\n",
      "mp-149 39320\n",
      "mp-1079649 3653\n",
      "mp-165 3422\n",
      "mp-571520 3142\n",
      "mp-92 5039\n",
      "mp-slab 261\n",
      "mp-three 100\n",
      "mp-four 62\n",
      "mp-149_dimer 70\n"
     ]
    }
   ],
   "source": [
    "all_mlpatoms = read_from_n2p2_data(\"/Users/y1u0d2/desktop/Lab/result/lammps/models/Si/18\")\n",
    "\n",
    "mlpatoms_structure_id_dict = {}\n",
    "\n",
    "for mlpatoms in all_mlpatoms:\n",
    "    if mlpatoms_structure_id_dict.get(mlpatoms.structure_id) is None:\n",
    "        mlpatoms_structure_id_dict[mlpatoms.structure_id] = []\n",
    "    mlpatoms_structure_id_dict[mlpatoms.structure_id].append(mlpatoms)\n",
    "\n",
    "for k, v in mlpatoms_structure_id_dict.items():\n",
    "    print(k, len(v))\n",
    "\n",
    "energy_atomic_distance_df_18 = get_energy_atomic_distance_df(mlpatoms_structure_id_dict[\"mp-149_dimer\"])"
   ]
  },
  {
   "cell_type": "markdown",
   "metadata": {},
   "source": [
    "# DBに入ってるDimerを見る"
   ]
  },
  {
   "cell_type": "code",
   "execution_count": 5,
   "metadata": {},
   "outputs": [],
   "source": [
    "# DBから全構造取得する\n",
    "from mlptools.db.db import get_session\n",
    "from mlptools.db.model import Structure\n",
    "\n",
    "ATOMIC_SYMBOL = \"Si\"\n",
    "PATH2ATOMS = \"/Users/y1u0d2/desktop/Lab/data/qe_data/Si/atoms\"\n",
    "\n",
    "session = get_session(structure_symbol=ATOMIC_SYMBOL)\n",
    "all_structure = session.query(Structure).all()"
   ]
  },
  {
   "cell_type": "code",
   "execution_count": 6,
   "metadata": {},
   "outputs": [],
   "source": [
    "# select dimer\n",
    "import pickle\n",
    "\n",
    "all_dimer_in_training_dataset = list(filter(lambda x: x.structure_name == \"dimer\", all_structure))\n",
    "all_dimer = []\n",
    "for structure in all_dimer_in_training_dataset:\n",
    "    atoms = pickle.load(open(os.path.join(PATH2ATOMS ,structure.id, \"atoms.pkl\"), \"rb\"))\n",
    "    all_dimer.append(atoms)"
   ]
  },
  {
   "cell_type": "code",
   "execution_count": 7,
   "metadata": {},
   "outputs": [],
   "source": [
    "energy_atomic_distance_df_db = get_energy_atomic_distance_df(all_dimer)"
   ]
  },
  {
   "cell_type": "code",
   "execution_count": 9,
   "metadata": {},
   "outputs": [
    {
     "data": {
      "image/png": "[encoded data removed]",
      "text/plain": [
       "<Figure size 640x480 with 1 Axes>"
      ]
     },
     "metadata": {},
     "output_type": "display_data"
    }
   ],
   "source": [
    "fig, ax = plt.subplots()\n",
    "ax.plot(energy_atomic_distance_df_18[\"atomic_distance\"], energy_atomic_distance_df_18[\"energy\"]-2*ZERO_POINT_ENERGY_SILICON_ESPRESSO, marker=\"o\", label=\"18\")\n",
    "ax.plot(energy_atomic_distance_df_30[\"atomic_distance\"], energy_atomic_distance_df_30[\"energy\"]-2*ZERO_POINT_ENERGY_SILICON_ESPRESSO, marker=\"o\", label=\"30\")\n",
    "ax.plot(energy_atomic_distance_df_db[\"atomic_distance\"], energy_atomic_distance_df_db[\"energy\"]-2*ZERO_POINT_ENERGY_SILICON_ESPRESSO, marker=\"o\", label=\"db\")\n",
    "# ax.plot(energy_atomic_distance_df_raw[\"atomic_distance\"], energy_atomic_distance_df_raw[\"energy\"]-2*ZERO_POINT_ENERGY_SILICON_ESPRESSO, marker=\"o\", label=\"raw\")\n",
    "ax.set_xlabel(\"atomic_distance\")\n",
    "ax.set_ylabel(\"energy\")\n",
    "ax.set_ylim(-5, 10)\n",
    "ax.hlines(0, 0, 6.5, linestyles=\"dashed\")\n",
    "ax.legend()\n",
    "plt.show()"
   ]
  },
  {
   "cell_type": "code",
   "execution_count": 18,
   "metadata": {},
   "outputs": [
    {
     "name": "stdout",
     "output_type": "stream",
     "text": [
      "/Users/y1u0d2/desktop/Lab/result/qe/Si/mp-149_dimer/coord/spin/result/scf_33 -3.7819902270562125\n",
      "/Users/y1u0d2/desktop/Lab/result/qe/Si/mp-149_dimer/coord/spin/result/scf_34 -3.865658021426043\n",
      "/Users/y1u0d2/desktop/Lab/result/qe/Si/mp-149_dimer/coord/spin/result/scf_60 -1.3703014665591127\n",
      "/Users/y1u0d2/desktop/Lab/result/qe/Si/mp-149_dimer/coord/spin/result/scf_94 -0.5632133177325613\n",
      "/Users/y1u0d2/desktop/Lab/result/qe/Si/mp-149_dimer/coord/spin/result/scf_58 -1.4848092828331119\n",
      "/Users/y1u0d2/desktop/Lab/result/qe/Si/mp-149_dimer/coord/spin/result/scf_93 -0.5677950344909277\n",
      "/Users/y1u0d2/desktop/Lab/result/qe/Si/mp-149_dimer/coord/spin/result/scf_67 -1.0427106911613464\n",
      "/Users/y1u0d2/desktop/Lab/result/qe/Si/mp-149_dimer/coord/spin/result/scf_51 ((2, 0), 18)\n",
      "/Users/y1u0d2/desktop/Lab/result/qe/Si/mp-149_dimer/coord/spin/result/scf_69 -0.968996140724812\n",
      "/Users/y1u0d2/desktop/Lab/result/qe/Si/mp-149_dimer/coord/spin/result/scf_56 -1.6087473402424166\n",
      "/Users/y1u0d2/desktop/Lab/result/qe/Si/mp-149_dimer/coord/spin/result/scf_35 -3.8998080360636322\n",
      "/Users/y1u0d2/desktop/Lab/result/qe/Si/mp-149_dimer/coord/spin/result/scf_32 -3.6130317513827777\n",
      "/Users/y1u0d2/desktop/Lab/result/qe/Si/mp-149_dimer/coord/spin/result/scf_68 -1.0049373447052403\n",
      "/Users/y1u0d2/desktop/Lab/result/qe/Si/mp-149_dimer/coord/spin/result/scf_57 -1.5454697160876094\n",
      "/Users/y1u0d2/desktop/Lab/result/qe/Si/mp-149_dimer/coord/spin/result/scf_50 -2.362646757596167\n",
      "/Users/y1u0d2/desktop/Lab/result/qe/Si/mp-149_dimer/coord/spin/result/scf_59 -1.4262370511762583\n",
      "/Users/y1u0d2/desktop/Lab/result/qe/Si/mp-149_dimer/coord/spin/result/scf_66 -1.0828987758216044\n",
      "/Users/y1u0d2/desktop/Lab/result/qe/Si/mp-149_dimer/coord/spin/result/scf_92 -0.572534985446282\n",
      "/Users/y1u0d2/desktop/Lab/result/qe/Si/mp-149_dimer/coord/spin/result/scf_95 -0.5595068551360782\n",
      "/Users/y1u0d2/desktop/Lab/result/qe/Si/mp-149_dimer/coord/spin/result/scf_61 -1.316460886385812\n",
      "/Users/y1u0d2/desktop/Lab/result/qe/Si/mp-149_dimer/coord/spin/result/scf_7 262.7565581933783\n",
      "/Users/y1u0d2/desktop/Lab/result/qe/Si/mp-149_dimer/coord/spin/result/scf_0 3556.887983024061\n",
      "/Users/y1u0d2/desktop/Lab/result/qe/Si/mp-149_dimer/coord/spin/result/scf_9 175.32835084905537\n",
      "/Users/y1u0d2/desktop/Lab/result/qe/Si/mp-149_dimer/coord/spin/result/scf_8 213.84412970925564\n",
      "/Users/y1u0d2/desktop/Lab/result/qe/Si/mp-149_dimer/coord/spin/result/scf_1 1659.4153677001807\n",
      "/Users/y1u0d2/desktop/Lab/result/qe/Si/mp-149_dimer/coord/spin/result/scf_6 326.5728843458478\n",
      "/Users/y1u0d2/desktop/Lab/result/qe/Si/mp-149_dimer/coord/spin/result/scf_43 -3.3995632069495514\n",
      "/Users/y1u0d2/desktop/Lab/result/qe/Si/mp-149_dimer/coord/spin/result/scf_88 -0.5988773737681186\n",
      "/Users/y1u0d2/desktop/Lab/result/qe/Si/mp-149_dimer/coord/spin/result/scf_44 -3.257334337590237\n",
      "/Users/y1u0d2/desktop/Lab/result/qe/Si/mp-149_dimer/coord/spin/result/scf_72 -0.8738908574885045\n",
      "/Users/y1u0d2/desktop/Lab/result/qe/Si/mp-149_dimer/coord/spin/result/scf_86 -0.6168668196417002\n",
      "/Users/y1u0d2/desktop/Lab/result/qe/Si/mp-149_dimer/coord/spin/result/scf_81 -0.679540078961054\n",
      "/Users/y1u0d2/desktop/Lab/result/qe/Si/mp-149_dimer/coord/spin/result/scf_75 -0.7952627474674046\n",
      "/Users/y1u0d2/desktop/Lab/result/qe/Si/mp-149_dimer/coord/spin/result/scf_21 12.322216821975417\n",
      "/Users/y1u0d2/desktop/Lab/result/qe/Si/mp-149_dimer/coord/spin/result/scf_19 21.94636015637093\n",
      "/Users/y1u0d2/desktop/Lab/result/qe/Si/mp-149_dimer/coord/spin/result/scf_26 0.25308425184948646\n",
      "/Users/y1u0d2/desktop/Lab/result/qe/Si/mp-149_dimer/coord/spin/result/scf_10 144.37165292567738\n",
      "/Users/y1u0d2/desktop/Lab/result/qe/Si/mp-149_dimer/coord/spin/result/scf_28 -1.6295481302399821\n",
      "/Users/y1u0d2/desktop/Lab/result/qe/Si/mp-149_dimer/coord/spin/result/scf_17 35.58087751625271\n",
      "/Users/y1u0d2/desktop/Lab/result/qe/Si/mp-149_dimer/coord/spin/result/scf_74 -0.8197851023794556\n",
      "/Users/y1u0d2/desktop/Lab/result/qe/Si/mp-149_dimer/coord/spin/result/scf_80 -0.6954869023045376\n",
      "/Users/y1u0d2/desktop/Lab/result/qe/Si/mp-149_dimer/coord/spin/result/scf_87 -0.6075092329010658\n",
      "/Users/y1u0d2/desktop/Lab/result/qe/Si/mp-149_dimer/coord/spin/result/scf_73 -0.8458291178772015\n",
      "/Users/y1u0d2/desktop/Lab/result/qe/Si/mp-149_dimer/coord/spin/result/scf_45 -3.110347149591462\n",
      "/Users/y1u0d2/desktop/Lab/result/qe/Si/mp-149_dimer/coord/spin/result/scf_42 -3.534019552678501\n",
      "/Users/y1u0d2/desktop/Lab/result/qe/Si/mp-149_dimer/coord/spin/result/scf_89 -0.5912985951908922\n",
      "/Users/y1u0d2/desktop/Lab/result/qe/Si/mp-149_dimer/coord/spin/result/scf_29 -2.3464606101313166\n",
      "/Users/y1u0d2/desktop/Lab/result/qe/Si/mp-149_dimer/coord/spin/result/scf_16 44.26737289020525\n",
      "/Users/y1u0d2/desktop/Lab/result/qe/Si/mp-149_dimer/coord/spin/result/scf_11 119.12965187819327\n",
      "/Users/y1u0d2/desktop/Lab/result/qe/Si/mp-149_dimer/coord/spin/result/scf_18 28.198653975612615\n",
      "/Users/y1u0d2/desktop/Lab/result/qe/Si/mp-149_dimer/coord/spin/result/scf_27 -0.8236971469807486\n",
      "/Users/y1u0d2/desktop/Lab/result/qe/Si/mp-149_dimer/coord/spin/result/scf_20 16.692639361534475\n",
      "/Users/y1u0d2/desktop/Lab/result/qe/Si/mp-149_dimer/coord/spin/result/scf_90 -0.5842508467696916\n",
      "/Users/y1u0d2/desktop/Lab/result/qe/Si/mp-149_dimer/coord/spin/result/scf_64 -1.1696007755494975\n",
      "/Users/y1u0d2/desktop/Lab/result/qe/Si/mp-149_dimer/coord/spin/result/scf_63 -1.2161521062696465\n"
     ]
    },
    {
     "name": "stdout",
     "output_type": "stream",
     "text": [
      "/Users/y1u0d2/desktop/Lab/result/qe/Si/mp-149_dimer/coord/spin/result/scf_97 -0.5529950349202863\n",
      "/Users/y1u0d2/desktop/Lab/result/qe/Si/mp-149_dimer/coord/spin/result/scf_55 -1.6740576547720138\n",
      "/Users/y1u0d2/desktop/Lab/result/qe/Si/mp-149_dimer/coord/spin/result/scf_52 ((2, 0), 18)\n",
      "/Users/y1u0d2/desktop/Lab/result/qe/Si/mp-149_dimer/coord/spin/result/scf_39 -3.8572558263729206\n",
      "/Users/y1u0d2/desktop/Lab/result/qe/Si/mp-149_dimer/coord/spin/result/scf_37 -3.9548114947265276\n",
      "/Users/y1u0d2/desktop/Lab/result/qe/Si/mp-149_dimer/coord/spin/result/scf_30 -2.9253691961794175\n",
      "/Users/y1u0d2/desktop/Lab/result/qe/Si/mp-149_dimer/coord/spin/result/scf_98 -0.5500828726187592\n",
      "/Users/y1u0d2/desktop/Lab/result/qe/Si/mp-149_dimer/coord/spin/result/scf_53 ((2, 0), 18)\n",
      "/Users/y1u0d2/desktop/Lab/result/qe/Si/mp-149_dimer/coord/spin/result/scf_54 -1.7421258430563284\n",
      "/Users/y1u0d2/desktop/Lab/result/qe/Si/mp-149_dimer/coord/spin/result/scf_96 -0.5558764483578216\n",
      "/Users/y1u0d2/desktop/Lab/result/qe/Si/mp-149_dimer/coord/spin/result/scf_62 -1.2653123284180765\n",
      "/Users/y1u0d2/desktop/Lab/result/qe/Si/mp-149_dimer/coord/spin/result/scf_65 -1.124987711701806\n",
      "/Users/y1u0d2/desktop/Lab/result/qe/Si/mp-149_dimer/coord/spin/result/scf_91 -0.5782141373160812\n",
      "/Users/y1u0d2/desktop/Lab/result/qe/Si/mp-149_dimer/coord/spin/result/scf_31 -3.3364423203659044\n",
      "/Users/y1u0d2/desktop/Lab/result/qe/Si/mp-149_dimer/coord/spin/result/scf_36 -3.9483338247973734\n",
      "/Users/y1u0d2/desktop/Lab/result/qe/Si/mp-149_dimer/coord/spin/result/scf_38 -3.9217198668643505\n",
      "/Users/y1u0d2/desktop/Lab/result/qe/Si/mp-149_dimer/coord/spin/result/scf_3 719.084628622645\n",
      "/Users/y1u0d2/desktop/Lab/result/qe/Si/mp-149_dimer/coord/spin/result/scf_4 535.3685680346317\n",
      "/Users/y1u0d2/desktop/Lab/result/qe/Si/mp-149_dimer/coord/spin/result/scf_5 412.9438196290595\n",
      "/Users/y1u0d2/desktop/Lab/result/qe/Si/mp-149_dimer/coord/spin/result/scf_2 1031.4220206168861\n",
      "/Users/y1u0d2/desktop/Lab/result/qe/Si/mp-149_dimer/coord/spin/result/scf_25 1.6706034701355748\n",
      "/Users/y1u0d2/desktop/Lab/result/qe/Si/mp-149_dimer/coord/spin/result/scf_22 8.73299528937332\n",
      "/Users/y1u0d2/desktop/Lab/result/qe/Si/mp-149_dimer/coord/spin/result/scf_14 66.65139086224235\n",
      "/Users/y1u0d2/desktop/Lab/result/qe/Si/mp-149_dimer/coord/spin/result/scf_13 81.08251141657661\n",
      "/Users/y1u0d2/desktop/Lab/result/qe/Si/mp-149_dimer/coord/spin/result/scf_47 -2.8095453013247607\n",
      "/Users/y1u0d2/desktop/Lab/result/qe/Si/mp-149_dimer/coord/spin/result/scf_78 -0.7312289189549119\n",
      "/Users/y1u0d2/desktop/Lab/result/qe/Si/mp-149_dimer/coord/spin/result/scf_40 -3.767107913049358\n",
      "/Users/y1u0d2/desktop/Lab/result/qe/Si/mp-149_dimer/coord/spin/result/scf_82 -0.6647701479694206\n",
      "/Users/y1u0d2/desktop/Lab/result/qe/Si/mp-149_dimer/coord/spin/result/scf_76 -0.7724835538060688\n",
      "/Users/y1u0d2/desktop/Lab/result/qe/Si/mp-149_dimer/coord/spin/result/scf_49 -2.5095788425426235\n",
      "/Users/y1u0d2/desktop/Lab/result/qe/Si/mp-149_dimer/coord/spin/result/scf_71 -0.9035773888303993\n",
      "/Users/y1u0d2/desktop/Lab/result/qe/Si/mp-149_dimer/coord/spin/result/scf_85 -0.627343746657516\n",
      "/Users/y1u0d2/desktop/Lab/result/qe/Si/mp-149_dimer/coord/spin/result/scf_12 98.34662669649742\n",
      "/Users/y1u0d2/desktop/Lab/result/qe/Si/mp-149_dimer/coord/spin/result/scf_15 54.51743329261808\n",
      "/Users/y1u0d2/desktop/Lab/result/qe/Si/mp-149_dimer/coord/spin/result/scf_23 5.8241454298383815\n",
      "/Users/y1u0d2/desktop/Lab/result/qe/Si/mp-149_dimer/coord/spin/result/scf_24 3.5003454935761056\n",
      "/Users/y1u0d2/desktop/Lab/result/qe/Si/mp-149_dimer/coord/spin/result/scf_84 -0.6387108940966755\n",
      "/Users/y1u0d2/desktop/Lab/result/qe/Si/mp-149_dimer/coord/spin/result/scf_70 -0.9354166127500321\n",
      "/Users/y1u0d2/desktop/Lab/result/qe/Si/mp-149_dimer/coord/spin/result/scf_77 -0.7510804398264099\n",
      "/Users/y1u0d2/desktop/Lab/result/qe/Si/mp-149_dimer/coord/spin/result/scf_83 -0.6512161576661128\n",
      "/Users/y1u0d2/desktop/Lab/result/qe/Si/mp-149_dimer/coord/spin/result/scf_48 -2.6588806308532185\n",
      "/Users/y1u0d2/desktop/Lab/result/qe/Si/mp-149_dimer/coord/spin/result/scf_41 -3.6580781565185134\n",
      "/Users/y1u0d2/desktop/Lab/result/qe/Si/mp-149_dimer/coord/spin/result/scf_46 -2.960467935715087\n",
      "/Users/y1u0d2/desktop/Lab/result/qe/Si/mp-149_dimer/coord/spin/result/scf_79 -0.7126836805662151\n"
     ]
    }
   ],
   "source": [
    "from glob import glob\n",
    "from mlptools.io.read import read_from_format\n",
    "\n",
    "path2dimer_dir = \"/Users/y1u0d2/desktop/Lab/result/qe/Si/mp-149_dimer/coord/spin/result\"\n",
    "all_scf_dir = glob(os.path.join(path2dimer_dir, \"scf_*\"))\n",
    "\n",
    "all_dimer = []\n",
    "for scf_dir in all_scf_dir:\n",
    "    try:\n",
    "        mlpatoms = read_from_format(scf_dir, \"espresso-in\")\n",
    "        all_dimer.append(mlpatoms)\n",
    "        print(scf_dir, mlpatoms.energy - 2 * ZERO_POINT_ENERGY_SILICON_ESPRESSO)\n",
    "    except Exception as e:\n",
    "        print(scf_dir, e)\n",
    "        continue"
   ]
  },
  {
   "cell_type": "code",
   "execution_count": 11,
   "metadata": {},
   "outputs": [],
   "source": [
    "energy_atomic_distance_df_raw = get_energy_atomic_distance_df(all_dimer)"
   ]
  },
  {
   "cell_type": "code",
   "execution_count": 14,
   "metadata": {},
   "outputs": [
    {
     "data": {
      "image/png": "[encoded data removed]",
      "text/plain": [
       "<Figure size 640x480 with 1 Axes>"
      ]
     },
     "metadata": {},
     "output_type": "display_data"
    }
   ],
   "source": [
    "fig, ax = plt.subplots()\n",
    "ax.plot(energy_atomic_distance_df_18[\"atomic_distance\"], energy_atomic_distance_df_18[\"energy\"]-2*ZERO_POINT_ENERGY_SILICON_ESPRESSO, marker=\"o\", label=\"18\")\n",
    "ax.plot(energy_atomic_distance_df_30[\"atomic_distance\"], energy_atomic_distance_df_30[\"energy\"]-energy_atomic_distance_df_30[\"energy\"].to_numpy()[-1], marker=\"o\", label=\"30\")\n",
    "# ax.plot(energy_atomic_distance_df_30[\"atomic_distance\"], energy_atomic_distance_df_30[\"energy\"]-2*ZERO_POINT_ENERGY_SILICON_ESPRESSO, marker=\"o\", label=\"30\")\n",
    "ax.plot(energy_atomic_distance_df_db[\"atomic_distance\"], energy_atomic_distance_df_db[\"energy\"]-2*ZERO_POINT_ENERGY_SILICON_ESPRESSO, marker=\"o\", label=\"db\")\n",
    "ax.plot(energy_atomic_distance_df_raw[\"atomic_distance\"], energy_atomic_distance_df_raw[\"energy\"]-2*ZERO_POINT_ENERGY_SILICON_ESPRESSO, marker=\"o\", label=\"raw\")\n",
    "ax.set_xlabel(\"atomic_distance\")\n",
    "ax.set_ylabel(\"energy\")\n",
    "ax.set_ylim(-5, 10)\n",
    "ax.hlines(0, 0, 6.5, linestyles=\"dashed\")\n",
    "ax.legend()\n",
    "plt.show()"
   ]
  },
  {
   "cell_type": "code",
   "execution_count": 16,
   "metadata": {},
   "outputs": [
    {
     "data": {
      "application/vnd.plotly.v1+json": {
       "config": {
        "plotlyServerURL": "https://plot.ly"
       },
       "data": [
        {
         "mode": "markers",
         "name": "18",
         "type": "scatter",
         "x": [
          1.6363650000000014,
          1.6969650000000005,
          1.7575800000000008,
          1.81818,
          1.8787949999999984,
          1.9393949999999993,
          1.9999950000000002,
          2.0606100000000005,
          2.1212100000000014,
          2.181825,
          2.242425000000001,
          2.303025,
          2.36364,
          2.4242399999999993,
          2.4848550000000014,
          2.5454550000000005,
          2.6060550000000013,
          2.66667,
          2.7272700000000007,
          2.7878849999999993,
          2.848485,
          2.9090849999999993,
          2.9697000000000013,
          3.0303000000000004,
          3.0909150000000007,
          3.33333,
          3.3939450000000004,
          3.4545450000000013,
          3.5151450000000004,
          3.5757600000000007,
          3.63636,
          3.696975,
          3.757574999999999,
          3.818175,
          3.8787900000000004,
          3.9393899999999995,
          4.000005,
          4.060605000000001,
          4.121205,
          4.18182,
          4.242419999999999,
          4.303035000000001,
          4.363635,
          4.4242349999999995,
          4.48485,
          4.545450000000001,
          4.606064999999999,
          4.666665,
          4.72728,
          4.787880000000001,
          4.848479999999999,
          4.909095000000001,
          4.969695,
          5.03031,
          5.090909999999999,
          5.15151,
          5.212125,
          5.272725000000001,
          5.33334,
          5.393940000000001,
          5.45454,
          5.515155,
          5.575754999999999,
          5.636370000000001,
          5.69697,
          5.757569999999999,
          5.818185,
          5.878785000000001,
          5.939399999999999,
          6
         ],
         "y": [
          0.7809118639997905,
          -0.29541906400004336,
          -1.1009329199998774,
          -1.8175454800000352,
          -2.39621188000001,
          -2.8071130320001885,
          -3.083586751999974,
          -3.2524745440000515,
          -3.336107335999941,
          -3.370243063999851,
          -3.4187485520001246,
          -3.4252235120000023,
          -3.3921457280000595,
          -3.3277086559999134,
          -3.237598455999887,
          -3.1286143120000816,
          -3.004607608000015,
          -2.870207511999979,
          -2.7280381440000383,
          -2.5811124480001126,
          -2.4312959359999695,
          -2.2804364400001305,
          -2.129834800000026,
          -1.9805954720000045,
          -1.8337248560001171,
          -1.213463536000063,
          -1.1454238240000905,
          -1.08014083199987,
          -1.0168896800000766,
          -0.9562546240001666,
          -0.8977068960000452,
          -0.8417947120001372,
          -0.7879766560001826,
          -0.736849495999877,
          -0.687709840000025,
          -0.6411779840000236,
          -0.5965835839999727,
          -0.5545122560001801,
          -0.5143409840000004,
          -0.47658344000001307,
          -0.4406572719999531,
          -0.40709179199984646,
          -0.37526588799983074,
          -0.345591775999992,
          -0.31754177600009825,
          -0.29150865600013276,
          -0.26699656000005234,
          -0.24422689600010017,
          -0.22283273600010034,
          -0.20298952000007375,
          -0.1844520399999965,
          -0.1672624560001168,
          -0.15132230400013214,
          -0.13655855199999678,
          -0.12301023200006966,
          -0.11051019999990785,
          -0.0991478079999979,
          -0.08867526400013048,
          -0.0793215919998147,
          -0.0706933440001194,
          -0.06311773600009474,
          -0.056072936000191476,
          -0.05003875199986396,
          -0.044361975999891,
          -0.039624008000146205,
          -0.03504420800004482,
          -0.031339295999941896,
          -0.027710408000075404,
          -0.024830199999996694,
          -0.021919256000046516
         ]
        },
        {
         "mode": "markers",
         "name": "30",
         "type": "scatter",
         "x": [
          1.0303049997837048,
          1.0909049997709817,
          1.1515199997582544,
          1.212119999745533,
          1.2727199997328116,
          1.333334999720086,
          1.3939349997073647,
          1.4545499996946392,
          1.5151499996819178,
          1.5757649996691923,
          1.6363649996564709,
          1.6969649996437477,
          1.757579999631024,
          1.8181799996183008,
          1.8787949996055753,
          1.9393949995928539,
          1.9999949995801325,
          2.060609999567407,
          2.1212099995546856,
          2.18182499954196,
          2.2424249995292387,
          2.3030249995165155,
          2.36363999950379,
          2.424239999491067,
          2.484854999478343,
          2.54545499946562,
          2.6060549994528985,
          2.666669999440173,
          2.7272699994274516,
          2.787884999414726,
          2.8484849994020047,
          2.9090849993892816,
          2.969699999376558,
          3.0302999993638347,
          3.090914999351111,
          3.3333299993002194,
          3.393944999287492,
          3.4545449992747708,
          3.5151449992620494,
          3.575759999249324,
          3.6363599992366007,
          3.696974999223877,
          3.757574999211154,
          3.8181749991984324,
          3.878789999185707,
          3.9393899991729855,
          4.00000499916026,
          4.060604999147539,
          4.121204999134815,
          4.181819999122092,
          4.2424199991093685,
          4.303034999096645,
          4.363634999083922,
          4.4242349990712,
          4.484849999058475,
          4.545449999045753,
          4.606064999033026,
          4.666664999020305,
          4.727279999007579,
          4.787879998994858,
          4.8484799989821346,
          4.909094998969411,
          4.969694998956688,
          5.030309998943964,
          5.090909998931241,
          5.151509998918519,
          5.212124998905794,
          5.2727249988930724,
          5.333339998880347,
          5.3939399988676255,
          5.454539998854902,
          5.515154998842179,
          5.5757549988294555,
          5.636369998816732,
          5.696969998804009,
          5.757569998791287,
          5.81818499877856,
          5.8787849987658385,
          5.939399998753113,
          5.999999998740392
         ],
         "y": [
          44.26737289020525,
          35.58087751625271,
          28.198653975612615,
          21.94636015637093,
          16.692639361534475,
          12.322216821975417,
          8.73299528937332,
          5.8241454298383815,
          3.5003454935761056,
          1.6706034701355748,
          0.25308425184948646,
          -0.8236971469807486,
          -1.6295481302399821,
          -2.3464606101313166,
          -2.9253691961794175,
          -3.3364423203659044,
          -3.6130317513827777,
          -3.7819902270562125,
          -3.865658021426043,
          -3.8998080360636322,
          -3.9483338247973734,
          -3.9548114947265276,
          -3.9217198668643505,
          -3.8572558263729206,
          -3.767107913049358,
          -3.6580781565185134,
          -3.534019552678501,
          -3.3995632069495514,
          -3.257334337590237,
          -3.110347149591462,
          -2.960467935715087,
          -2.8095453013247607,
          -2.6588806308532185,
          -2.5095788425426235,
          -2.362646757596167,
          -1.7421258430563284,
          -1.6740576547720138,
          -1.6087473402424166,
          -1.5454697160876094,
          -1.4848092828331119,
          -1.4262370511762583,
          -1.3703014665591127,
          -1.316460886385812,
          -1.2653123284180765,
          -1.2161521062696465,
          -1.1696007755494975,
          -1.124987711701806,
          -1.0828987758216044,
          -1.0427106911613464,
          -1.0049373447052403,
          -0.968996140724812,
          -0.9354166127500321,
          -0.9035773888303993,
          -0.8738908574885045,
          -0.8458291178772015,
          -0.8197851023794556,
          -0.7952627474674046,
          -0.7724835538060688,
          -0.7510804398264099,
          -0.7312289189549119,
          -0.7126836805662151,
          -0.6954869023045376,
          -0.679540078961054,
          -0.6647701479694206,
          -0.6512161576661128,
          -0.6387108940966755,
          -0.627343746657516,
          -0.6168668196417002,
          -0.6075092329010658,
          -0.5988773737681186,
          -0.5912985951908922,
          -0.5842508467696916,
          -0.5782141373160812,
          -0.572534985446282,
          -0.5677950344909277,
          -0.5632133177325613,
          -0.5595068551360782,
          -0.5558764483578216,
          -0.5529950349202863,
          -0.5500828726187592
         ]
        },
        {
         "mode": "markers",
         "name": "db",
         "type": "scatter",
         "x": [
          0.06059999998727861,
          0.1212149999745531,
          0.1818149999618317,
          0.2424299999491053,
          0.3030299999363839,
          0.36362999992366163,
          0.4242449999109352,
          0.48484499989821384,
          0.5454599998854883,
          0.6060599998727669,
          0.6666599998600455,
          0.72727499984732,
          0.7878749998345986,
          0.8484899998218731,
          0.9090899998091517,
          0.9696899997964286,
          1.0303049997837048,
          1.0909049997709817,
          1.1515199997582544,
          1.212119999745533,
          1.2727199997328116,
          1.333334999720086,
          1.3939349997073647,
          1.4545499996946392,
          1.5151499996819178,
          1.5757649996691923,
          1.6363649996564709,
          1.6969649996437477,
          1.757579999631024,
          1.8181799996183008,
          1.8787949996055753,
          1.9393949995928539,
          1.9999949995801325,
          2.060609999567407,
          2.1212099995546856,
          2.18182499954196,
          2.2424249995292387,
          2.3030249995165155,
          2.36363999950379,
          2.424239999491067,
          2.484854999478343,
          2.54545499946562,
          2.6060549994528985,
          2.666669999440173,
          2.7272699994274516,
          2.787884999414726,
          2.8484849994020047,
          2.9090849993892816,
          2.969699999376558,
          3.0302999993638347,
          3.090914999351111,
          3.3333299993002194,
          3.393944999287492,
          3.4545449992747708,
          3.5151449992620494,
          3.575759999249324,
          3.6363599992366007,
          3.696974999223877,
          3.757574999211154,
          3.8181749991984324,
          3.878789999185707,
          3.9393899991729855,
          4.00000499916026,
          4.060604999147539,
          4.121204999134815,
          4.181819999122092,
          4.2424199991093685,
          4.303034999096645,
          4.363634999083922,
          4.4242349990712,
          4.484849999058475,
          4.545449999045753,
          4.606064999033026,
          4.666664999020305,
          4.727279999007579,
          4.787879998994858,
          4.8484799989821346,
          4.909094998969411,
          4.969694998956688,
          5.030309998943964,
          5.090909998931241,
          5.151509998918519,
          5.212124998905794,
          5.2727249988930724,
          5.333339998880347,
          5.3939399988676255,
          5.454539998854902,
          5.515154998842179,
          5.5757549988294555,
          5.636369998816732,
          5.696969998804009,
          5.757569998791287,
          5.81818499877856,
          5.8787849987658385,
          5.939399998753113,
          5.999999998740392
         ],
         "y": [
          3556.887983024061,
          1659.4153677001807,
          1031.4220206168861,
          719.084628622645,
          535.3685680346317,
          412.9438196290595,
          326.5728843458478,
          262.7565581933783,
          213.84412970925564,
          175.32835084905537,
          144.37165292567738,
          119.12965187819327,
          98.34662669649742,
          81.08251141657661,
          66.65139086224235,
          54.51743329261808,
          44.26737289020525,
          35.58087751625271,
          28.198653975612615,
          21.94636015637093,
          16.692639361534475,
          12.322216821975417,
          8.73299528937332,
          5.8241454298383815,
          3.5003454935761056,
          1.6706034701355748,
          0.25308425184948646,
          -0.8236971469807486,
          -1.6295481302399821,
          -2.3464606101313166,
          -2.9253691961794175,
          -3.3364423203659044,
          -3.6130317513827777,
          -3.7819902270562125,
          -3.865658021426043,
          -3.8998080360636322,
          -3.9483338247973734,
          -3.9548114947265276,
          -3.9217198668643505,
          -3.8572558263729206,
          -3.767107913049358,
          -3.6580781565185134,
          -3.534019552678501,
          -3.3995632069495514,
          -3.257334337590237,
          -3.110347149591462,
          -2.960467935715087,
          -2.8095453013247607,
          -2.6588806308532185,
          -2.5095788425426235,
          -2.362646757596167,
          -1.7421258430563284,
          -1.6740576547720138,
          -1.6087473402424166,
          -1.5454697160876094,
          -1.4848092828331119,
          -1.4262370511762583,
          -1.3703014665591127,
          -1.316460886385812,
          -1.2653123284180765,
          -1.2161521062696465,
          -1.1696007755494975,
          -1.124987711701806,
          -1.0828987758216044,
          -1.0427106911613464,
          -1.0049373447052403,
          -0.968996140724812,
          -0.9354166127500321,
          -0.9035773888303993,
          -0.8738908574885045,
          -0.8458291178772015,
          -0.8197851023794556,
          -0.7952627474674046,
          -0.7724835538060688,
          -0.7510804398264099,
          -0.7312289189549119,
          -0.7126836805662151,
          -0.6954869023045376,
          -0.679540078961054,
          -0.6647701479694206,
          -0.6512161576661128,
          -0.6387108940966755,
          -0.627343746657516,
          -0.6168668196417002,
          -0.6075092329010658,
          -0.5988773737681186,
          -0.5912985951908922,
          -0.5842508467696916,
          -0.5782141373160812,
          -0.572534985446282,
          -0.5677950344909277,
          -0.5632133177325613,
          -0.5595068551360782,
          -0.5558764483578216,
          -0.5529950349202863,
          -0.5500828726187592
         ]
        },
        {
         "mode": "markers",
         "name": "raw",
         "type": "scatter",
         "x": [
          0.06059999998727861,
          0.1212149999745531,
          0.1818149999618317,
          0.2424299999491053,
          0.3030299999363839,
          0.36362999992366163,
          0.4242449999109352,
          0.48484499989821384,
          0.5454599998854883,
          0.6060599998727669,
          0.6666599998600455,
          0.72727499984732,
          0.7878749998345986,
          0.8484899998218731,
          0.9090899998091517,
          0.9696899997964286,
          1.0303049997837048,
          1.0909049997709817,
          1.1515199997582544,
          1.212119999745533,
          1.2727199997328116,
          1.333334999720086,
          1.3939349997073647,
          1.4545499996946392,
          1.5151499996819178,
          1.5757649996691923,
          1.6363649996564709,
          1.6969649996437477,
          1.757579999631024,
          1.8181799996183008,
          1.8787949996055753,
          1.9393949995928539,
          1.9999949995801325,
          2.060609999567407,
          2.1212099995546856,
          2.18182499954196,
          2.2424249995292387,
          2.3030249995165155,
          2.36363999950379,
          2.424239999491067,
          2.484854999478343,
          2.54545499946562,
          2.6060549994528985,
          2.666669999440173,
          2.7272699994274516,
          2.787884999414726,
          2.8484849994020047,
          2.9090849993892816,
          2.969699999376558,
          3.0302999993638347,
          3.090914999351111,
          3.3333299993002194,
          3.393944999287492,
          3.4545449992747708,
          3.5151449992620494,
          3.575759999249324,
          3.6363599992366007,
          3.696974999223877,
          3.757574999211154,
          3.8181749991984324,
          3.878789999185707,
          3.9393899991729855,
          4.00000499916026,
          4.060604999147539,
          4.121204999134815,
          4.181819999122092,
          4.2424199991093685,
          4.303034999096645,
          4.363634999083922,
          4.4242349990712,
          4.484849999058475,
          4.545449999045753,
          4.606064999033026,
          4.666664999020305,
          4.727279999007579,
          4.787879998994858,
          4.8484799989821346,
          4.909094998969411,
          4.969694998956688,
          5.030309998943964,
          5.090909998931241,
          5.151509998918519,
          5.212124998905794,
          5.2727249988930724,
          5.333339998880347,
          5.3939399988676255,
          5.454539998854902,
          5.515154998842179,
          5.5757549988294555,
          5.636369998816732,
          5.696969998804009,
          5.757569998791287,
          5.81818499877856,
          5.8787849987658385,
          5.939399998753113,
          5.999999998740392
         ],
         "y": [
          3556.887983024061,
          1659.4153677001807,
          1031.4220206168861,
          719.084628622645,
          535.3685680346317,
          412.9438196290595,
          326.5728843458478,
          262.7565581933783,
          213.84412970925564,
          175.32835084905537,
          144.37165292567738,
          119.12965187819327,
          98.34662669649742,
          81.08251141657661,
          66.65139086224235,
          54.51743329261808,
          44.26737289020525,
          35.58087751625271,
          28.198653975612615,
          21.94636015637093,
          16.692639361534475,
          12.322216821975417,
          8.73299528937332,
          5.8241454298383815,
          3.5003454935761056,
          1.6706034701355748,
          0.25308425184948646,
          -0.8236971469807486,
          -1.6295481302399821,
          -2.3464606101313166,
          -2.9253691961794175,
          -3.3364423203659044,
          -3.6130317513827777,
          -3.7819902270562125,
          -3.865658021426043,
          -3.8998080360636322,
          -3.9483338247973734,
          -3.9548114947265276,
          -3.9217198668643505,
          -3.8572558263729206,
          -3.767107913049358,
          -3.6580781565185134,
          -3.534019552678501,
          -3.3995632069495514,
          -3.257334337590237,
          -3.110347149591462,
          -2.960467935715087,
          -2.8095453013247607,
          -2.6588806308532185,
          -2.5095788425426235,
          -2.362646757596167,
          -1.7421258430563284,
          -1.6740576547720138,
          -1.6087473402424166,
          -1.5454697160876094,
          -1.4848092828331119,
          -1.4262370511762583,
          -1.3703014665591127,
          -1.316460886385812,
          -1.2653123284180765,
          -1.2161521062696465,
          -1.1696007755494975,
          -1.124987711701806,
          -1.0828987758216044,
          -1.0427106911613464,
          -1.0049373447052403,
          -0.968996140724812,
          -0.9354166127500321,
          -0.9035773888303993,
          -0.8738908574885045,
          -0.8458291178772015,
          -0.8197851023794556,
          -0.7952627474674046,
          -0.7724835538060688,
          -0.7510804398264099,
          -0.7312289189549119,
          -0.7126836805662151,
          -0.6954869023045376,
          -0.679540078961054,
          -0.6647701479694206,
          -0.6512161576661128,
          -0.6387108940966755,
          -0.627343746657516,
          -0.6168668196417002,
          -0.6075092329010658,
          -0.5988773737681186,
          -0.5912985951908922,
          -0.5842508467696916,
          -0.5782141373160812,
          -0.572534985446282,
          -0.5677950344909277,
          -0.5632133177325613,
          -0.5595068551360782,
          -0.5558764483578216,
          -0.5529950349202863,
          -0.5500828726187592
         ]
        }
       ],
       "layout": {
        "template": {
         "data": {
          "bar": [
           {
            "error_x": {
             "color": "#2a3f5f"
            },
            "error_y": {
             "color": "#2a3f5f"
            },
            "marker": {
             "line": {
              "color": "#E5ECF6",
              "width": 0.5
             },
             "pattern": {
              "fillmode": "overlay",
              "size": 10,
              "solidity": 0.2
             }
            },
            "type": "bar"
           }
          ],
          "barpolar": [
           {
            "marker": {
             "line": {
              "color": "#E5ECF6",
              "width": 0.5
             },
             "pattern": {
              "fillmode": "overlay",
              "size": 10,
              "solidity": 0.2
             }
            },
            "type": "barpolar"
           }
          ],
          "carpet": [
           {
            "aaxis": {
             "endlinecolor": "#2a3f5f",
             "gridcolor": "white",
             "linecolor": "white",
             "minorgridcolor": "white",
             "startlinecolor": "#2a3f5f"
            },
            "baxis": {
             "endlinecolor": "#2a3f5f",
             "gridcolor": "white",
             "linecolor": "white",
             "minorgridcolor": "white",
             "startlinecolor": "#2a3f5f"
            },
            "type": "carpet"
           }
          ],
          "choropleth": [
           {
            "colorbar": {
             "outlinewidth": 0,
             "ticks": ""
            },
            "type": "choropleth"
           }
          ],
          "contour": [
           {
            "colorbar": {
             "outlinewidth": 0,
             "ticks": ""
            },
            "colorscale": [
             [
              0,
              "#0d0887"
             ],
             [
              0.1111111111111111,
              "#46039f"
             ],
             [
              0.2222222222222222,
              "#7201a8"
             ],
             [
              0.3333333333333333,
              "#9c179e"
             ],
             [
              0.4444444444444444,
              "#bd3786"
             ],
             [
              0.5555555555555556,
              "#d8576b"
             ],
             [
              0.6666666666666666,
              "#ed7953"
             ],
             [
              0.7777777777777778,
              "#fb9f3a"
             ],
             [
              0.8888888888888888,
              "#fdca26"
             ],
             [
              1,
              "#f0f921"
             ]
            ],
            "type": "contour"
           }
          ],
          "contourcarpet": [
           {
            "colorbar": {
             "outlinewidth": 0,
             "ticks": ""
            },
            "type": "contourcarpet"
           }
          ],
          "heatmap": [
           {
            "colorbar": {
             "outlinewidth": 0,
             "ticks": ""
            },
            "colorscale": [
             [
              0,
              "#0d0887"
             ],
             [
              0.1111111111111111,
              "#46039f"
             ],
             [
              0.2222222222222222,
              "#7201a8"
             ],
             [
              0.3333333333333333,
              "#9c179e"
             ],
             [
              0.4444444444444444,
              "#bd3786"
             ],
             [
              0.5555555555555556,
              "#d8576b"
             ],
             [
              0.6666666666666666,
              "#ed7953"
             ],
             [
              0.7777777777777778,
              "#fb9f3a"
             ],
             [
              0.8888888888888888,
              "#fdca26"
             ],
             [
              1,
              "#f0f921"
             ]
            ],
            "type": "heatmap"
           }
          ],
          "heatmapgl": [
           {
            "colorbar": {
             "outlinewidth": 0,
             "ticks": ""
            },
            "colorscale": [
             [
              0,
              "#0d0887"
             ],
             [
              0.1111111111111111,
              "#46039f"
             ],
             [
              0.2222222222222222,
              "#7201a8"
             ],
             [
              0.3333333333333333,
              "#9c179e"
             ],
             [
              0.4444444444444444,
              "#bd3786"
             ],
             [
              0.5555555555555556,
              "#d8576b"
             ],
             [
              0.6666666666666666,
              "#ed7953"
             ],
             [
              0.7777777777777778,
              "#fb9f3a"
             ],
             [
              0.8888888888888888,
              "#fdca26"
             ],
             [
              1,
              "#f0f921"
             ]
            ],
            "type": "heatmapgl"
           }
          ],
          "histogram": [
           {
            "marker": {
             "pattern": {
              "fillmode": "overlay",
              "size": 10,
              "solidity": 0.2
             }
            },
            "type": "histogram"
           }
          ],
          "histogram2d": [
           {
            "colorbar": {
             "outlinewidth": 0,
             "ticks": ""
            },
            "colorscale": [
             [
              0,
              "#0d0887"
             ],
             [
              0.1111111111111111,
              "#46039f"
             ],
             [
              0.2222222222222222,
              "#7201a8"
             ],
             [
              0.3333333333333333,
              "#9c179e"
             ],
             [
              0.4444444444444444,
              "#bd3786"
             ],
             [
              0.5555555555555556,
              "#d8576b"
             ],
             [
              0.6666666666666666,
              "#ed7953"
             ],
             [
              0.7777777777777778,
              "#fb9f3a"
             ],
             [
              0.8888888888888888,
              "#fdca26"
             ],
             [
              1,
              "#f0f921"
             ]
            ],
            "type": "histogram2d"
           }
          ],
          "histogram2dcontour": [
           {
            "colorbar": {
             "outlinewidth": 0,
             "ticks": ""
            },
            "colorscale": [
             [
              0,
              "#0d0887"
             ],
             [
              0.1111111111111111,
              "#46039f"
             ],
             [
              0.2222222222222222,
              "#7201a8"
             ],
             [
              0.3333333333333333,
              "#9c179e"
             ],
             [
              0.4444444444444444,
              "#bd3786"
             ],
             [
              0.5555555555555556,
              "#d8576b"
             ],
             [
              0.6666666666666666,
              "#ed7953"
             ],
             [
              0.7777777777777778,
              "#fb9f3a"
             ],
             [
              0.8888888888888888,
              "#fdca26"
             ],
             [
              1,
              "#f0f921"
             ]
            ],
            "type": "histogram2dcontour"
           }
          ],
          "mesh3d": [
           {
            "colorbar": {
             "outlinewidth": 0,
             "ticks": ""
            },
            "type": "mesh3d"
           }
          ],
          "parcoords": [
           {
            "line": {
             "colorbar": {
              "outlinewidth": 0,
              "ticks": ""
             }
            },
            "type": "parcoords"
           }
          ],
          "pie": [
           {
            "automargin": true,
            "type": "pie"
           }
          ],
          "scatter": [
           {
            "fillpattern": {
             "fillmode": "overlay",
             "size": 10,
             "solidity": 0.2
            },
            "type": "scatter"
           }
          ],
          "scatter3d": [
           {
            "line": {
             "colorbar": {
              "outlinewidth": 0,
              "ticks": ""
             }
            },
            "marker": {
             "colorbar": {
              "outlinewidth": 0,
              "ticks": ""
             }
            },
            "type": "scatter3d"
           }
          ],
          "scattercarpet": [
           {
            "marker": {
             "colorbar": {
              "outlinewidth": 0,
              "ticks": ""
             }
            },
            "type": "scattercarpet"
           }
          ],
          "scattergeo": [
           {
            "marker": {
             "colorbar": {
              "outlinewidth": 0,
              "ticks": ""
             }
            },
            "type": "scattergeo"
           }
          ],
          "scattergl": [
           {
            "marker": {
             "colorbar": {
              "outlinewidth": 0,
              "ticks": ""
             }
            },
            "type": "scattergl"
           }
          ],
          "scattermapbox": [
           {
            "marker": {
             "colorbar": {
              "outlinewidth": 0,
              "ticks": ""
             }
            },
            "type": "scattermapbox"
           }
          ],
          "scatterpolar": [
           {
            "marker": {
             "colorbar": {
              "outlinewidth": 0,
              "ticks": ""
             }
            },
            "type": "scatterpolar"
           }
          ],
          "scatterpolargl": [
           {
            "marker": {
             "colorbar": {
              "outlinewidth": 0,
              "ticks": ""
             }
            },
            "type": "scatterpolargl"
           }
          ],
          "scatterternary": [
           {
            "marker": {
             "colorbar": {
              "outlinewidth": 0,
              "ticks": ""
             }
            },
            "type": "scatterternary"
           }
          ],
          "surface": [
           {
            "colorbar": {
             "outlinewidth": 0,
             "ticks": ""
            },
            "colorscale": [
             [
              0,
              "#0d0887"
             ],
             [
              0.1111111111111111,
              "#46039f"
             ],
             [
              0.2222222222222222,
              "#7201a8"
             ],
             [
              0.3333333333333333,
              "#9c179e"
             ],
             [
              0.4444444444444444,
              "#bd3786"
             ],
             [
              0.5555555555555556,
              "#d8576b"
             ],
             [
              0.6666666666666666,
              "#ed7953"
             ],
             [
              0.7777777777777778,
              "#fb9f3a"
             ],
             [
              0.8888888888888888,
              "#fdca26"
             ],
             [
              1,
              "#f0f921"
             ]
            ],
            "type": "surface"
           }
          ],
          "table": [
           {
            "cells": {
             "fill": {
              "color": "#EBF0F8"
             },
             "line": {
              "color": "white"
             }
            },
            "header": {
             "fill": {
              "color": "#C8D4E3"
             },
             "line": {
              "color": "white"
             }
            },
            "type": "table"
           }
          ]
         },
         "layout": {
          "annotationdefaults": {
           "arrowcolor": "#2a3f5f",
           "arrowhead": 0,
           "arrowwidth": 1
          },
          "autotypenumbers": "strict",
          "coloraxis": {
           "colorbar": {
            "outlinewidth": 0,
            "ticks": ""
           }
          },
          "colorscale": {
           "diverging": [
            [
             0,
             "#8e0152"
            ],
            [
             0.1,
             "#c51b7d"
            ],
            [
             0.2,
             "#de77ae"
            ],
            [
             0.3,
             "#f1b6da"
            ],
            [
             0.4,
             "#fde0ef"
            ],
            [
             0.5,
             "#f7f7f7"
            ],
            [
             0.6,
             "#e6f5d0"
            ],
            [
             0.7,
             "#b8e186"
            ],
            [
             0.8,
             "#7fbc41"
            ],
            [
             0.9,
             "#4d9221"
            ],
            [
             1,
             "#276419"
            ]
           ],
           "sequential": [
            [
             0,
             "#0d0887"
            ],
            [
             0.1111111111111111,
             "#46039f"
            ],
            [
             0.2222222222222222,
             "#7201a8"
            ],
            [
             0.3333333333333333,
             "#9c179e"
            ],
            [
             0.4444444444444444,
             "#bd3786"
            ],
            [
             0.5555555555555556,
             "#d8576b"
            ],
            [
             0.6666666666666666,
             "#ed7953"
            ],
            [
             0.7777777777777778,
             "#fb9f3a"
            ],
            [
             0.8888888888888888,
             "#fdca26"
            ],
            [
             1,
             "#f0f921"
            ]
           ],
           "sequentialminus": [
            [
             0,
             "#0d0887"
            ],
            [
             0.1111111111111111,
             "#46039f"
            ],
            [
             0.2222222222222222,
             "#7201a8"
            ],
            [
             0.3333333333333333,
             "#9c179e"
            ],
            [
             0.4444444444444444,
             "#bd3786"
            ],
            [
             0.5555555555555556,
             "#d8576b"
            ],
            [
             0.6666666666666666,
             "#ed7953"
            ],
            [
             0.7777777777777778,
             "#fb9f3a"
            ],
            [
             0.8888888888888888,
             "#fdca26"
            ],
            [
             1,
             "#f0f921"
            ]
           ]
          },
          "colorway": [
           "#636efa",
           "#EF553B",
           "#00cc96",
           "#ab63fa",
           "#FFA15A",
           "#19d3f3",
           "#FF6692",
           "#B6E880",
           "#FF97FF",
           "#FECB52"
          ],
          "font": {
           "color": "#2a3f5f"
          },
          "geo": {
           "bgcolor": "white",
           "lakecolor": "white",
           "landcolor": "#E5ECF6",
           "showlakes": true,
           "showland": true,
           "subunitcolor": "white"
          },
          "hoverlabel": {
           "align": "left"
          },
          "hovermode": "closest",
          "mapbox": {
           "style": "light"
          },
          "paper_bgcolor": "white",
          "plot_bgcolor": "#E5ECF6",
          "polar": {
           "angularaxis": {
            "gridcolor": "white",
            "linecolor": "white",
            "ticks": ""
           },
           "bgcolor": "#E5ECF6",
           "radialaxis": {
            "gridcolor": "white",
            "linecolor": "white",
            "ticks": ""
           }
          },
          "scene": {
           "xaxis": {
            "backgroundcolor": "#E5ECF6",
            "gridcolor": "white",
            "gridwidth": 2,
            "linecolor": "white",
            "showbackground": true,
            "ticks": "",
            "zerolinecolor": "white"
           },
           "yaxis": {
            "backgroundcolor": "#E5ECF6",
            "gridcolor": "white",
            "gridwidth": 2,
            "linecolor": "white",
            "showbackground": true,
            "ticks": "",
            "zerolinecolor": "white"
           },
           "zaxis": {
            "backgroundcolor": "#E5ECF6",
            "gridcolor": "white",
            "gridwidth": 2,
            "linecolor": "white",
            "showbackground": true,
            "ticks": "",
            "zerolinecolor": "white"
           }
          },
          "shapedefaults": {
           "line": {
            "color": "#2a3f5f"
           }
          },
          "ternary": {
           "aaxis": {
            "gridcolor": "white",
            "linecolor": "white",
            "ticks": ""
           },
           "baxis": {
            "gridcolor": "white",
            "linecolor": "white",
            "ticks": ""
           },
           "bgcolor": "#E5ECF6",
           "caxis": {
            "gridcolor": "white",
            "linecolor": "white",
            "ticks": ""
           }
          },
          "title": {
           "x": 0.05
          },
          "xaxis": {
           "automargin": true,
           "gridcolor": "white",
           "linecolor": "white",
           "ticks": "",
           "title": {
            "standoff": 15
           },
           "zerolinecolor": "white",
           "zerolinewidth": 2
          },
          "yaxis": {
           "automargin": true,
           "gridcolor": "white",
           "linecolor": "white",
           "ticks": "",
           "title": {
            "standoff": 15
           },
           "zerolinecolor": "white",
           "zerolinewidth": 2
          }
         }
        },
        "xaxis": {
         "title": {
          "text": "atomic_distance"
         }
        },
        "yaxis": {
         "range": [
          -5,
          10
         ],
         "title": {
          "text": "energy"
         }
        }
       }
      }
     },
     "metadata": {},
     "output_type": "display_data"
    }
   ],
   "source": [
    "# plot two-body-potential with plotly\n",
    "import plotly.express as px\n",
    "import plotly.graph_objects as go\n",
    "\n",
    "fig = go.Figure()\n",
    "fig.add_trace(go.Scatter(x=energy_atomic_distance_df_18[\"atomic_distance\"], y=energy_atomic_distance_df_18[\"energy\"]-2*ZERO_POINT_ENERGY_SILICON_ESPRESSO, mode=\"markers\", name=\"18\"))\n",
    "fig.add_trace(go.Scatter(x=energy_atomic_distance_df_30[\"atomic_distance\"], y=energy_atomic_distance_df_30[\"energy\"]-2*ZERO_POINT_ENERGY_SILICON_ESPRESSO, mode=\"markers\", name=\"30\"))\n",
    "fig.add_trace(go.Scatter(x=energy_atomic_distance_df_db[\"atomic_distance\"], y=energy_atomic_distance_df_db[\"energy\"]-2*ZERO_POINT_ENERGY_SILICON_ESPRESSO, mode=\"markers\", name=\"db\"))\n",
    "fig.add_trace(go.Scatter(x=energy_atomic_distance_df_raw[\"atomic_distance\"], y=energy_atomic_distance_df_raw[\"energy\"]-2*ZERO_POINT_ENERGY_SILICON_ESPRESSO, mode=\"markers\", name=\"raw\"))\n",
    "fig.update_layout(xaxis_title=\"atomic_distance\", yaxis_title=\"energy\")\n",
    "# set xlim, ylim\n",
    "fig.update_yaxes(range=[-5, 10])\n",
    "fig.show()"
   ]
  },
  {
   "cell_type": "code",
   "execution_count": 20,
   "metadata": {},
   "outputs": [
    {
     "data": {
      "text/plain": [
       "-1261.944"
      ]
     },
     "execution_count": 20,
     "metadata": {},
     "output_type": "execute_result"
    }
   ],
   "source": [
    "ZERO_POINT_ENERGY_SILICON_ESPRESSO*2"
   ]
  },
  {
   "cell_type": "code",
   "execution_count": null,
   "metadata": {},
   "outputs": [],
   "source": []
  }
 ],
 "metadata": {
  "kernelspec": {
   "display_name": "research",
   "language": "python",
   "name": "python3"
  },
  "language_info": {
   "codemirror_mode": {
    "name": "ipython",
    "version": 3
   },
   "file_extension": ".py",
   "mimetype": "text/x-python",
   "name": "python",
   "nbconvert_exporter": "python",
   "pygments_lexer": "ipython3",
   "version": "3.10.6"
  },
  "orig_nbformat": 4
 },
 "nbformat": 4,
 "nbformat_minor": 2
}
