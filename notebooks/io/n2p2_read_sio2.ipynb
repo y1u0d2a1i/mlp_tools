{
 "cells": [
  {
   "cell_type": "code",
   "execution_count": 1,
   "metadata": {},
   "outputs": [],
   "source": [
    "from mlptools.io.read import read_from_n2p2_data"
   ]
  },
  {
   "cell_type": "code",
   "execution_count": 2,
   "metadata": {},
   "outputs": [
    {
     "name": "stdout",
     "output_type": "stream",
     "text": [
      "0 / 44854\n",
      "1000 / 44854\n",
      "2000 / 44854\n",
      "3000 / 44854\n",
      "4000 / 44854\n",
      "5000 / 44854\n",
      "6000 / 44854\n",
      "7000 / 44854\n",
      "8000 / 44854\n",
      "9000 / 44854\n",
      "10000 / 44854\n",
      "11000 / 44854\n",
      "12000 / 44854\n",
      "13000 / 44854\n",
      "14000 / 44854\n",
      "15000 / 44854\n",
      "16000 / 44854\n",
      "17000 / 44854\n",
      "18000 / 44854\n",
      "19000 / 44854\n",
      "20000 / 44854\n",
      "21000 / 44854\n",
      "22000 / 44854\n",
      "23000 / 44854\n",
      "24000 / 44854\n",
      "25000 / 44854\n",
      "26000 / 44854\n",
      "27000 / 44854\n",
      "28000 / 44854\n",
      "29000 / 44854\n",
      "30000 / 44854\n",
      "31000 / 44854\n",
      "32000 / 44854\n",
      "33000 / 44854\n",
      "34000 / 44854\n",
      "35000 / 44854\n",
      "36000 / 44854\n",
      "37000 / 44854\n",
      "38000 / 44854\n",
      "39000 / 44854\n",
      "40000 / 44854\n",
      "41000 / 44854\n",
      "42000 / 44854\n",
      "43000 / 44854\n",
      "44000 / 44854\n"
     ]
    }
   ],
   "source": [
    "path2data = \"/Users/y1u0d2/desktop/Lab/result/n2p2/SiO2/03/sf\"\n",
    "\n",
    "mlpatoms_list = read_from_n2p2_data(path2target=path2data)"
   ]
  },
  {
   "cell_type": "code",
   "execution_count": null,
   "metadata": {},
   "outputs": [],
   "source": []
  }
 ],
 "metadata": {
  "kernelspec": {
   "display_name": ".venv",
   "language": "python",
   "name": "python3"
  },
  "language_info": {
   "codemirror_mode": {
    "name": "ipython",
    "version": 3
   },
   "file_extension": ".py",
   "mimetype": "text/x-python",
   "name": "python",
   "nbconvert_exporter": "python",
   "pygments_lexer": "ipython3",
   "version": "3.10.6"
  }
 },
 "nbformat": 4,
 "nbformat_minor": 2
}
