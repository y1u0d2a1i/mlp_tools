{
 "cells": [
  {
   "cell_type": "code",
   "execution_count": 2,
   "metadata": {},
   "outputs": [],
   "source": [
    "import pickle\n",
    "import glob\n",
    "import os\n",
    "\n",
    "import numpy as np\n",
    "import pandas as pd\n",
    "import matplotlib.pyplot as plt\n",
    "import ovito"
   ]
  },
  {
   "cell_type": "code",
   "execution_count": 3,
   "metadata": {},
   "outputs": [
    {
     "name": "stdout",
     "output_type": "stream",
     "text": [
      "160\n"
     ]
    }
   ],
   "source": [
    "path2atoms = \"/Users/y1u0d2/desktop/Lab/result/lammps/Si/sputtering/ml/depth15/0deg_1000eV/surface_atoms\"\n",
    "atoms_files = glob.glob(os.path.join(path2atoms, \"*.pkl\"))\n",
    "print(len(atoms_files))"
   ]
  },
  {
   "cell_type": "code",
   "execution_count": 5,
   "metadata": {},
   "outputs": [
    {
     "name": "stderr",
     "output_type": "stream",
     "text": [
      "/Users/y1u0d2/opt/anaconda3/envs/mlp/lib/python3.11/site-packages/ovito/_extensions/averaging.py:2: UserWarning: Did you accidentally install the OVITO package from the PyPI repository in an Anaconda/Miniconda Python interpreter using the 'pip' command? This will likely lead to conflicts with existing libraries in the Anaconda environment, and import of the OVITO module may fail with an error related to the Qt framework. To fix this, please uninstall the ovito pip package by running 'pip uninstall -y ovito PySide6' and then install the OVITO Anaconda package provided by OVITO GmbH. Visit https://docs.ovito.org/python/introduction/installation.html for further instructions. If you would rather like to ignore this warning message, add the following code to the top of your Python script:\n",
      "\n",
      "  import warnings\n",
      "  warnings.filterwarnings('ignore', message='.*OVITO.*PyPI')\n",
      "\n",
      "  import ovito._extensions.pyscript\n"
     ]
    }
   ],
   "source": [
    "for atom_f in atoms_files:\n",
    "    with open(atom_f, mode=\"rb\") as f:\n",
    "        atoms = pickle.load(f)\n",
    "    break"
   ]
  },
  {
   "cell_type": "code",
   "execution_count": 10,
   "metadata": {},
   "outputs": [
    {
     "name": "stdout",
     "output_type": "stream",
     "text": [
      "Number of atoms in the cell: 95\n"
     ]
    }
   ],
   "source": [
    "print(\"Number of atoms in the cell:\" ,len(atoms))"
   ]
  },
  {
   "cell_type": "code",
   "execution_count": 12,
   "metadata": {},
   "outputs": [
    {
     "name": "stdout",
     "output_type": "stream",
     "text": [
      "[10.  0.  0.]\n",
      "[ 0. 10.  0.]\n",
      "[ 0.     0.    29.325]\n"
     ]
    }
   ],
   "source": [
    "for vec in atoms.get_cell():\n",
    "    print(vec)"
   ]
  },
  {
   "cell_type": "code",
   "execution_count": 18,
   "metadata": {},
   "outputs": [
    {
     "name": "stdout",
     "output_type": "stream",
     "text": [
      "Si  0.9578153475000001 0.012009721049999998 0.3307999488491047\n",
      "Si  0.22412718675 0.6092826525 0.2822725063938616\n",
      "Si  0.3149321265 0.11840508675 0.10733947826086908\n",
      "Si  0.9305825400000001 0.259546941 0.062269552429667474\n",
      "Si  0.8214232499999998 0.38572154324999997 0.010223488491048335\n",
      "Si  0.5170446000000001 0.6204535199999999 0.006440079283887185\n",
      "Si  0.9309897899999999 0.792011655 0.053190388746802444\n",
      "Si  0.21650143049999998 0.8885991374999999 0.009963792838874334\n",
      "Si  0.5838498899999999 0.09387479025 0.017245455242966678\n",
      "Si  0.29053744424999994 0.36184569749999995 0.01617612020460314\n",
      "Si  0.7671001725000001 0.8989840124999999 0.010513736572889386\n",
      "Si  0.5547233699999999 0.37178219025000003 0.10168218670076688\n",
      "Si  0.3798982755 0.7600303125000001 0.04799138363171321\n",
      "Si  0.11168749799999998 0.04808685825 0.08761279283887473\n",
      "Si  0.24513599249999998 0.615802725 0.09766454219948817\n",
      "Si  0.8318569949999999 0.08393992649999998 0.10249691815856705\n",
      "Si  0.11191759424999999 0.4789952324999999 0.05709600767263419\n",
      "Si  0.48444831 0.9008003474999999 0.098520010230179\n",
      "Si  0.8046160424999999 0.6555747599999999 0.10133592583120189\n",
      "Si  0.681809805 0.5157454724999999 0.053312598465472566\n",
      "Si  0.43137141749999997 0.23210114175 0.053607938618925675\n",
      "Si  0.638950815 0.7898165774999999 0.1452906879795396\n",
      "Si  0.07447543649999998 0.7235366399999998 0.13932787212276168\n",
      "Si  0.9426045599999999 0.52491267 0.14644658823529366\n",
      "Si  0.6876294074999999 0.23528990925 0.1452957800511502\n",
      "Si  0.4021834027499999 0.49715450999999994 0.14702199232736568\n",
      "Si  0.10804912649999998 0.21071155725 0.15103454475703326\n",
      "Si  0.7741455975 0.9229018050000001 0.19415929923273612\n",
      "Si  0.416950695 0.22284882899999997 0.23322058056265946\n",
      "Si  0.5278407975 0.6453731475 0.19144013299232693\n",
      "Si  0.9369967275000001 0.7947280125000001 0.23889824040920699\n",
      "Si  0.375046299 0.47135114999999994 0.3257842583120206\n",
      "Si  0.81798606 0.14417668125000002 0.280912923273657\n",
      "Si  0.816674715 0.386907048 0.19187295907928348\n",
      "Si  0.7876948050000001 0.6452713349999999 0.28780758823529373\n",
      "Si  0.11590172099999999 0.18303973424999997 0.3177184168797947\n",
      "Si  0.36574511625000006 0.7518975299999999 0.23915793606138094\n",
      "Si  0.22063175999999998 0.858849525 0.18695910997442416\n",
      "Si  0.5343567975 0.367938972 0.2805768465473142\n",
      "Si  0.078035616 0.9884812724999998 0.23590919437340108\n",
      "Si  0.665927055 0.5075149499999999 0.23549164450127885\n",
      "Si  0.630838395 0.7704518399999999 0.3315230230179023\n",
      "Si  0.665503515 0.23251572224999997 0.33523005115089455\n",
      "Si  0.5630923574999999 0.08763124049999998 0.190060181585678\n",
      "Si  0.06793459425 0.718885845 0.3295574833759592\n",
      "Si  0.9433824074999999 0.5181767549999999 0.3377353503836311\n",
      "Si  0.9552455999999998 0.26775587924999994 0.236448953964194\n",
      "Si  0.26013541725 0.35199717075000003 0.18855802046035794\n",
      "Si  0.49629521249999997 0.9033619499999999 0.28831679539641947\n",
      "Si  0.0943867035 0.4691234925 0.23435611253196864\n",
      "Si  0.273253347 0.0713754495 0.2725110051150897\n",
      "Si  0.293237919 0.039821027174999996 0.4604288158567771\n",
      "Si  0.143832555 0.16065279450000003 0.502204171355498\n",
      "Si  0.79938288 0.102550437 0.4692839283887467\n",
      "Si  0.3719112885 0.459060345 0.5112680588235293\n",
      "Si  0.6482768399999999 0.240192792 0.5124443273657286\n",
      "Si  0.790301205 0.6190118550000001 0.47210493606138076\n",
      "Si  0.6307773074999999 0.7567967475 0.5065477084398974\n",
      "Si  0.08301424725 0.7244122275000001 0.508253552429668\n",
      "Si  0.50855751 0.34791082425 0.46108569309462955\n",
      "Si  0.23228033174999996 0.5938804575 0.4644057237851661\n",
      "Si  0.48924164249999996 0.8893810574999998 0.46306141687979485\n",
      "Si  0.6428889225000001 0.49461327 0.4211842199488491\n",
      "Si  0.11004628049999998 0.45074837249999994 0.41885714322250667\n",
      "Si  0.39206690550000006 0.2117642985 0.4108778670076723\n",
      "Si  0.35077623524999996 0.7462734074999999 0.41766050639386193\n",
      "Si  0.935021565 0.24483503475 0.42583328132992276\n",
      "Si  0.911759445 0.7659761624999999 0.4266887493606137\n",
      "Si  0.4959897749999999 0.6196349475 0.5522337749360613\n",
      "Si  0.9010935674999999 0.4896814725 0.5213860051150898\n",
      "Si  0.23773340925 0.33294112875 0.3666735933503832\n",
      "Si  0.7956850499999999 0.370799496 0.37997917647058815\n",
      "Si  0.77370984 0.9047425274999998 0.37845664705882365\n",
      "Si  0.5051610449999999 0.6164502525 0.37253965984654697\n",
      "Si  0.1967823855 0.8574689474999998 0.3733136547314574\n",
      "Si  0.776519865 0.35770600124999996 0.5676525677749357\n",
      "Si  0.5110539525000001 0.10346552774999998 0.5566944296675197\n",
      "Si  0.20807257724999997 0.8713235925 0.5519180664961638\n",
      "Si  0.2864751254999999 0.27989111475 0.5572545575447573\n",
      "Si  0.7484562674999999 0.892195155 0.5577433964194367\n",
      "Si  0.07413008850000001 0.9958565699999999 0.41782854475703285\n",
      "Si  0.026138974725 0.018817474949999996 0.5516583708439902\n",
      "Si  0.552695265 0.062448936749999996 0.37294193350383603\n",
      "Si  0.7676336699999999 0.7270349175 0.623975971867007\n",
      "Si  0.21938476050000003 0.615248865 0.6451742659846549\n",
      "Si  0.4447414349999999 0.5841471825 0.6750545421994886\n",
      "Si  0.6071771699999999 0.7877436749999999 0.6796883273657288\n",
      "Si  0.0447331545 0.9754451999999999 0.5923898516624041\n",
      "Si  0.628622955 0.5319377325 0.6142806675191818\n",
      "Si  0.27444944024999995 0.9848323124999999 0.6930906598465474\n",
      "Si  0.13238068499999997 0.7851209849999999 0.7019559565217394\n",
      "Si  0.35875426275 0.759114 0.5979198414322249\n",
      "Si  0.10449016875 0.416461995 0.6003283913043477\n",
      "Si  0.45926396999999997 0.9268317675 0.6405812173913044\n",
      "Si  0.886053825 0.170504172 0.6069379002557546\n"
     ]
    }
   ],
   "source": [
    "for coord in atoms.get_scaled_positions():\n",
    "    print(\"Si \",\" \".join([str(i) for i in coord]))"
   ]
  },
  {
   "cell_type": "code",
   "execution_count": null,
   "metadata": {},
   "outputs": [],
   "source": [
    "# Create QE file from given template and atoms\n",
    "def create_qe_input(template, atoms):\n",
    "    pass"
   ]
  },
  {
   "cell_type": "code",
   "execution_count": 71,
   "metadata": {},
   "outputs": [],
   "source": [
    "path2template = \"/Users/y1u0d2/desktop/Lab/result/qe/Si/slab/extrapolate_atoms/template\"\n",
    "with open(os.path.join(path2template, \"scf.in\"), mode=\"r\") as f:\n",
    "    lines = [s.strip() for s in f.readlines()]"
   ]
  },
  {
   "cell_type": "code",
   "execution_count": 72,
   "metadata": {},
   "outputs": [],
   "source": [
    "n_atoms = len(atoms)\n",
    "cell = atoms.get_cell()\n",
    "cell = np.array([vec for vec in cell])\n",
    "scaled_coord = atoms.get_scaled_positions()"
   ]
  },
  {
   "cell_type": "code",
   "execution_count": 73,
   "metadata": {},
   "outputs": [],
   "source": []
  },
  {
   "cell_type": "code",
   "execution_count": 74,
   "metadata": {},
   "outputs": [
    {
     "name": "stdout",
     "output_type": "stream",
     "text": [
      "29\n",
      "33\n"
     ]
    }
   ],
   "source": [
    "for i, l in enumerate(lines):\n",
    "    if \"nat\" in l:\n",
    "        lines[i] = f\"nat = {n_atoms}\"\n",
    "    \n",
    "    if \"CELL_PARAMETERS\" in l:\n",
    "        print(i)\n",
    "        # insert cell block to i+1\n",
    "        for j, vec in enumerate(cell_block):\n",
    "            lines.insert(i+j+1, vec)\n",
    "    \n",
    "    if \"ATOMIC_POSITIONS\" in l:\n",
    "        print(i)\n",
    "        # insert coord block to i+1\n",
    "        for j, coord in enumerate(coord_block):\n",
    "            lines.insert(i+j+1, coord)\n",
    "\n",
    "# export lines\n",
    "with open(os.path.join(path2template, \"scf_modified.in\"), mode=\"w\") as f:\n",
    "    for l in lines:\n",
    "        f.write(l+\"\\n\")"
   ]
  },
  {
   "cell_type": "code",
   "execution_count": 75,
   "metadata": {},
   "outputs": [
    {
     "data": {
      "text/plain": [
       "['#************************************************************************************',\n",
       " '#*                   Generated by cif2cell 2.0.0 2022-06-14 9:46                    *',\n",
       " '#*  T. Bjorkman, Comp. Phys. Commun. 182, 1183-1186 (2011). Please cite generously. *',\n",
       " '#*                                                                                  *',\n",
       " '#*                              Data obtained from COD                              *',\n",
       " '#*                                     Si   ()                                      *',\n",
       " '#*             Failed to get author information, No journal information             *',\n",
       " '#************************************************************************************',\n",
       " '&CONTROL',\n",
       " \"calculation = 'scf'\",\n",
       " \"restart_mode = 'from_scratch'\",\n",
       " \"prefix = 'qa'\",\n",
       " \"outdir = '/home/y1u0d2/result/qe/Si/wip'\",\n",
       " \"pseudo_dir = '/home/y1u0d2/result/qe/Si/pseudo'\",\n",
       " 'tprnfor = true',\n",
       " '/',\n",
       " '&SYSTEM',\n",
       " 'ibrav = 0',\n",
       " 'nat = 95',\n",
       " 'ntyp = 1',\n",
       " \"occupations = 'fixed'\",\n",
       " 'ecutwfc = 44.0',\n",
       " 'ecutrho = 175',\n",
       " '/',\n",
       " '&ELECTRONS',\n",
       " 'conv_thr = 1.0d-8',\n",
       " '/',\n",
       " 'ATOMIC_SPECIES',\n",
       " 'Si   28.08500  Si.pbe-n-kjpaw_psl.1.0.0.UPF',\n",
       " 'CELL_PARAMETERS {angstrom}',\n",
       " '10.0 0.0 0.0',\n",
       " '0.0 10.0 0.0',\n",
       " '0.0 0.0 29.32499999999999',\n",
       " 'ATOMIC_POSITIONS {crystal}',\n",
       " 'Si 0.9578153475000001 0.012009721049999998 0.3307999488491047',\n",
       " 'Si 0.22412718675 0.6092826525 0.2822725063938616',\n",
       " 'Si 0.3149321265 0.11840508675 0.10733947826086908',\n",
       " 'Si 0.9305825400000001 0.259546941 0.062269552429667474',\n",
       " 'Si 0.8214232499999998 0.38572154324999997 0.010223488491048335',\n",
       " 'Si 0.5170446000000001 0.6204535199999999 0.006440079283887185',\n",
       " 'Si 0.9309897899999999 0.792011655 0.053190388746802444',\n",
       " 'Si 0.21650143049999998 0.8885991374999999 0.009963792838874334',\n",
       " 'Si 0.5838498899999999 0.09387479025 0.017245455242966678',\n",
       " 'Si 0.29053744424999994 0.36184569749999995 0.01617612020460314',\n",
       " 'Si 0.7671001725000001 0.8989840124999999 0.010513736572889386',\n",
       " 'Si 0.5547233699999999 0.37178219025000003 0.10168218670076688',\n",
       " 'Si 0.3798982755 0.7600303125000001 0.04799138363171321',\n",
       " 'Si 0.11168749799999998 0.04808685825 0.08761279283887473',\n",
       " 'Si 0.24513599249999998 0.615802725 0.09766454219948817',\n",
       " 'Si 0.8318569949999999 0.08393992649999998 0.10249691815856705',\n",
       " 'Si 0.11191759424999999 0.4789952324999999 0.05709600767263419',\n",
       " 'Si 0.48444831 0.9008003474999999 0.098520010230179',\n",
       " 'Si 0.8046160424999999 0.6555747599999999 0.10133592583120189',\n",
       " 'Si 0.681809805 0.5157454724999999 0.053312598465472566',\n",
       " 'Si 0.43137141749999997 0.23210114175 0.053607938618925675',\n",
       " 'Si 0.638950815 0.7898165774999999 0.1452906879795396',\n",
       " 'Si 0.07447543649999998 0.7235366399999998 0.13932787212276168',\n",
       " 'Si 0.9426045599999999 0.52491267 0.14644658823529366',\n",
       " 'Si 0.6876294074999999 0.23528990925 0.1452957800511502',\n",
       " 'Si 0.4021834027499999 0.49715450999999994 0.14702199232736568',\n",
       " 'Si 0.10804912649999998 0.21071155725 0.15103454475703326',\n",
       " 'Si 0.7741455975 0.9229018050000001 0.19415929923273612',\n",
       " 'Si 0.416950695 0.22284882899999997 0.23322058056265946',\n",
       " 'Si 0.5278407975 0.6453731475 0.19144013299232693',\n",
       " 'Si 0.9369967275000001 0.7947280125000001 0.23889824040920699',\n",
       " 'Si 0.375046299 0.47135114999999994 0.3257842583120206',\n",
       " 'Si 0.81798606 0.14417668125000002 0.280912923273657',\n",
       " 'Si 0.816674715 0.386907048 0.19187295907928348',\n",
       " 'Si 0.7876948050000001 0.6452713349999999 0.28780758823529373',\n",
       " 'Si 0.11590172099999999 0.18303973424999997 0.3177184168797947',\n",
       " 'Si 0.36574511625000006 0.7518975299999999 0.23915793606138094',\n",
       " 'Si 0.22063175999999998 0.858849525 0.18695910997442416',\n",
       " 'Si 0.5343567975 0.367938972 0.2805768465473142',\n",
       " 'Si 0.078035616 0.9884812724999998 0.23590919437340108',\n",
       " 'Si 0.665927055 0.5075149499999999 0.23549164450127885',\n",
       " 'Si 0.630838395 0.7704518399999999 0.3315230230179023',\n",
       " 'Si 0.665503515 0.23251572224999997 0.33523005115089455',\n",
       " 'Si 0.5630923574999999 0.08763124049999998 0.190060181585678',\n",
       " 'Si 0.06793459425 0.718885845 0.3295574833759592',\n",
       " 'Si 0.9433824074999999 0.5181767549999999 0.3377353503836311',\n",
       " 'Si 0.9552455999999998 0.26775587924999994 0.236448953964194',\n",
       " 'Si 0.26013541725 0.35199717075000003 0.18855802046035794',\n",
       " 'Si 0.49629521249999997 0.9033619499999999 0.28831679539641947',\n",
       " 'Si 0.0943867035 0.4691234925 0.23435611253196864',\n",
       " 'Si 0.273253347 0.0713754495 0.2725110051150897',\n",
       " 'Si 0.293237919 0.039821027174999996 0.4604288158567771',\n",
       " 'Si 0.143832555 0.16065279450000003 0.502204171355498',\n",
       " 'Si 0.79938288 0.102550437 0.4692839283887467',\n",
       " 'Si 0.3719112885 0.459060345 0.5112680588235293',\n",
       " 'Si 0.6482768399999999 0.240192792 0.5124443273657286',\n",
       " 'Si 0.790301205 0.6190118550000001 0.47210493606138076',\n",
       " 'Si 0.6307773074999999 0.7567967475 0.5065477084398974',\n",
       " 'Si 0.08301424725 0.7244122275000001 0.508253552429668',\n",
       " 'Si 0.50855751 0.34791082425 0.46108569309462955',\n",
       " 'Si 0.23228033174999996 0.5938804575 0.4644057237851661',\n",
       " 'Si 0.48924164249999996 0.8893810574999998 0.46306141687979485',\n",
       " 'Si 0.6428889225000001 0.49461327 0.4211842199488491',\n",
       " 'Si 0.11004628049999998 0.45074837249999994 0.41885714322250667',\n",
       " 'Si 0.39206690550000006 0.2117642985 0.4108778670076723',\n",
       " 'Si 0.35077623524999996 0.7462734074999999 0.41766050639386193',\n",
       " 'Si 0.935021565 0.24483503475 0.42583328132992276',\n",
       " 'Si 0.911759445 0.7659761624999999 0.4266887493606137',\n",
       " 'Si 0.4959897749999999 0.6196349475 0.5522337749360613',\n",
       " 'Si 0.9010935674999999 0.4896814725 0.5213860051150898',\n",
       " 'Si 0.23773340925 0.33294112875 0.3666735933503832',\n",
       " 'Si 0.7956850499999999 0.370799496 0.37997917647058815',\n",
       " 'Si 0.77370984 0.9047425274999998 0.37845664705882365',\n",
       " 'Si 0.5051610449999999 0.6164502525 0.37253965984654697',\n",
       " 'Si 0.1967823855 0.8574689474999998 0.3733136547314574',\n",
       " 'Si 0.776519865 0.35770600124999996 0.5676525677749357',\n",
       " 'Si 0.5110539525000001 0.10346552774999998 0.5566944296675197',\n",
       " 'Si 0.20807257724999997 0.8713235925 0.5519180664961638',\n",
       " 'Si 0.2864751254999999 0.27989111475 0.5572545575447573',\n",
       " 'Si 0.7484562674999999 0.892195155 0.5577433964194367',\n",
       " 'Si 0.07413008850000001 0.9958565699999999 0.41782854475703285',\n",
       " 'Si 0.026138974725 0.018817474949999996 0.5516583708439902',\n",
       " 'Si 0.552695265 0.062448936749999996 0.37294193350383603',\n",
       " 'Si 0.7676336699999999 0.7270349175 0.623975971867007',\n",
       " 'Si 0.21938476050000003 0.615248865 0.6451742659846549',\n",
       " 'Si 0.4447414349999999 0.5841471825 0.6750545421994886',\n",
       " 'Si 0.6071771699999999 0.7877436749999999 0.6796883273657288',\n",
       " 'Si 0.0447331545 0.9754451999999999 0.5923898516624041',\n",
       " 'Si 0.628622955 0.5319377325 0.6142806675191818',\n",
       " 'Si 0.27444944024999995 0.9848323124999999 0.6930906598465474',\n",
       " 'Si 0.13238068499999997 0.7851209849999999 0.7019559565217394',\n",
       " 'Si 0.35875426275 0.759114 0.5979198414322249',\n",
       " 'Si 0.10449016875 0.416461995 0.6003283913043477',\n",
       " 'Si 0.45926396999999997 0.9268317675 0.6405812173913044',\n",
       " 'Si 0.886053825 0.170504172 0.6069379002557546',\n",
       " 'K_POINTS automatic',\n",
       " '4 4 4 1 1 1']"
      ]
     },
     "execution_count": 75,
     "metadata": {},
     "output_type": "execute_result"
    }
   ],
   "source": [
    "lines"
   ]
  },
  {
   "cell_type": "code",
   "execution_count": 4,
   "metadata": {},
   "outputs": [],
   "source": [
    "# Create QE file from given template and atoms\n",
    "def create_qe_input(atoms, path2template, path2save):\n",
    "    with open(os.path.join(path2template, \"scf.in\"), mode=\"r\") as f:\n",
    "        lines = [s.strip() for s in f.readlines()]\n",
    "    n_atoms = len(atoms)\n",
    "    cell = atoms.get_cell()\n",
    "    cell = np.array([vec for vec in cell])\n",
    "    scaled_coord = atoms.get_scaled_positions()\n",
    "\n",
    "    cell_block = []\n",
    "    for i, vec in enumerate(cell):\n",
    "        cell_block.append(\" \".join([str(i) for i in vec]))\n",
    "\n",
    "    coord_block = []\n",
    "    for j, coord in enumerate(scaled_coord):\n",
    "        coord_block.append(\" \".join([\"Si\"] + [str(i) for i in coord]))\n",
    "\n",
    "    # modify input\n",
    "    for i, l in enumerate(lines):\n",
    "        if \"nat\" in l:\n",
    "            lines[i] = f\"nat = {n_atoms}\"\n",
    "        \n",
    "        if \"CELL_PARAMETERS\" in l:\n",
    "            for j, vec in enumerate(cell_block):\n",
    "                lines.insert(i+j+1, vec)\n",
    "        \n",
    "        if \"ATOMIC_POSITIONS\" in l:\n",
    "            for j, coord in enumerate(coord_block):\n",
    "                lines.insert(i+j+1, coord)\n",
    "\n",
    "    # export lines\n",
    "    with open(os.path.join(path2save, \"scf.in\"), mode=\"w\") as f:\n",
    "        for l in lines:\n",
    "            f.write(l+\"\\n\")"
   ]
  },
  {
   "cell_type": "code",
   "execution_count": 6,
   "metadata": {},
   "outputs": [],
   "source": [
    "import subprocess\n",
    "import os\n",
    "from glob import glob\n",
    "\n",
    "path2root = '/Users/y1u0d2/desktop/Lab/result/qe/Si/amorphous/ase_atoms/20230611/qe_issp'\n",
    "path2template = '/Users/y1u0d2/desktop/Lab/result/qe/Si/amorphous/ase_atoms/20230611/template'\n",
    "path2atoms = '/Users/y1u0d2/desktop/Lab/result/qe/Si/amorphous/ase_atoms/20230611/divided'\n",
    "\n",
    "atoms_files = glob(os.path.join(path2atoms, \"*.pkl\"))\n",
    "for i, atom_f in enumerate(atoms_files):\n",
    "    # create directory\n",
    "    path2save = os.path.join(path2root, f\"ex{i}\")\n",
    "    if os.path.exists(path2save):\n",
    "        raise Exception(\"Directory already exists\")\n",
    "    else:\n",
    "        os.mkdir(path2save)\n",
    "\n",
    "    # load atoms\n",
    "    with open(atom_f, mode=\"rb\") as f:\n",
    "        atoms = pickle.load(f)\n",
    "    \n",
    "    # create qe input\n",
    "    create_qe_input(atoms, path2template, path2save)"
   ]
  },
  {
   "cell_type": "code",
   "execution_count": 88,
   "metadata": {},
   "outputs": [
    {
     "name": "stdout",
     "output_type": "stream",
     "text": [
      "['/Users/y1u0d2/desktop/Lab/result/lammps/Si/sputtering/ml/depth15/0deg_1000eV/surface_atoms/divided/0/ex12', '/Users/y1u0d2/desktop/Lab/result/lammps/Si/sputtering/ml/depth15/0deg_1000eV/surface_atoms/divided/0/ex15', '/Users/y1u0d2/desktop/Lab/result/lammps/Si/sputtering/ml/depth15/0deg_1000eV/surface_atoms/divided/0/ex23', '/Users/y1u0d2/desktop/Lab/result/lammps/Si/sputtering/ml/depth15/0deg_1000eV/surface_atoms/divided/0/ex24', '/Users/y1u0d2/desktop/Lab/result/lammps/Si/sputtering/ml/depth15/0deg_1000eV/surface_atoms/divided/0/ex25']\n"
     ]
    }
   ],
   "source": [
    "path2target = \"/Users/y1u0d2/desktop/Lab/result/lammps/Si/sputtering/ml/depth15/0deg_1000eV/surface_atoms/divided/0\"\n",
    "atoms_dirs = glob(os.path.join(path2target, \"ex*\"))\n",
    "print(atoms_dirs[:5])"
   ]
  },
  {
   "cell_type": "code",
   "execution_count": null,
   "metadata": {},
   "outputs": [],
   "source": [
    "for i, atom_dir in enumerate(atoms_dirs):\n",
    "    # run qe\n",
    "    try:\n",
    "        process = subprocess.Popen(\n",
    "            f'mpiexec.hydra -n {n_parallel} -machine $TMPDIR/machines pw.x -in {atom_dir}/scf.in > {atom_dir}/scf.out',\n",
    "            shell=True)\n",
    "        process.wait()\n",
    "    except:\n",
    "        continue"
   ]
  },
  {
   "cell_type": "code",
   "execution_count": 79,
   "metadata": {},
   "outputs": [
    {
     "name": "stdout",
     "output_type": "stream",
     "text": [
      "160\n"
     ]
    }
   ],
   "source": [
    "path2atoms = \"/Users/y1u0d2/desktop/Lab/result/lammps/Si/sputtering/ml/depth15/0deg_1000eV/surface_atoms\"\n",
    "atoms_files = glob.glob(os.path.join(path2atoms, \"*.pkl\"))\n",
    "print(len(atoms_files))"
   ]
  },
  {
   "cell_type": "code",
   "execution_count": 82,
   "metadata": {},
   "outputs": [],
   "source": [
    "# divide atoms_files into 5 and move to each directory\n",
    "import shutil\n",
    "from glob import glob\n",
    "\n",
    "path2atoms = \"/home/y1u0d2/result/qe/Si/amorphous/qe\"\n",
    "path2root = '/home/y1u0d2/result/qe/Si/amorphous/20230611'\n",
    "\n",
    "atoms_dirs = glob(os.path.join(path2atoms, \"ex*\"))\n",
    "print(len(atoms_dirs))\n",
    "\n",
    "n_divide = len(atoms_dirs) // 5\n",
    "for i in range(5):\n",
    "    path2save = os.path.join(path2root, f\"amorphous_atoms_{i}\")\n",
    "    os.makedirs(path2save, exist_ok=True)\n",
    "    for atom_d in atoms_dirs[i*n_divide:(i+1)*n_divide]:\n",
    "        # copy directory\n",
    "        shutil.copytree(atom_d, os.path.join(path2save, os.path.basename(atom_d)))"
   ]
  },
  {
   "cell_type": "code",
   "execution_count": 8,
   "metadata": {},
   "outputs": [],
   "source": [
    "path2target = \"/home/y1u0d2/result/qe/Si/amorphous/20230611/amorphous_atoms_0\"\n",
    "atoms_dirs = glob(os.path.join(path2target, \"ex*\"))\n",
    "n_parallel = 40\n",
    "\n",
    "for i, atom_dir in enumerate(atoms_dirs):\n",
    "    # run qe\n",
    "    try:\n",
    "        process = subprocess.Popen(\n",
    "            f'mpiexec.hydra -n {n_parallel} -machine $TMPDIR/machines pw.x -in {atom_dir}/scf.in > {atom_dir}/scf.out',\n",
    "            shell=True)\n",
    "        process.wait()\n",
    "    except:\n",
    "        continue"
   ]
  },
  {
   "cell_type": "code",
   "execution_count": null,
   "metadata": {},
   "outputs": [],
   "source": []
  }
 ],
 "metadata": {
  "kernelspec": {
   "display_name": "mlp",
   "language": "python",
   "name": "python3"
  },
  "language_info": {
   "codemirror_mode": {
    "name": "ipython",
    "version": 3
   },
   "file_extension": ".py",
   "mimetype": "text/x-python",
   "name": "python",
   "nbconvert_exporter": "python",
   "pygments_lexer": "ipython3",
   "version": "3.11.0"
  },
  "orig_nbformat": 4
 },
 "nbformat": 4,
 "nbformat_minor": 2
}
