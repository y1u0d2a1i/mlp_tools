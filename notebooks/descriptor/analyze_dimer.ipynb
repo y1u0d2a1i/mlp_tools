{
 "cells": [
  {
   "cell_type": "code",
   "execution_count": 1,
   "metadata": {},
   "outputs": [
    {
     "name": "stdout",
     "output_type": "stream",
     "text": [
      "WARNING:tensorflow:From /home/y1u0d2/anaconda3/envs/deepmd/lib/python3.10/site-packages/tensorflow/python/compat/v2_compat.py:107: disable_resource_variables (from tensorflow.python.ops.variable_scope) is deprecated and will be removed in a future version.\n",
      "Instructions for updating:\n",
      "non-resource variables are not supported in the long term\n"
     ]
    },
    {
     "name": "stderr",
     "output_type": "stream",
     "text": [
      "WARNING:root:To get the best performance, it is recommended to adjust the number of threads by setting the environment variables OMP_NUM_THREADS, TF_INTRA_OP_PARALLELISM_THREADS, and TF_INTER_OP_PARALLELISM_THREADS.\n",
      "WARNING:root:Environment variable KMP_BLOCKTIME is empty. Use the default value 0\n",
      "WARNING:root:Environment variable KMP_AFFINITY is empty. Use the default value granularity=fine,verbose,compact,1,0\n",
      "/home/y1u0d2/anaconda3/envs/deepmd/lib/python3.10/importlib/__init__.py:169: UserWarning: The NumPy module was reloaded (imported a second time). This can in some cases result in small but subtle issues and is discouraged.\n",
      "  _bootstrap._exec(spec, module)\n",
      "/home/y1u0d2/anaconda3/envs/deepmd/lib/python3.10/site-packages/ovito/extensions/averaging.py:2: UserWarning: Did you accidentally install the OVITO package from the PyPI repository in an Anaconda/Miniconda Python interpreter using the 'pip' command? Note that this will likely lead to conflicts with existing libraries in the Anaconda environment, and loading of the OVITO module may subsequently fail with an error related to the Qt framework. In such a case, please uninstall the OVITO pip package first by running 'pip uninstall -y ovito PySide2 PySide6' and then install the OVITO for Anaconda package using the correct command: \n",
      "\n",
      "    conda install --strict-channel-priority -c https://conda.ovito.org -c conda-forge ovito\n",
      "\n",
      "Visit https://www.ovito.org/python-downloads/ for further installation instructions. If you rather want to suppress this warning, insert the following code at the top of your Python script:\n",
      "\n",
      "  import warnings\n",
      "  warnings.filterwarnings('ignore', message='.*OVITO.*PyPI')\n",
      "\n",
      "  import ovito.extensions.pyscript\n"
     ]
    }
   ],
   "source": [
    "import numpy as np\n",
    "import pandas as pd\n",
    "import os\n",
    "from deepmd.infer import DeepPot\n",
    "from glob import glob\n",
    "from mlptools.io.read import read_from_dp_data, read_from_lmp_dump\n",
    "from mlptools.descriptor.dp import get_descriptor_vector, get_predictions\n",
    "\n",
    "import matplotlib.pyplot as plt\n",
    "import seaborn as sns"
   ]
  },
  {
   "cell_type": "code",
   "execution_count": 2,
   "metadata": {},
   "outputs": [
    {
     "name": "stderr",
     "output_type": "stream",
     "text": [
      "2023-02-24 09:31:06.556172: I tensorflow/core/platform/cpu_feature_guard.cc:193] This TensorFlow binary is optimized with oneAPI Deep Neural Network Library (oneDNN) to use the following CPU instructions in performance-critical operations:  SSE4.1 SSE4.2 AVX AVX2 FMA\n",
      "To enable them in other operations, rebuild TensorFlow with the appropriate compiler flags.\n",
      "2023-02-24 09:31:06.783105: I tensorflow/stream_executor/cuda/cuda_gpu_executor.cc:975] successful NUMA node read from SysFS had negative value (-1), but there must be at least one NUMA node, so returning NUMA node zero\n",
      "2023-02-24 09:31:06.783423: I tensorflow/stream_executor/cuda/cuda_gpu_executor.cc:975] successful NUMA node read from SysFS had negative value (-1), but there must be at least one NUMA node, so returning NUMA node zero\n",
      "2023-02-24 09:31:06.819249: I tensorflow/stream_executor/cuda/cuda_gpu_executor.cc:975] successful NUMA node read from SysFS had negative value (-1), but there must be at least one NUMA node, so returning NUMA node zero\n",
      "2023-02-24 09:31:06.819651: I tensorflow/stream_executor/cuda/cuda_gpu_executor.cc:975] successful NUMA node read from SysFS had negative value (-1), but there must be at least one NUMA node, so returning NUMA node zero\n",
      "2023-02-24 09:31:06.819936: I tensorflow/stream_executor/cuda/cuda_gpu_executor.cc:975] successful NUMA node read from SysFS had negative value (-1), but there must be at least one NUMA node, so returning NUMA node zero\n",
      "2023-02-24 09:31:06.820209: I tensorflow/stream_executor/cuda/cuda_gpu_executor.cc:975] successful NUMA node read from SysFS had negative value (-1), but there must be at least one NUMA node, so returning NUMA node zero\n",
      "2023-02-24 09:31:07.344618: I tensorflow/stream_executor/cuda/cuda_gpu_executor.cc:975] successful NUMA node read from SysFS had negative value (-1), but there must be at least one NUMA node, so returning NUMA node zero\n",
      "2023-02-24 09:31:07.344994: I tensorflow/stream_executor/cuda/cuda_gpu_executor.cc:975] successful NUMA node read from SysFS had negative value (-1), but there must be at least one NUMA node, so returning NUMA node zero\n",
      "2023-02-24 09:31:07.345288: I tensorflow/stream_executor/cuda/cuda_gpu_executor.cc:975] successful NUMA node read from SysFS had negative value (-1), but there must be at least one NUMA node, so returning NUMA node zero\n",
      "2023-02-24 09:31:07.345571: I tensorflow/stream_executor/cuda/cuda_gpu_executor.cc:975] successful NUMA node read from SysFS had negative value (-1), but there must be at least one NUMA node, so returning NUMA node zero\n",
      "2023-02-24 09:31:07.345850: I tensorflow/stream_executor/cuda/cuda_gpu_executor.cc:975] successful NUMA node read from SysFS had negative value (-1), but there must be at least one NUMA node, so returning NUMA node zero\n",
      "2023-02-24 09:31:07.346094: I tensorflow/core/common_runtime/gpu/gpu_device.cc:1532] Created device /job:localhost/replica:0/task:0/device:GPU:0 with 14463 MB memory:  -> device: 0, name: Quadro RTX 5000, pci bus id: 0000:01:00.0, compute capability: 7.5\n",
      "2023-02-24 09:31:07.346598: I tensorflow/stream_executor/cuda/cuda_gpu_executor.cc:975] successful NUMA node read from SysFS had negative value (-1), but there must be at least one NUMA node, so returning NUMA node zero\n",
      "2023-02-24 09:31:07.346845: I tensorflow/core/common_runtime/gpu/gpu_device.cc:1532] Created device /job:localhost/replica:0/task:0/device:GPU:1 with 14466 MB memory:  -> device: 1, name: Quadro RTX 5000, pci bus id: 0000:81:00.0, compute capability: 7.5\n",
      "2023-02-24 09:31:07.347211: I tensorflow/core/common_runtime/process_util.cc:146] Creating new thread pool with default inter op setting: 2. Tune using inter_op_parallelism_threads for best performance.\n",
      "2023-02-24 09:31:07.352564: I tensorflow/compiler/mlir/mlir_graph_optimization_pass.cc:354] MLIR V1 optimization pass is not enabled\n"
     ]
    }
   ],
   "source": [
    "path2dump = '/home/y1u0d2/result/lammps/scripts/Si/sputtering/deepmd/model26/0deg_100eV/dump.lammpstrj'\n",
    "path2model = '/home/y1u0d2/result/deepmd/Si/27/graph.pb'\n",
    "\n",
    "path2data = '/home/y1u0d2/result/deepmd/Si/27/data'\n",
    "path2test = os.path.join(path2data, 'test')\n",
    "path2train = os.path.join(path2data, 'train')\n",
    "\n",
    "model = DeepPot(path2model)\n",
    "\n",
    "all_atoms = []\n",
    "for path in glob(f'{path2test}/mp*'):\n",
    "    all_atoms += read_from_dp_data(os.path.join(path, 'set.000'))\n",
    "\n",
    "for path in glob(f'{path2train}/mp*'):\n",
    "    all_atoms += read_from_dp_data(os.path.join(path, 'set.000'))"
   ]
  },
  {
   "cell_type": "code",
   "execution_count": 3,
   "metadata": {},
   "outputs": [],
   "source": [
    "all_dimer = [atoms for atoms in all_atoms if atoms.structure_id =='mp-149_dimer']"
   ]
  },
  {
   "cell_type": "code",
   "execution_count": 4,
   "metadata": {},
   "outputs": [
    {
     "name": "stderr",
     "output_type": "stream",
     "text": [
      "OMP: Info #155: KMP_AFFINITY: Initial OS proc set respected: 0-31\n",
      "OMP: Info #216: KMP_AFFINITY: decoding x2APIC ids.\n",
      "OMP: Info #157: KMP_AFFINITY: 32 available OS procs\n",
      "OMP: Info #158: KMP_AFFINITY: Uniform topology\n",
      "OMP: Info #287: KMP_AFFINITY: topology layer \"LL cache\" is equivalent to \"socket\".\n",
      "OMP: Info #192: KMP_AFFINITY: 1 socket x 32 cores/socket x 1 thread/core (32 total cores)\n",
      "OMP: Info #218: KMP_AFFINITY: OS proc to physical thread map:\n",
      "OMP: Info #172: KMP_AFFINITY: OS proc 0 maps to socket 0 core 0 thread 0 \n",
      "OMP: Info #172: KMP_AFFINITY: OS proc 1 maps to socket 0 core 1 thread 0 \n",
      "OMP: Info #172: KMP_AFFINITY: OS proc 2 maps to socket 0 core 2 thread 0 \n",
      "OMP: Info #172: KMP_AFFINITY: OS proc 3 maps to socket 0 core 3 thread 0 \n",
      "OMP: Info #172: KMP_AFFINITY: OS proc 4 maps to socket 0 core 4 thread 0 \n",
      "OMP: Info #172: KMP_AFFINITY: OS proc 5 maps to socket 0 core 5 thread 0 \n",
      "OMP: Info #172: KMP_AFFINITY: OS proc 6 maps to socket 0 core 6 thread 0 \n",
      "OMP: Info #172: KMP_AFFINITY: OS proc 7 maps to socket 0 core 7 thread 0 \n",
      "OMP: Info #172: KMP_AFFINITY: OS proc 8 maps to socket 0 core 8 thread 0 \n",
      "OMP: Info #172: KMP_AFFINITY: OS proc 9 maps to socket 0 core 9 thread 0 \n",
      "OMP: Info #172: KMP_AFFINITY: OS proc 10 maps to socket 0 core 10 thread 0 \n",
      "OMP: Info #172: KMP_AFFINITY: OS proc 11 maps to socket 0 core 11 thread 0 \n",
      "OMP: Info #172: KMP_AFFINITY: OS proc 12 maps to socket 0 core 12 thread 0 \n",
      "OMP: Info #172: KMP_AFFINITY: OS proc 13 maps to socket 0 core 13 thread 0 \n",
      "OMP: Info #172: KMP_AFFINITY: OS proc 14 maps to socket 0 core 14 thread 0 \n",
      "OMP: Info #172: KMP_AFFINITY: OS proc 15 maps to socket 0 core 15 thread 0 \n",
      "OMP: Info #172: KMP_AFFINITY: OS proc 16 maps to socket 0 core 16 thread 0 \n",
      "OMP: Info #172: KMP_AFFINITY: OS proc 17 maps to socket 0 core 17 thread 0 \n",
      "OMP: Info #172: KMP_AFFINITY: OS proc 18 maps to socket 0 core 18 thread 0 \n",
      "OMP: Info #172: KMP_AFFINITY: OS proc 19 maps to socket 0 core 19 thread 0 \n",
      "OMP: Info #172: KMP_AFFINITY: OS proc 20 maps to socket 0 core 20 thread 0 \n",
      "OMP: Info #172: KMP_AFFINITY: OS proc 21 maps to socket 0 core 21 thread 0 \n",
      "OMP: Info #172: KMP_AFFINITY: OS proc 22 maps to socket 0 core 22 thread 0 \n",
      "OMP: Info #172: KMP_AFFINITY: OS proc 23 maps to socket 0 core 23 thread 0 \n",
      "OMP: Info #172: KMP_AFFINITY: OS proc 24 maps to socket 0 core 24 thread 0 \n",
      "OMP: Info #172: KMP_AFFINITY: OS proc 25 maps to socket 0 core 25 thread 0 \n",
      "OMP: Info #172: KMP_AFFINITY: OS proc 26 maps to socket 0 core 26 thread 0 \n",
      "OMP: Info #172: KMP_AFFINITY: OS proc 27 maps to socket 0 core 27 thread 0 \n",
      "OMP: Info #172: KMP_AFFINITY: OS proc 28 maps to socket 0 core 28 thread 0 \n",
      "OMP: Info #172: KMP_AFFINITY: OS proc 29 maps to socket 0 core 29 thread 0 \n",
      "OMP: Info #172: KMP_AFFINITY: OS proc 30 maps to socket 0 core 30 thread 0 \n",
      "OMP: Info #172: KMP_AFFINITY: OS proc 31 maps to socket 0 core 31 thread 0 \n",
      "OMP: Info #254: KMP_AFFINITY: pid 612425 tid 612488 thread 1 bound to OS proc set 1\n",
      "OMP: Info #254: KMP_AFFINITY: pid 612425 tid 612491 thread 2 bound to OS proc set 2\n",
      "OMP: Info #254: KMP_AFFINITY: pid 612425 tid 612492 thread 3 bound to OS proc set 3\n",
      "OMP: Info #254: KMP_AFFINITY: pid 612425 tid 612493 thread 4 bound to OS proc set 4\n",
      "OMP: Info #254: KMP_AFFINITY: pid 612425 tid 612494 thread 5 bound to OS proc set 5\n",
      "OMP: Info #254: KMP_AFFINITY: pid 612425 tid 612496 thread 7 bound to OS proc set 7\n",
      "OMP: Info #254: KMP_AFFINITY: pid 612425 tid 612497 thread 8 bound to OS proc set 8\n",
      "OMP: Info #254: KMP_AFFINITY: pid 612425 tid 612495 thread 6 bound to OS proc set 6\n",
      "OMP: Info #254: KMP_AFFINITY: pid 612425 tid 612498 thread 9 bound to OS proc set 9\n",
      "OMP: Info #254: KMP_AFFINITY: pid 612425 tid 612499 thread 10 bound to OS proc set 10\n",
      "OMP: Info #254: KMP_AFFINITY: pid 612425 tid 612500 thread 11 bound to OS proc set 11\n",
      "OMP: Info #254: KMP_AFFINITY: pid 612425 tid 612501 thread 12 bound to OS proc set 12\n",
      "OMP: Info #254: KMP_AFFINITY: pid 612425 tid 612503 thread 14 bound to OS proc set 14\n",
      "OMP: Info #254: KMP_AFFINITY: pid 612425 tid 612502 thread 13 bound to OS proc set 13\n",
      "OMP: Info #254: KMP_AFFINITY: pid 612425 tid 612504 thread 15 bound to OS proc set 15\n",
      "OMP: Info #254: KMP_AFFINITY: pid 612425 tid 612505 thread 16 bound to OS proc set 16\n",
      "OMP: Info #254: KMP_AFFINITY: pid 612425 tid 612506 thread 17 bound to OS proc set 17\n",
      "OMP: Info #254: KMP_AFFINITY: pid 612425 tid 612508 thread 19 bound to OS proc set 19\n",
      "OMP: Info #254: KMP_AFFINITY: pid 612425 tid 612507 thread 18 bound to OS proc set 18\n",
      "OMP: Info #254: KMP_AFFINITY: pid 612425 tid 612509 thread 20 bound to OS proc set 20\n",
      "OMP: Info #254: KMP_AFFINITY: pid 612425 tid 612512 thread 23 bound to OS proc set 23\n",
      "OMP: Info #254: KMP_AFFINITY: pid 612425 tid 612510 thread 21 bound to OS proc set 21\n",
      "OMP: Info #254: KMP_AFFINITY: pid 612425 tid 612511 thread 22 bound to OS proc set 22\n",
      "OMP: Info #254: KMP_AFFINITY: pid 612425 tid 612513 thread 24 bound to OS proc set 24\n",
      "OMP: Info #254: KMP_AFFINITY: pid 612425 tid 612514 thread 25 bound to OS proc set 25\n",
      "OMP: Info #254: KMP_AFFINITY: pid 612425 tid 612515 thread 26 bound to OS proc set 26\n",
      "OMP: Info #254: KMP_AFFINITY: pid 612425 tid 612516 thread 27 bound to OS proc set 27\n",
      "OMP: Info #254: KMP_AFFINITY: pid 612425 tid 612517 thread 28 bound to OS proc set 28\n",
      "OMP: Info #254: KMP_AFFINITY: pid 612425 tid 612519 thread 30 bound to OS proc set 30\n",
      "OMP: Info #254: KMP_AFFINITY: pid 612425 tid 612518 thread 29 bound to OS proc set 29\n",
      "OMP: Info #254: KMP_AFFINITY: pid 612425 tid 612520 thread 31 bound to OS proc set 31\n",
      "OMP: Info #254: KMP_AFFINITY: pid 612425 tid 612521 thread 32 bound to OS proc set 0\n",
      "OMP: Info #254: KMP_AFFINITY: pid 612425 tid 612489 thread 33 bound to OS proc set 1\n",
      "OMP: Info #254: KMP_AFFINITY: pid 612425 tid 612522 thread 34 bound to OS proc set 2\n",
      "OMP: Info #254: KMP_AFFINITY: pid 612425 tid 612523 thread 35 bound to OS proc set 3\n",
      "OMP: Info #254: KMP_AFFINITY: pid 612425 tid 612525 thread 37 bound to OS proc set 5\n",
      "OMP: Info #254: KMP_AFFINITY: pid 612425 tid 612524 thread 36 bound to OS proc set 4\n",
      "OMP: Info #254: KMP_AFFINITY: pid 612425 tid 612526 thread 38 bound to OS proc set 6\n",
      "OMP: Info #254: KMP_AFFINITY: pid 612425 tid 612527 thread 39 bound to OS proc set 7\n",
      "OMP: Info #254: KMP_AFFINITY: pid 612425 tid 612528 thread 40 bound to OS proc set 8\n",
      "OMP: Info #254: KMP_AFFINITY: pid 612425 tid 612529 thread 41 bound to OS proc set 9\n",
      "OMP: Info #254: KMP_AFFINITY: pid 612425 tid 612530 thread 42 bound to OS proc set 10\n",
      "OMP: Info #254: KMP_AFFINITY: pid 612425 tid 612531 thread 43 bound to OS proc set 11\n",
      "OMP: Info #254: KMP_AFFINITY: pid 612425 tid 612532 thread 44 bound to OS proc set 12\n",
      "OMP: Info #254: KMP_AFFINITY: pid 612425 tid 612533 thread 45 bound to OS proc set 13\n",
      "OMP: Info #254: KMP_AFFINITY: pid 612425 tid 612535 thread 47 bound to OS proc set 15\n",
      "OMP: Info #254: KMP_AFFINITY: pid 612425 tid 612534 thread 46 bound to OS proc set 14\n",
      "OMP: Info #254: KMP_AFFINITY: pid 612425 tid 612536 thread 48 bound to OS proc set 16\n",
      "OMP: Info #254: KMP_AFFINITY: pid 612425 tid 612537 thread 49 bound to OS proc set 17\n",
      "OMP: Info #254: KMP_AFFINITY: pid 612425 tid 612538 thread 50 bound to OS proc set 18\n",
      "OMP: Info #254: KMP_AFFINITY: pid 612425 tid 612539 thread 51 bound to OS proc set 19\n",
      "OMP: Info #254: KMP_AFFINITY: pid 612425 tid 612541 thread 53 bound to OS proc set 21\n",
      "OMP: Info #254: KMP_AFFINITY: pid 612425 tid 612540 thread 52 bound to OS proc set 20\n",
      "OMP: Info #254: KMP_AFFINITY: pid 612425 tid 612543 thread 55 bound to OS proc set 23\n",
      "OMP: Info #254: KMP_AFFINITY: pid 612425 tid 612542 thread 54 bound to OS proc set 22\n",
      "OMP: Info #254: KMP_AFFINITY: pid 612425 tid 612544 thread 56 bound to OS proc set 24\n",
      "OMP: Info #254: KMP_AFFINITY: pid 612425 tid 612546 thread 58 bound to OS proc set 26\n",
      "OMP: Info #254: KMP_AFFINITY: pid 612425 tid 612545 thread 57 bound to OS proc set 25\n",
      "OMP: Info #254: KMP_AFFINITY: pid 612425 tid 612548 thread 60 bound to OS proc set 28\n",
      "OMP: Info #254: KMP_AFFINITY: pid 612425 tid 612549 thread 61 bound to OS proc set 29\n",
      "OMP: Info #254: KMP_AFFINITY: pid 612425 tid 612547 thread 59 bound to OS proc set 27\n",
      "OMP: Info #254: KMP_AFFINITY: pid 612425 tid 612550 thread 62 bound to OS proc set 30\n",
      "OMP: Info #254: KMP_AFFINITY: pid 612425 tid 612551 thread 63 bound to OS proc set 31\n",
      "OMP: Info #254: KMP_AFFINITY: pid 612425 tid 612552 thread 64 bound to OS proc set 0\n"
     ]
    }
   ],
   "source": [
    "result = []\n",
    "for atoms in all_dimer:\n",
    "    distance = atoms.get_atomic_distance()\n",
    "    pred_energy, _, _ = get_predictions(atoms, model=model)\n",
    "    result.append([distance, atoms.energy, pred_energy[0][0]])"
   ]
  },
  {
   "cell_type": "code",
   "execution_count": 5,
   "metadata": {},
   "outputs": [],
   "source": [
    "energy_df = pd.DataFrame(data=np.array(result), columns=['distance', 'obs', 'pred'])"
   ]
  },
  {
   "cell_type": "code",
   "execution_count": 6,
   "metadata": {},
   "outputs": [],
   "source": [
    "energy_df['obs_shift'] = energy_df['obs'] + 1260.14108\n",
    "energy_df['pred_shift'] = energy_df['pred'] + 1260.14108"
   ]
  },
  {
   "cell_type": "code",
   "execution_count": 7,
   "metadata": {},
   "outputs": [],
   "source": [
    "energy_df = energy_df.sort_values(by='distance').reset_index(drop=True)"
   ]
  },
  {
   "cell_type": "code",
   "execution_count": 13,
   "metadata": {},
   "outputs": [
    {
     "name": "stderr",
     "output_type": "stream",
     "text": [
      "/tmp/ipykernel_612425/2355227799.py:15: UserWarning: Matplotlib is currently using module://matplotlib_inline.backend_inline, which is a non-GUI backend, so cannot show the figure.\n",
      "  fig.show()\n"
     ]
    },
    {
     "data": {
      "image/png": "[encoded data removed]",
      "text/plain": [
       "<Figure size 600x400 with 1 Axes>"
      ]
     },
     "metadata": {},
     "output_type": "display_data"
    }
   ],
   "source": [
    "fig = plt.figure(figsize=(6,4))\n",
    "ax = fig.add_subplot(111)\n",
    "fs = 14\n",
    "\n",
    "ax.plot(energy_df['distance'], energy_df['obs_shift'], label='obs', marker='o')\n",
    "ax.plot(energy_df['distance'], energy_df['pred_shift'], label='pred', marker='o')\n",
    "\n",
    "ax.legend()\n",
    "\n",
    "ax.set_xlabel('interatomic distance (Å)', fontsize=fs)\n",
    "ax.set_ylabel('energy (eV)', fontsize=fs)\n",
    "ax.tick_params(axis='x', labelsize=16)\n",
    "ax.tick_params(axis='y', labelsize=16)\n",
    "\n",
    "fig.show()"
   ]
  },
  {
   "cell_type": "code",
   "execution_count": null,
   "metadata": {},
   "outputs": [],
   "source": []
  }
 ],
 "metadata": {
  "kernelspec": {
   "display_name": "deepmd",
   "language": "python",
   "name": "python3"
  },
  "language_info": {
   "codemirror_mode": {
    "name": "ipython",
    "version": 3
   },
   "file_extension": ".py",
   "mimetype": "text/x-python",
   "name": "python",
   "nbconvert_exporter": "python",
   "pygments_lexer": "ipython3",
   "version": "3.10.9"
  },
  "orig_nbformat": 4,
  "vscode": {
   "interpreter": {
    "hash": "8cccd25dc34e6e9c0dc92d6d4a19f8dbefc2788a501f4e9b50b70f2bcd8b9e6f"
   }
  }
 },
 "nbformat": 4,
 "nbformat_minor": 2
}
